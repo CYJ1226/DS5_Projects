{
 "cells": [
  {
   "cell_type": "code",
   "execution_count": 7,
   "id": "855619b3",
   "metadata": {},
   "outputs": [
    {
     "name": "stdout",
     "output_type": "stream",
     "text": [
      "    *\n",
      "   ***\n",
      "  *****\n",
      " *******\n",
      "  *****\n",
      "   ***\n",
      "    *\n"
     ]
    }
   ],
   "source": [
    "for i in range(7):\n",
    "    if i < (7//2):\n",
    "        print(' '*(4-i) + '*'*(i*2+1))\n",
    "    else:\n",
    "        print(' '*(i-2) + '*'*(2*(6-i)+1))\n"
   ]
  },
  {
   "cell_type": "code",
   "execution_count": null,
   "id": "bfa14a60",
   "metadata": {},
   "outputs": [],
   "source": []
  }
 ],
 "metadata": {
  "kernelspec": {
   "display_name": "Python 3 (ipykernel)",
   "language": "python",
   "name": "python3"
  },
  "language_info": {
   "codemirror_mode": {
    "name": "ipython",
    "version": 3
   },
   "file_extension": ".py",
   "mimetype": "text/x-python",
   "name": "python",
   "nbconvert_exporter": "python",
   "pygments_lexer": "ipython3",
   "version": "3.9.7"
  }
 },
 "nbformat": 4,
 "nbformat_minor": 5
}
