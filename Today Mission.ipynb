{
 "cells": [
  {
   "cell_type": "code",
   "execution_count": 6,
   "id": "d1ed190b",
   "metadata": {},
   "outputs": [
    {
     "name": "stdout",
     "output_type": "stream",
     "text": [
      "    *\n",
      "   ***\n",
      "  *****\n",
      " *******\n",
      "  *****\n",
      "   ***\n",
      "    *\n"
     ]
    }
   ],
   "source": [
    "for i in range(7):\n",
    "    if i < (7//2):\n",
    "        print(' '*(4-i) + '*'*(i*2+1))\n",
    "    else:\n",
    "        print(' '*(i-2) + '*'*(2*(6-i)+1))\n",
    "\n",
    "\n",
    "# 1234 6789\n",
    "# 123   789\n",
    "# 3\n",
    "# 2\n",
    "# 1\n",
    "\n",
    "# ????*???? 0\n",
    "# ???***??? 1\n",
    "# ??*****?? 2\n",
    "# ?*******? 3   1 7\n",
    "# ??*****?? 4   2 5\n",
    "# ???***??? 5   3 3\n",
    "# ????*???? 6"
   ]
  },
  {
   "cell_type": "code",
   "execution_count": null,
   "id": "5a1e6192",
   "metadata": {},
   "outputs": [],
   "source": []
  }
 ],
 "metadata": {
  "kernelspec": {
   "display_name": "Python 3 (ipykernel)",
   "language": "python",
   "name": "python3"
  },
  "language_info": {
   "codemirror_mode": {
    "name": "ipython",
    "version": 3
   },
   "file_extension": ".py",
   "mimetype": "text/x-python",
   "name": "python",
   "nbconvert_exporter": "python",
   "pygments_lexer": "ipython3",
   "version": "3.9.7"
  }
 },
 "nbformat": 4,
 "nbformat_minor": 5
}
