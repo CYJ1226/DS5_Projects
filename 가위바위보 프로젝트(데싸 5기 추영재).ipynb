{
 "cells": [
  {
   "cell_type": "code",
   "execution_count": 1,
   "id": "6c767d88",
   "metadata": {},
   "outputs": [
    {
     "name": "stdout",
     "output_type": "stream",
     "text": [
      "2.6.0\n",
      "1.22.2\n"
     ]
    }
   ],
   "source": [
    "import tensorflow as tf\n",
    "import numpy as np\n",
    "\n",
    "print(tf.__version__)\n",
    "print(np.__version__)"
   ]
  },
  {
   "cell_type": "code",
   "execution_count": 2,
   "id": "e7b9dabc",
   "metadata": {},
   "outputs": [],
   "source": [
    "from PIL import Image\n",
    "import glob\n",
    "import os"
   ]
  },
  {
   "cell_type": "markdown",
   "id": "82013891",
   "metadata": {},
   "source": [
    "# 가위바위보 이미지 28X28 사이즈로 reshape"
   ]
  },
  {
   "cell_type": "code",
   "execution_count": 327,
   "id": "c4929607",
   "metadata": {},
   "outputs": [],
   "source": [
    "def resize_image(img_path):\n",
    "    images = glob.glob(img_path + '/*.jpg')\n",
    "    print(len(images), ' images to be resized.')\n",
    "    \n",
    "    # 파일 모두 사이즈 변경\n",
    "    target_size = (28, 28)\n",
    "    for img in images:\n",
    "        old_img = Image.open(img)\n",
    "        new_img = old_img.resize(target_size, Image.ANTIALIAS)\n",
    "        new_img.save(img, 'JPEG')\n",
    "        \n",
    "    print(len(images), ' images resized.')"
   ]
  },
  {
   "cell_type": "code",
   "execution_count": 328,
   "id": "935f08e5",
   "metadata": {},
   "outputs": [
    {
     "name": "stdout",
     "output_type": "stream",
     "text": [
      "202  images to be resized.\n",
      "202  images resized.\n",
      "202  images to be resized.\n",
      "202  images resized.\n",
      "202  images to be resized.\n",
      "202  images resized.\n"
     ]
    }
   ],
   "source": [
    "image_dir_path = os.getenv('HOME') + '/aiffel/DL/data/rock_scissor_paper/scissor2'\n",
    "resize_image(image_dir_path)\n",
    "\n",
    "image_dir_path = os.getenv('HOME') + '/aiffel/DL/data/rock_scissor_paper/rock2'\n",
    "resize_image(image_dir_path)\n",
    "\n",
    "image_dir_path = os.getenv('HOME') + '/aiffel/DL/data/rock_scissor_paper/paper2'\n",
    "resize_image(image_dir_path)"
   ]
  },
  {
   "cell_type": "markdown",
   "id": "9c6f9499",
   "metadata": {},
   "source": [
    "# 데이터 불러오기 / 정규화"
   ]
  },
  {
   "cell_type": "code",
   "execution_count": 329,
   "id": "e609bbec",
   "metadata": {},
   "outputs": [
    {
     "name": "stdout",
     "output_type": "stream",
     "text": [
      "학습데이터(x_train)의 이미지 개수는 606 입니다.\n",
      "x_train shape: (606, 28, 28, 3)\n",
      "y_train shape: (606,)\n"
     ]
    }
   ],
   "source": [
    "import numpy as np\n",
    "\n",
    "def load_data(img_path, number_of_data=300):  # 가위바위보 이미지 개수 총합에 주의하세요.\n",
    "    # 가위 : 0, 바위 : 1, 보 : 2\n",
    "    img_size=28\n",
    "    color=3\n",
    "    #이미지 데이터와 라벨(가위 : 0, 바위 : 1, 보 : 2) 데이터를 담을 행렬(matrix) 영역을 생성합니다.\n",
    "    imgs=np.zeros(number_of_data*img_size*img_size*color,dtype=np.int32).reshape(number_of_data,img_size,img_size,color)\n",
    "    labels=np.zeros(number_of_data,dtype=np.int32)\n",
    "\n",
    "    idx=0\n",
    "    for file in glob.iglob(img_path+'/scissor2/*.jpg'):\n",
    "        img = np.array(Image.open(file),dtype=np.int32)\n",
    "        imgs[idx,:,:,:]=img    # 데이터 영역에 이미지 행렬을 복사\n",
    "        labels[idx]=0   # 가위 : 0\n",
    "        idx=idx+1\n",
    "\n",
    "    for file in glob.iglob(img_path+'/rock2/*.jpg'):\n",
    "        img = np.array(Image.open(file),dtype=np.int32)\n",
    "        imgs[idx,:,:,:]=img    # 데이터 영역에 이미지 행렬을 복사\n",
    "        labels[idx]=1   # 바위 : 1\n",
    "        idx=idx+1  \n",
    "    \n",
    "    for file in glob.iglob(img_path+'/paper2/*.jpg'):\n",
    "        img = np.array(Image.open(file),dtype=np.int32)\n",
    "        imgs[idx,:,:,:]=img    # 데이터 영역에 이미지 행렬을 복사\n",
    "        labels[idx]=2   # 보 : 2\n",
    "        idx=idx+1\n",
    "        \n",
    "    print(\"학습데이터(x_train)의 이미지 개수는\", idx,\"입니다.\")\n",
    "    return imgs, labels\n",
    "\n",
    "image_dir_path = os.getenv(\"HOME\") + \"/aiffel/DL/data/rock_scissor_paper\"\n",
    "(x_train, y_train)=load_data(image_dir_path, 606)\n",
    "x_train = x_train/255.0   # 입력은 0~1 사이의 값으로 정규화\n",
    "\n",
    "print(\"x_train shape: {}\".format(x_train.shape))\n",
    "print(\"y_train shape: {}\".format(y_train.shape))"
   ]
  },
  {
   "cell_type": "code",
   "execution_count": 330,
   "id": "16142498",
   "metadata": {},
   "outputs": [
    {
     "name": "stdout",
     "output_type": "stream",
     "text": [
      "라벨:  0\n"
     ]
    },
    {
     "data": {
      "image/png": "[encoded data removed]",
      "text/plain": [
       "<Figure size 432x288 with 1 Axes>"
      ]
     },
     "metadata": {
      "needs_background": "light"
     },
     "output_type": "display_data"
    }
   ],
   "source": [
    "# 데이터 확인\n",
    "import matplotlib.pyplot as plt\n",
    "\n",
    "plt.imshow(x_train[0])\n",
    "print('라벨: ', y_train[0])"
   ]
  },
  {
   "cell_type": "code",
   "execution_count": 331,
   "id": "c2aef318",
   "metadata": {},
   "outputs": [
    {
     "name": "stdout",
     "output_type": "stream",
     "text": [
      "Model: \"sequential_32\"\n",
      "_________________________________________________________________\n",
      "Layer (type)                 Output Shape              Param #   \n",
      "=================================================================\n",
      "conv2d_64 (Conv2D)           (None, 26, 26, 16)        448       \n",
      "_________________________________________________________________\n",
      "max_pooling2d_64 (MaxPooling (None, 13, 13, 16)        0         \n",
      "_________________________________________________________________\n",
      "conv2d_65 (Conv2D)           (None, 11, 11, 32)        4640      \n",
      "_________________________________________________________________\n",
      "max_pooling2d_65 (MaxPooling (None, 5, 5, 32)          0         \n",
      "_________________________________________________________________\n",
      "flatten_32 (Flatten)         (None, 800)               0         \n",
      "_________________________________________________________________\n",
      "dense_64 (Dense)             (None, 32)                25632     \n",
      "_________________________________________________________________\n",
      "dense_65 (Dense)             (None, 3)                 99        \n",
      "=================================================================\n",
      "Total params: 30,819\n",
      "Trainable params: 30,819\n",
      "Non-trainable params: 0\n",
      "_________________________________________________________________\n"
     ]
    }
   ],
   "source": [
    "# 모델 설계\n",
    "from tensorflow import keras\n",
    "\n",
    "n_channel_1 = 16\n",
    "n_channel_2 = 32\n",
    "n_dense = 32\n",
    "n_train_epoch = 8\n",
    "\n",
    "model = keras.models.Sequential()\n",
    "model.add(keras.layers.Conv2D(n_channel_1, (3,3), activation='relu', input_shape=(28, 28, 3)))\n",
    "model.add(keras.layers.MaxPool2D(2,2))\n",
    "model.add(keras.layers.Conv2D(n_channel_2, (3,3), activation='relu'))\n",
    "model.add(keras.layers.MaxPooling2D((2,2)))\n",
    "model.add(keras.layers.Flatten())\n",
    "model.add(keras.layers.Dense(n_dense, activation='relu'))\n",
    "model.add(keras.layers.Dense(3, activation='softmax'))\n",
    "\n",
    "model.summary()"
   ]
  },
  {
   "cell_type": "markdown",
   "id": "c2d1741c",
   "metadata": {},
   "source": [
    "# 훈련데이터에서 검증데이터 분리"
   ]
  },
  {
   "cell_type": "code",
   "execution_count": 332,
   "id": "aec07e8b",
   "metadata": {},
   "outputs": [],
   "source": [
    "x_tr = np.concatenate((x_train[:150], x_train[202:352], x_train[404:554]))\n",
    "y_tr = np.concatenate((y_train[:150], y_train[202:352],  y_train[404:554]))\n",
    "x_val = np.concatenate((x_train[150:202], x_train[352:404], x_train[554:606]))\n",
    "y_val = np.concatenate((y_train[150:202], y_train[352:404],  y_train[554:606]))"
   ]
  },
  {
   "cell_type": "code",
   "execution_count": 333,
   "id": "bd019e48",
   "metadata": {},
   "outputs": [
    {
     "name": "stdout",
     "output_type": "stream",
     "text": [
      "Epoch 1/8\n",
      "19/19 [==============================] - 1s 37ms/step - loss: 1.1042 - accuracy: 0.3168 - val_loss: 1.0954 - val_accuracy: 0.3333\n",
      "Epoch 2/8\n",
      "19/19 [==============================] - 0s 22ms/step - loss: 1.0882 - accuracy: 0.3647 - val_loss: 1.0699 - val_accuracy: 0.3397\n",
      "Epoch 3/8\n",
      "19/19 [==============================] - 0s 23ms/step - loss: 1.0429 - accuracy: 0.5231 - val_loss: 0.9980 - val_accuracy: 0.6090\n",
      "Epoch 4/8\n",
      "19/19 [==============================] - 0s 26ms/step - loss: 0.9375 - accuracy: 0.5941 - val_loss: 0.8445 - val_accuracy: 0.6667\n",
      "Epoch 5/8\n",
      "19/19 [==============================] - 0s 23ms/step - loss: 0.7406 - accuracy: 0.8003 - val_loss: 0.5975 - val_accuracy: 0.8077\n",
      "Epoch 6/8\n",
      "19/19 [==============================] - 0s 25ms/step - loss: 0.5172 - accuracy: 0.8993 - val_loss: 0.3712 - val_accuracy: 0.9295\n",
      "Epoch 7/8\n",
      "19/19 [==============================] - 0s 25ms/step - loss: 0.3415 - accuracy: 0.9323 - val_loss: 0.2680 - val_accuracy: 0.9423\n",
      "Epoch 8/8\n",
      "19/19 [==============================] - 0s 24ms/step - loss: 0.2760 - accuracy: 0.9307 - val_loss: 0.2191 - val_accuracy: 0.9615\n"
     ]
    }
   ],
   "source": [
    "model.compile(optimizer='adam',\n",
    "                            loss='sparse_categorical_crossentropy',\n",
    "                            metrics = ['accuracy'])\n",
    "hist = model.fit(x_train, y_train, epochs=n_train_epoch, validation_data=(x_val, y_val))"
   ]
  },
  {
   "cell_type": "code",
   "execution_count": 334,
   "id": "c994bb0a",
   "metadata": {},
   "outputs": [],
   "source": [
    "import numpy as np\n",
    "\n",
    "def load_data(img_path, number_of_data=300):  # 가위바위보 이미지 개수 총합에 주의하세요.\n",
    "    # 가위 : 0, 바위 : 1, 보 : 2\n",
    "    img_size=28\n",
    "    color=3\n",
    "    #이미지 데이터와 라벨(가위 : 0, 바위 : 1, 보 : 2) 데이터를 담을 행렬(matrix) 영역을 생성합니다.\n",
    "    imgs=np.zeros(number_of_data*img_size*img_size*color,dtype=np.int32).reshape(number_of_data,img_size,img_size,color)\n",
    "    labels=np.zeros(number_of_data,dtype=np.int32)\n",
    "\n",
    "    idx=0\n",
    "    for file in glob.iglob(img_path+'/scissor/*.jpg'):\n",
    "        img = np.array(Image.open(file),dtype=np.int32)\n",
    "        imgs[idx,:,:,:]=img    # 데이터 영역에 이미지 행렬을 복사\n",
    "        labels[idx]=0   # 가위 : 0\n",
    "        idx=idx+1\n",
    "\n",
    "    for file in glob.iglob(img_path+'/rock/*.jpg'):\n",
    "        img = np.array(Image.open(file),dtype=np.int32)\n",
    "        imgs[idx,:,:,:]=img    # 데이터 영역에 이미지 행렬을 복사\n",
    "        labels[idx]=1   # 바위 : 1\n",
    "        idx=idx+1  \n",
    "    \n",
    "    for file in glob.iglob(img_path+'/paper/*.jpg'):\n",
    "        img = np.array(Image.open(file),dtype=np.int32)\n",
    "        imgs[idx,:,:,:]=img    # 데이터 영역에 이미지 행렬을 복사\n",
    "        labels[idx]=2   # 보 : 2\n",
    "        idx=idx+1\n",
    "        \n",
    "    print(\"테스트 데이터(x_train)의 이미지 개수는\", idx,\"입니다.\")\n",
    "    return imgs, labels"
   ]
  },
  {
   "cell_type": "code",
   "execution_count": 335,
   "id": "beef484d",
   "metadata": {},
   "outputs": [
    {
     "name": "stdout",
     "output_type": "stream",
     "text": [
      "100  images to be resized.\n",
      "100  images resized.\n",
      "100  images to be resized.\n",
      "100  images resized.\n",
      "100  images to be resized.\n",
      "100  images resized.\n",
      "테스트 데이터(x_train)의 이미지 개수는 300 입니다.\n",
      "x_test shape: (300, 28, 28, 3)\n",
      "y_test shape: (300,)\n"
     ]
    }
   ],
   "source": [
    "# test 데이터 불러오기\n",
    "image_dir_path = os.getenv(\"HOME\") + \"/aiffel/DL/data/rock_scissor_paper/scissor\"\n",
    "resize_image(image_dir_path)\n",
    "\n",
    "image_dir_path = os.getenv(\"HOME\") + \"/aiffel/DL/data/rock_scissor_paper/rock\"\n",
    "resize_image(image_dir_path)\n",
    "\n",
    "image_dir_path = os.getenv(\"HOME\") + \"/aiffel/DL/data/rock_scissor_paper/paper\"\n",
    "resize_image(image_dir_path)\n",
    "\n",
    "image_dir_path = os.getenv(\"HOME\") + \"/aiffel/DL/data/rock_scissor_paper\"\n",
    "(x_test, y_test)=load_data(image_dir_path)\n",
    "x_test_norm = x_test/255.0   # 입력은 0~1 사이의 값으로 정규화\n",
    "print(\"x_test shape: {}\".format(x_test.shape))\n",
    "print(\"y_test shape: {}\".format(y_test.shape))"
   ]
  },
  {
   "cell_type": "code",
   "execution_count": 336,
   "id": "78cee7d8",
   "metadata": {},
   "outputs": [
    {
     "name": "stdout",
     "output_type": "stream",
     "text": [
      "10/10 - 0s - loss: 5.0542 - accuracy: 0.9400\n",
      "test_loss: 5.054183006286621 \n",
      "test_accuracy: 0.9399999976158142\n"
     ]
    }
   ],
   "source": [
    "test_loss, test_accuracy = model.evaluate(x_test, y_test, verbose=2)\n",
    "print(\"test_loss: {} \".format(test_loss))\n",
    "print(\"test_accuracy: {}\".format(test_accuracy))"
   ]
  },
  {
   "cell_type": "code",
   "execution_count": 337,
   "id": "6346fef3",
   "metadata": {},
   "outputs": [],
   "source": [
    "hist = hist.history\n",
    "loss = hist['loss']\n",
    "val_loss = hist['val_loss']\n",
    "accuracy = hist['accuracy']\n",
    "val_accuracy = hist['val_accuracy']\n",
    "epochs = range(1, len(loss) + 1)"
   ]
  },
  {
   "cell_type": "markdown",
   "id": "21393716",
   "metadata": {},
   "source": [
    "### 힉습 결과 시각화(train acc / train loss / val acc / val loss)"
   ]
  },
  {
   "cell_type": "code",
   "execution_count": 338,
   "id": "48cb9aed",
   "metadata": {},
   "outputs": [
    {
     "data": {
      "image/png": "[encoded data removed]",
      "text/plain": [
       "<Figure size 720x360 with 2 Axes>"
      ]
     },
     "metadata": {
      "needs_background": "light"
     },
     "output_type": "display_data"
    }
   ],
   "source": [
    "plt.figure(figsize=(10, 5))\n",
    "\n",
    "# loss\n",
    "plt.subplot(1, 2, 1) \n",
    "plt.plot(epochs, loss, 'bo-', label='Training loss')\n",
    "plt.plot(epochs, val_loss, 'ro-', label='Validation loss')\n",
    "plt.title('Training and Validation Loss')\n",
    "plt.xlabel('Epochs')\n",
    "plt.ylabel('Loss')\n",
    "plt.legend()\n",
    "\n",
    "# accuracy\n",
    "plt.subplot(1, 2, 2)\n",
    "plt.plot(epochs, accuracy, 'bo-', label='Training accuracy')\n",
    "plt.plot(epochs, val_accuracy, 'ro-', label='Validation accuracy')\n",
    "plt.title('Training and Validation Accuracy')\n",
    "plt.xlabel('Epochs')\n",
    "plt.ylabel('Accuracy')\n",
    "plt.legend()\n",
    "\n",
    "plt.tight_layout()\n",
    "plt.show()"
   ]
  },
  {
   "cell_type": "markdown",
   "id": "e541de61",
   "metadata": {},
   "source": [
    "# 성능 향상 시도"
   ]
  },
  {
   "cell_type": "markdown",
   "id": "c5cb113b",
   "metadata": {},
   "source": [
    "## 1. 데이터 수 늘리기 (100 => 202)"
   ]
  },
  {
   "cell_type": "markdown",
   "id": "c94cd68b",
   "metadata": {},
   "source": [
    "## 2. 파라미터 조정"
   ]
  },
  {
   "cell_type": "markdown",
   "id": "5630c2d9",
   "metadata": {},
   "source": [
    "n_channel_1 = 16  \n",
    "n_channel_2 = 32  \n",
    "n_dense = 16  \n",
    "n_train_epoch = 10  \n",
    "=>  \n",
    "10/10 - 0s - loss: 72.4413 - accuracy: 0.3333  \n",
    "test_loss: 72.44127655029297   \n",
    "test_accuracy: 0.3333333432674408  "
   ]
  },
  {
   "cell_type": "markdown",
   "id": "199f29e3",
   "metadata": {},
   "source": [
    " n_channel_1 = 16  \n",
    "n_channel_2 = 32  \n",
    "n_dense = 32  \n",
    "n_train_epoch = 10    \n",
    "=>  \n",
    "10/10 - 0s - loss: 81.0810 - accuracy: 0.6900  \n",
    "test_loss: 81.08096313476562   \n",
    "test_accuracy: 0.6899999976158142  "
   ]
  },
  {
   "cell_type": "markdown",
   "id": "80db9b43",
   "metadata": {},
   "source": [
    "n_channel_1 = 16  \n",
    "n_channel_2 = 32  \n",
    "n_dense = 32  \n",
    "n_train_epoch = 8  \n",
    "=>  \n",
    "10/10 - 0s - loss: 5.0542 - accuracy: 0.9400  \n",
    "test_loss: 5.054183006286621   \n",
    "test_accuracy: 0.9399999976158142  "
   ]
  },
  {
   "cell_type": "markdown",
   "id": "8548ab42",
   "metadata": {},
   "source": [
    "## 3. 정규화"
   ]
  },
  {
   "cell_type": "markdown",
   "id": "520e4454",
   "metadata": {},
   "source": [
    "- 정규화 미실시  \n",
    "10/10 - 0s - loss: 5.9860 - accuracy: 0.5133  \n",
    "test_loss: 5.986032009124756   \n",
    "test_accuracy: 0.5133333206176758  "
   ]
  },
  {
   "cell_type": "markdown",
   "id": "80a9ec79",
   "metadata": {},
   "source": [
    "- 정규화 실시  \n",
    "10/10 - 0s - loss: 33.8727 - accuracy: 0.7133  \n",
    "test_loss: 33.87269592285156   \n",
    "test_accuracy: 0.7133333086967468  "
   ]
  },
  {
   "cell_type": "code",
   "execution_count": null,
   "id": "1bc9c8e2",
   "metadata": {},
   "outputs": [],
   "source": []
  }
 ],
 "metadata": {
  "kernelspec": {
   "display_name": "Python 3 (ipykernel)",
   "language": "python",
   "name": "python3"
  },
  "language_info": {
   "codemirror_mode": {
    "name": "ipython",
    "version": 3
   },
   "file_extension": ".py",
   "mimetype": "text/x-python",
   "name": "python",
   "nbconvert_exporter": "python",
   "pygments_lexer": "ipython3",
   "version": "3.9.7"
  }
 },
 "nbformat": 4,
 "nbformat_minor": 5
}
