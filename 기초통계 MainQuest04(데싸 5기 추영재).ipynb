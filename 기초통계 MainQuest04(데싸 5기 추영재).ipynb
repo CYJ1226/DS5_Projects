{
 "cells": [
  {
   "cell_type": "code",
   "execution_count": 79,
   "metadata": {
    "id": "roCZN58vEV8j"
   },
   "outputs": [],
   "source": [
    "import pandas as pd\n",
    "import numpy as np\n",
    "import matplotlib.pyplot as plt\n",
    "import seaborn as sns\n",
    "from scipy import stats\n",
    "from scipy.stats import norm\n",
    "\n",
    "from warnings import filterwarnings\n",
    "filterwarnings('ignore')\n",
    "\n",
    "pd.set_option('display.max_rows', 100)\n",
    "pd.set_option('display.max_columns', 100)"
   ]
  },
  {
   "cell_type": "code",
   "execution_count": 80,
   "metadata": {
    "colab": {
     "base_uri": "https://localhost:8080/"
    },
    "id": "Ln2ta7MtEeBn",
    "outputId": "89d3f40d-4182-4f2e-b644-c4e73199d8ce"
   },
   "outputs": [
    {
     "name": "stdout",
     "output_type": "stream",
     "text": [
      "Requirement already satisfied: kagglehub in c:\\users\\cndud\\anaconda3\\lib\\site-packages (0.3.12)\n",
      "Requirement already satisfied: packaging in c:\\users\\cndud\\anaconda3\\lib\\site-packages (from kagglehub) (24.2)\n",
      "Requirement already satisfied: pyyaml in c:\\users\\cndud\\anaconda3\\lib\\site-packages (from kagglehub) (6.0.2)\n",
      "Requirement already satisfied: requests in c:\\users\\cndud\\anaconda3\\lib\\site-packages (from kagglehub) (2.32.4)\n",
      "Requirement already satisfied: tqdm in c:\\users\\cndud\\anaconda3\\lib\\site-packages (from kagglehub) (4.64.1)\n",
      "Requirement already satisfied: charset_normalizer<4,>=2 in c:\\users\\cndud\\anaconda3\\lib\\site-packages (from requests->kagglehub) (2.0.4)\n",
      "Requirement already satisfied: idna<4,>=2.5 in c:\\users\\cndud\\anaconda3\\lib\\site-packages (from requests->kagglehub) (3.3)\n",
      "Requirement already satisfied: urllib3<3,>=1.21.1 in c:\\users\\cndud\\anaconda3\\lib\\site-packages (from requests->kagglehub) (1.26.11)\n",
      "Requirement already satisfied: certifi>=2017.4.17 in c:\\users\\cndud\\anaconda3\\lib\\site-packages (from requests->kagglehub) (2025.6.15)\n",
      "Requirement already satisfied: colorama in c:\\users\\cndud\\anaconda3\\lib\\site-packages (from tqdm->kagglehub) (0.4.5)\n"
     ]
    },
    {
     "name": "stderr",
     "output_type": "stream",
     "text": [
      "\n",
      "[notice] A new release of pip is available: 25.1.1 -> 25.2\n",
      "[notice] To update, run: python.exe -m pip install --upgrade pip\n"
     ]
    }
   ],
   "source": [
    "!pip install kagglehub"
   ]
  },
  {
   "cell_type": "code",
   "execution_count": 81,
   "metadata": {
    "colab": {
     "base_uri": "https://localhost:8080/"
    },
    "id": "nzm86qcTEXKO",
    "outputId": "f81f1bf5-09aa-44d2-dffc-3756b5e09db5"
   },
   "outputs": [
    {
     "name": "stdout",
     "output_type": "stream",
     "text": [
      "Path to dataset files: C:\\Users\\cndud\\.cache\\kagglehub\\datasets\\tunguz\\online-retail\\versions\\1\n"
     ]
    },
    {
     "data": {
      "text/plain": [
       "(541909, 8)"
      ]
     },
     "execution_count": 81,
     "metadata": {},
     "output_type": "execute_result"
    }
   ],
   "source": [
    "import kagglehub\n",
    "import os\n",
    "\n",
    "# Download latest version\n",
    "path = kagglehub.dataset_download(\"tunguz/online-retail\")\n",
    "\n",
    "print(\"Path to dataset files:\", path)\n",
    "df = pd.read_csv(path + '/' + os.listdir(path)[0], encoding='latin1')\n",
    "df.shape"
   ]
  },
  {
   "cell_type": "code",
   "execution_count": 82,
   "metadata": {
    "colab": {
     "base_uri": "https://localhost:8080/",
     "height": 293
    },
    "id": "1a1z6CpsMVmm",
    "outputId": "30bfa160-b185-493f-f4eb-378581578016"
   },
   "outputs": [
    {
     "data": {
      "text/html": [
       "<div>\n",
       "<style scoped>\n",
       "    .dataframe tbody tr th:only-of-type {\n",
       "        vertical-align: middle;\n",
       "    }\n",
       "\n",
       "    .dataframe tbody tr th {\n",
       "        vertical-align: top;\n",
       "    }\n",
       "\n",
       "    .dataframe thead th {\n",
       "        text-align: right;\n",
       "    }\n",
       "</style>\n",
       "<table border=\"1\" class=\"dataframe\">\n",
       "  <thead>\n",
       "    <tr style=\"text-align: right;\">\n",
       "      <th></th>\n",
       "      <th>InvoiceNo</th>\n",
       "      <th>StockCode</th>\n",
       "      <th>Description</th>\n",
       "      <th>Quantity</th>\n",
       "      <th>InvoiceDate</th>\n",
       "      <th>UnitPrice</th>\n",
       "      <th>CustomerID</th>\n",
       "      <th>Country</th>\n",
       "    </tr>\n",
       "  </thead>\n",
       "  <tbody>\n",
       "    <tr>\n",
       "      <th>0</th>\n",
       "      <td>536365</td>\n",
       "      <td>85123A</td>\n",
       "      <td>WHITE HANGING HEART T-LIGHT HOLDER</td>\n",
       "      <td>6</td>\n",
       "      <td>12/1/10 8:26</td>\n",
       "      <td>2.55</td>\n",
       "      <td>17850.0</td>\n",
       "      <td>United Kingdom</td>\n",
       "    </tr>\n",
       "    <tr>\n",
       "      <th>1</th>\n",
       "      <td>536365</td>\n",
       "      <td>71053</td>\n",
       "      <td>WHITE METAL LANTERN</td>\n",
       "      <td>6</td>\n",
       "      <td>12/1/10 8:26</td>\n",
       "      <td>3.39</td>\n",
       "      <td>17850.0</td>\n",
       "      <td>United Kingdom</td>\n",
       "    </tr>\n",
       "    <tr>\n",
       "      <th>2</th>\n",
       "      <td>536365</td>\n",
       "      <td>84406B</td>\n",
       "      <td>CREAM CUPID HEARTS COAT HANGER</td>\n",
       "      <td>8</td>\n",
       "      <td>12/1/10 8:26</td>\n",
       "      <td>2.75</td>\n",
       "      <td>17850.0</td>\n",
       "      <td>United Kingdom</td>\n",
       "    </tr>\n",
       "    <tr>\n",
       "      <th>3</th>\n",
       "      <td>536365</td>\n",
       "      <td>84029G</td>\n",
       "      <td>KNITTED UNION FLAG HOT WATER BOTTLE</td>\n",
       "      <td>6</td>\n",
       "      <td>12/1/10 8:26</td>\n",
       "      <td>3.39</td>\n",
       "      <td>17850.0</td>\n",
       "      <td>United Kingdom</td>\n",
       "    </tr>\n",
       "    <tr>\n",
       "      <th>4</th>\n",
       "      <td>536365</td>\n",
       "      <td>84029E</td>\n",
       "      <td>RED WOOLLY HOTTIE WHITE HEART.</td>\n",
       "      <td>6</td>\n",
       "      <td>12/1/10 8:26</td>\n",
       "      <td>3.39</td>\n",
       "      <td>17850.0</td>\n",
       "      <td>United Kingdom</td>\n",
       "    </tr>\n",
       "  </tbody>\n",
       "</table>\n",
       "</div>"
      ],
      "text/plain": [
       "  InvoiceNo StockCode                          Description  Quantity  \\\n",
       "0    536365    85123A   WHITE HANGING HEART T-LIGHT HOLDER         6   \n",
       "1    536365     71053                  WHITE METAL LANTERN         6   \n",
       "2    536365    84406B       CREAM CUPID HEARTS COAT HANGER         8   \n",
       "3    536365    84029G  KNITTED UNION FLAG HOT WATER BOTTLE         6   \n",
       "4    536365    84029E       RED WOOLLY HOTTIE WHITE HEART.         6   \n",
       "\n",
       "    InvoiceDate  UnitPrice  CustomerID         Country  \n",
       "0  12/1/10 8:26       2.55     17850.0  United Kingdom  \n",
       "1  12/1/10 8:26       3.39     17850.0  United Kingdom  \n",
       "2  12/1/10 8:26       2.75     17850.0  United Kingdom  \n",
       "3  12/1/10 8:26       3.39     17850.0  United Kingdom  \n",
       "4  12/1/10 8:26       3.39     17850.0  United Kingdom  "
      ]
     },
     "execution_count": 82,
     "metadata": {},
     "output_type": "execute_result"
    }
   ],
   "source": [
    "df.head()"
   ]
  },
  {
   "cell_type": "code",
   "execution_count": 83,
   "metadata": {},
   "outputs": [
    {
     "data": {
      "text/html": [
       "<div>\n",
       "<style scoped>\n",
       "    .dataframe tbody tr th:only-of-type {\n",
       "        vertical-align: middle;\n",
       "    }\n",
       "\n",
       "    .dataframe tbody tr th {\n",
       "        vertical-align: top;\n",
       "    }\n",
       "\n",
       "    .dataframe thead th {\n",
       "        text-align: right;\n",
       "    }\n",
       "</style>\n",
       "<table border=\"1\" class=\"dataframe\">\n",
       "  <thead>\n",
       "    <tr style=\"text-align: right;\">\n",
       "      <th></th>\n",
       "      <th>InvoiceNo</th>\n",
       "      <th>StockCode</th>\n",
       "      <th>Description</th>\n",
       "      <th>Quantity</th>\n",
       "      <th>InvoiceDate</th>\n",
       "      <th>UnitPrice</th>\n",
       "      <th>CustomerID</th>\n",
       "      <th>Country</th>\n",
       "    </tr>\n",
       "  </thead>\n",
       "  <tbody>\n",
       "    <tr>\n",
       "      <th>517</th>\n",
       "      <td>536409</td>\n",
       "      <td>21866</td>\n",
       "      <td>UNION JACK FLAG LUGGAGE TAG</td>\n",
       "      <td>1</td>\n",
       "      <td>12/1/10 11:45</td>\n",
       "      <td>1.25</td>\n",
       "      <td>17908.0</td>\n",
       "      <td>United Kingdom</td>\n",
       "    </tr>\n",
       "    <tr>\n",
       "      <th>527</th>\n",
       "      <td>536409</td>\n",
       "      <td>22866</td>\n",
       "      <td>HAND WARMER SCOTTY DOG DESIGN</td>\n",
       "      <td>1</td>\n",
       "      <td>12/1/10 11:45</td>\n",
       "      <td>2.10</td>\n",
       "      <td>17908.0</td>\n",
       "      <td>United Kingdom</td>\n",
       "    </tr>\n",
       "    <tr>\n",
       "      <th>537</th>\n",
       "      <td>536409</td>\n",
       "      <td>22900</td>\n",
       "      <td>SET 2 TEA TOWELS I LOVE LONDON</td>\n",
       "      <td>1</td>\n",
       "      <td>12/1/10 11:45</td>\n",
       "      <td>2.95</td>\n",
       "      <td>17908.0</td>\n",
       "      <td>United Kingdom</td>\n",
       "    </tr>\n",
       "    <tr>\n",
       "      <th>539</th>\n",
       "      <td>536409</td>\n",
       "      <td>22111</td>\n",
       "      <td>SCOTTIE DOG HOT WATER BOTTLE</td>\n",
       "      <td>1</td>\n",
       "      <td>12/1/10 11:45</td>\n",
       "      <td>4.95</td>\n",
       "      <td>17908.0</td>\n",
       "      <td>United Kingdom</td>\n",
       "    </tr>\n",
       "    <tr>\n",
       "      <th>555</th>\n",
       "      <td>536412</td>\n",
       "      <td>22327</td>\n",
       "      <td>ROUND SNACK BOXES SET OF 4 SKULLS</td>\n",
       "      <td>1</td>\n",
       "      <td>12/1/10 11:49</td>\n",
       "      <td>2.95</td>\n",
       "      <td>17920.0</td>\n",
       "      <td>United Kingdom</td>\n",
       "    </tr>\n",
       "    <tr>\n",
       "      <th>...</th>\n",
       "      <td>...</td>\n",
       "      <td>...</td>\n",
       "      <td>...</td>\n",
       "      <td>...</td>\n",
       "      <td>...</td>\n",
       "      <td>...</td>\n",
       "      <td>...</td>\n",
       "      <td>...</td>\n",
       "    </tr>\n",
       "    <tr>\n",
       "      <th>541675</th>\n",
       "      <td>581538</td>\n",
       "      <td>22068</td>\n",
       "      <td>BLACK PIRATE TREASURE CHEST</td>\n",
       "      <td>1</td>\n",
       "      <td>12/9/11 11:34</td>\n",
       "      <td>0.39</td>\n",
       "      <td>14446.0</td>\n",
       "      <td>United Kingdom</td>\n",
       "    </tr>\n",
       "    <tr>\n",
       "      <th>541689</th>\n",
       "      <td>581538</td>\n",
       "      <td>23318</td>\n",
       "      <td>BOX OF 6 MINI VINTAGE CRACKERS</td>\n",
       "      <td>1</td>\n",
       "      <td>12/9/11 11:34</td>\n",
       "      <td>2.49</td>\n",
       "      <td>14446.0</td>\n",
       "      <td>United Kingdom</td>\n",
       "    </tr>\n",
       "    <tr>\n",
       "      <th>541692</th>\n",
       "      <td>581538</td>\n",
       "      <td>22992</td>\n",
       "      <td>REVOLVER WOODEN RULER</td>\n",
       "      <td>1</td>\n",
       "      <td>12/9/11 11:34</td>\n",
       "      <td>1.95</td>\n",
       "      <td>14446.0</td>\n",
       "      <td>United Kingdom</td>\n",
       "    </tr>\n",
       "    <tr>\n",
       "      <th>541699</th>\n",
       "      <td>581538</td>\n",
       "      <td>22694</td>\n",
       "      <td>WICKER STAR</td>\n",
       "      <td>1</td>\n",
       "      <td>12/9/11 11:34</td>\n",
       "      <td>2.10</td>\n",
       "      <td>14446.0</td>\n",
       "      <td>United Kingdom</td>\n",
       "    </tr>\n",
       "    <tr>\n",
       "      <th>541701</th>\n",
       "      <td>581538</td>\n",
       "      <td>23343</td>\n",
       "      <td>JUMBO BAG VINTAGE CHRISTMAS</td>\n",
       "      <td>1</td>\n",
       "      <td>12/9/11 11:34</td>\n",
       "      <td>2.08</td>\n",
       "      <td>14446.0</td>\n",
       "      <td>United Kingdom</td>\n",
       "    </tr>\n",
       "  </tbody>\n",
       "</table>\n",
       "<p>5268 rows × 8 columns</p>\n",
       "</div>"
      ],
      "text/plain": [
       "       InvoiceNo StockCode                        Description  Quantity  \\\n",
       "517       536409     21866        UNION JACK FLAG LUGGAGE TAG         1   \n",
       "527       536409     22866      HAND WARMER SCOTTY DOG DESIGN         1   \n",
       "537       536409     22900    SET 2 TEA TOWELS I LOVE LONDON          1   \n",
       "539       536409     22111       SCOTTIE DOG HOT WATER BOTTLE         1   \n",
       "555       536412     22327  ROUND SNACK BOXES SET OF 4 SKULLS         1   \n",
       "...          ...       ...                                ...       ...   \n",
       "541675    581538     22068        BLACK PIRATE TREASURE CHEST         1   \n",
       "541689    581538     23318     BOX OF 6 MINI VINTAGE CRACKERS         1   \n",
       "541692    581538     22992             REVOLVER WOODEN RULER          1   \n",
       "541699    581538     22694                       WICKER STAR          1   \n",
       "541701    581538     23343       JUMBO BAG VINTAGE CHRISTMAS          1   \n",
       "\n",
       "          InvoiceDate  UnitPrice  CustomerID         Country  \n",
       "517     12/1/10 11:45       1.25     17908.0  United Kingdom  \n",
       "527     12/1/10 11:45       2.10     17908.0  United Kingdom  \n",
       "537     12/1/10 11:45       2.95     17908.0  United Kingdom  \n",
       "539     12/1/10 11:45       4.95     17908.0  United Kingdom  \n",
       "555     12/1/10 11:49       2.95     17920.0  United Kingdom  \n",
       "...               ...        ...         ...             ...  \n",
       "541675  12/9/11 11:34       0.39     14446.0  United Kingdom  \n",
       "541689  12/9/11 11:34       2.49     14446.0  United Kingdom  \n",
       "541692  12/9/11 11:34       1.95     14446.0  United Kingdom  \n",
       "541699  12/9/11 11:34       2.10     14446.0  United Kingdom  \n",
       "541701  12/9/11 11:34       2.08     14446.0  United Kingdom  \n",
       "\n",
       "[5268 rows x 8 columns]"
      ]
     },
     "execution_count": 83,
     "metadata": {},
     "output_type": "execute_result"
    }
   ],
   "source": [
    "df[df.duplicated()]"
   ]
  },
  {
   "cell_type": "markdown",
   "metadata": {},
   "source": [
    "- 중복된 행들이 있지만, 똑같은 것을 여러번 구매했을 수 있으므로 보류"
   ]
  },
  {
   "cell_type": "code",
   "execution_count": 84,
   "metadata": {},
   "outputs": [
    {
     "name": "stdout",
     "output_type": "stream",
     "text": [
      "<class 'pandas.core.frame.DataFrame'>\n",
      "RangeIndex: 541909 entries, 0 to 541908\n",
      "Data columns (total 8 columns):\n",
      " #   Column       Non-Null Count   Dtype  \n",
      "---  ------       --------------   -----  \n",
      " 0   InvoiceNo    541909 non-null  object \n",
      " 1   StockCode    541909 non-null  object \n",
      " 2   Description  540455 non-null  object \n",
      " 3   Quantity     541909 non-null  int64  \n",
      " 4   InvoiceDate  541909 non-null  object \n",
      " 5   UnitPrice    541909 non-null  float64\n",
      " 6   CustomerID   406829 non-null  float64\n",
      " 7   Country      541909 non-null  object \n",
      "dtypes: float64(2), int64(1), object(5)\n",
      "memory usage: 33.1+ MB\n"
     ]
    }
   ],
   "source": [
    "df.info()"
   ]
  },
  {
   "cell_type": "code",
   "execution_count": 85,
   "metadata": {},
   "outputs": [
    {
     "data": {
      "text/plain": [
       "InvoiceNo           0\n",
       "StockCode           0\n",
       "Description      1454\n",
       "Quantity            0\n",
       "InvoiceDate         0\n",
       "UnitPrice           0\n",
       "CustomerID     135080\n",
       "Country             0\n",
       "dtype: int64"
      ]
     },
     "execution_count": 85,
     "metadata": {},
     "output_type": "execute_result"
    }
   ],
   "source": [
    "df.isna().sum()"
   ]
  },
  {
   "cell_type": "markdown",
   "metadata": {},
   "source": [
    "- Description, CustomerID column에 결측치 존재\n",
    "- InvoiceDate는 datetime으로, CustomerID는 object로 바꾸는게 좋아보임"
   ]
  },
  {
   "cell_type": "code",
   "execution_count": 86,
   "metadata": {},
   "outputs": [],
   "source": [
    "df['CustomerID'] = df['CustomerID'].fillna('-1').astype(int).astype(str).replace('-1', np.NaN)"
   ]
  },
  {
   "cell_type": "markdown",
   "metadata": {},
   "source": [
    "- CustomerID를 object로 변경"
   ]
  },
  {
   "cell_type": "code",
   "execution_count": 87,
   "metadata": {},
   "outputs": [
    {
     "data": {
      "text/html": [
       "<div>\n",
       "<style scoped>\n",
       "    .dataframe tbody tr th:only-of-type {\n",
       "        vertical-align: middle;\n",
       "    }\n",
       "\n",
       "    .dataframe tbody tr th {\n",
       "        vertical-align: top;\n",
       "    }\n",
       "\n",
       "    .dataframe thead th {\n",
       "        text-align: right;\n",
       "    }\n",
       "</style>\n",
       "<table border=\"1\" class=\"dataframe\">\n",
       "  <thead>\n",
       "    <tr style=\"text-align: right;\">\n",
       "      <th></th>\n",
       "      <th>Quantity</th>\n",
       "      <th>UnitPrice</th>\n",
       "    </tr>\n",
       "  </thead>\n",
       "  <tbody>\n",
       "    <tr>\n",
       "      <th>count</th>\n",
       "      <td>541909.000000</td>\n",
       "      <td>541909.000000</td>\n",
       "    </tr>\n",
       "    <tr>\n",
       "      <th>mean</th>\n",
       "      <td>9.552250</td>\n",
       "      <td>4.611114</td>\n",
       "    </tr>\n",
       "    <tr>\n",
       "      <th>std</th>\n",
       "      <td>218.081158</td>\n",
       "      <td>96.759853</td>\n",
       "    </tr>\n",
       "    <tr>\n",
       "      <th>min</th>\n",
       "      <td>-80995.000000</td>\n",
       "      <td>-11062.060000</td>\n",
       "    </tr>\n",
       "    <tr>\n",
       "      <th>25%</th>\n",
       "      <td>1.000000</td>\n",
       "      <td>1.250000</td>\n",
       "    </tr>\n",
       "    <tr>\n",
       "      <th>50%</th>\n",
       "      <td>3.000000</td>\n",
       "      <td>2.080000</td>\n",
       "    </tr>\n",
       "    <tr>\n",
       "      <th>75%</th>\n",
       "      <td>10.000000</td>\n",
       "      <td>4.130000</td>\n",
       "    </tr>\n",
       "    <tr>\n",
       "      <th>max</th>\n",
       "      <td>80995.000000</td>\n",
       "      <td>38970.000000</td>\n",
       "    </tr>\n",
       "  </tbody>\n",
       "</table>\n",
       "</div>"
      ],
      "text/plain": [
       "            Quantity      UnitPrice\n",
       "count  541909.000000  541909.000000\n",
       "mean        9.552250       4.611114\n",
       "std       218.081158      96.759853\n",
       "min    -80995.000000  -11062.060000\n",
       "25%         1.000000       1.250000\n",
       "50%         3.000000       2.080000\n",
       "75%        10.000000       4.130000\n",
       "max     80995.000000   38970.000000"
      ]
     },
     "execution_count": 87,
     "metadata": {},
     "output_type": "execute_result"
    }
   ],
   "source": [
    "df.describe()"
   ]
  },
  {
   "cell_type": "markdown",
   "metadata": {},
   "source": [
    "- 이상치로 의심되는 수치 다수 식별됨"
   ]
  },
  {
   "cell_type": "code",
   "execution_count": 88,
   "metadata": {},
   "outputs": [
    {
     "data": {
      "text/html": [
       "<div>\n",
       "<style scoped>\n",
       "    .dataframe tbody tr th:only-of-type {\n",
       "        vertical-align: middle;\n",
       "    }\n",
       "\n",
       "    .dataframe tbody tr th {\n",
       "        vertical-align: top;\n",
       "    }\n",
       "\n",
       "    .dataframe thead th {\n",
       "        text-align: right;\n",
       "    }\n",
       "</style>\n",
       "<table border=\"1\" class=\"dataframe\">\n",
       "  <thead>\n",
       "    <tr style=\"text-align: right;\">\n",
       "      <th></th>\n",
       "      <th>InvoiceNo</th>\n",
       "      <th>StockCode</th>\n",
       "      <th>Description</th>\n",
       "      <th>Quantity</th>\n",
       "      <th>InvoiceDate</th>\n",
       "      <th>UnitPrice</th>\n",
       "      <th>CustomerID</th>\n",
       "      <th>Country</th>\n",
       "    </tr>\n",
       "  </thead>\n",
       "  <tbody>\n",
       "    <tr>\n",
       "      <th>141</th>\n",
       "      <td>C536379</td>\n",
       "      <td>D</td>\n",
       "      <td>Discount</td>\n",
       "      <td>-1</td>\n",
       "      <td>12/1/10 9:41</td>\n",
       "      <td>27.50</td>\n",
       "      <td>14527</td>\n",
       "      <td>United Kingdom</td>\n",
       "    </tr>\n",
       "    <tr>\n",
       "      <th>154</th>\n",
       "      <td>C536383</td>\n",
       "      <td>35004C</td>\n",
       "      <td>SET OF 3 COLOURED  FLYING DUCKS</td>\n",
       "      <td>-1</td>\n",
       "      <td>12/1/10 9:49</td>\n",
       "      <td>4.65</td>\n",
       "      <td>15311</td>\n",
       "      <td>United Kingdom</td>\n",
       "    </tr>\n",
       "    <tr>\n",
       "      <th>235</th>\n",
       "      <td>C536391</td>\n",
       "      <td>22556</td>\n",
       "      <td>PLASTERS IN TIN CIRCUS PARADE</td>\n",
       "      <td>-12</td>\n",
       "      <td>12/1/10 10:24</td>\n",
       "      <td>1.65</td>\n",
       "      <td>17548</td>\n",
       "      <td>United Kingdom</td>\n",
       "    </tr>\n",
       "    <tr>\n",
       "      <th>236</th>\n",
       "      <td>C536391</td>\n",
       "      <td>21984</td>\n",
       "      <td>PACK OF 12 PINK PAISLEY TISSUES</td>\n",
       "      <td>-24</td>\n",
       "      <td>12/1/10 10:24</td>\n",
       "      <td>0.29</td>\n",
       "      <td>17548</td>\n",
       "      <td>United Kingdom</td>\n",
       "    </tr>\n",
       "    <tr>\n",
       "      <th>237</th>\n",
       "      <td>C536391</td>\n",
       "      <td>21983</td>\n",
       "      <td>PACK OF 12 BLUE PAISLEY TISSUES</td>\n",
       "      <td>-24</td>\n",
       "      <td>12/1/10 10:24</td>\n",
       "      <td>0.29</td>\n",
       "      <td>17548</td>\n",
       "      <td>United Kingdom</td>\n",
       "    </tr>\n",
       "    <tr>\n",
       "      <th>...</th>\n",
       "      <td>...</td>\n",
       "      <td>...</td>\n",
       "      <td>...</td>\n",
       "      <td>...</td>\n",
       "      <td>...</td>\n",
       "      <td>...</td>\n",
       "      <td>...</td>\n",
       "      <td>...</td>\n",
       "    </tr>\n",
       "    <tr>\n",
       "      <th>540449</th>\n",
       "      <td>C581490</td>\n",
       "      <td>23144</td>\n",
       "      <td>ZINC T-LIGHT HOLDER STARS SMALL</td>\n",
       "      <td>-11</td>\n",
       "      <td>12/9/11 9:57</td>\n",
       "      <td>0.83</td>\n",
       "      <td>14397</td>\n",
       "      <td>United Kingdom</td>\n",
       "    </tr>\n",
       "    <tr>\n",
       "      <th>541541</th>\n",
       "      <td>C581499</td>\n",
       "      <td>M</td>\n",
       "      <td>Manual</td>\n",
       "      <td>-1</td>\n",
       "      <td>12/9/11 10:28</td>\n",
       "      <td>224.69</td>\n",
       "      <td>15498</td>\n",
       "      <td>United Kingdom</td>\n",
       "    </tr>\n",
       "    <tr>\n",
       "      <th>541715</th>\n",
       "      <td>C581568</td>\n",
       "      <td>21258</td>\n",
       "      <td>VICTORIAN SEWING BOX LARGE</td>\n",
       "      <td>-5</td>\n",
       "      <td>12/9/11 11:57</td>\n",
       "      <td>10.95</td>\n",
       "      <td>15311</td>\n",
       "      <td>United Kingdom</td>\n",
       "    </tr>\n",
       "    <tr>\n",
       "      <th>541716</th>\n",
       "      <td>C581569</td>\n",
       "      <td>84978</td>\n",
       "      <td>HANGING HEART JAR T-LIGHT HOLDER</td>\n",
       "      <td>-1</td>\n",
       "      <td>12/9/11 11:58</td>\n",
       "      <td>1.25</td>\n",
       "      <td>17315</td>\n",
       "      <td>United Kingdom</td>\n",
       "    </tr>\n",
       "    <tr>\n",
       "      <th>541717</th>\n",
       "      <td>C581569</td>\n",
       "      <td>20979</td>\n",
       "      <td>36 PENCILS TUBE RED RETROSPOT</td>\n",
       "      <td>-5</td>\n",
       "      <td>12/9/11 11:58</td>\n",
       "      <td>1.25</td>\n",
       "      <td>17315</td>\n",
       "      <td>United Kingdom</td>\n",
       "    </tr>\n",
       "  </tbody>\n",
       "</table>\n",
       "<p>10624 rows × 8 columns</p>\n",
       "</div>"
      ],
      "text/plain": [
       "       InvoiceNo StockCode                       Description  Quantity  \\\n",
       "141      C536379         D                          Discount        -1   \n",
       "154      C536383    35004C   SET OF 3 COLOURED  FLYING DUCKS        -1   \n",
       "235      C536391     22556    PLASTERS IN TIN CIRCUS PARADE        -12   \n",
       "236      C536391     21984  PACK OF 12 PINK PAISLEY TISSUES        -24   \n",
       "237      C536391     21983  PACK OF 12 BLUE PAISLEY TISSUES        -24   \n",
       "...          ...       ...                               ...       ...   \n",
       "540449   C581490     23144   ZINC T-LIGHT HOLDER STARS SMALL       -11   \n",
       "541541   C581499         M                            Manual        -1   \n",
       "541715   C581568     21258        VICTORIAN SEWING BOX LARGE        -5   \n",
       "541716   C581569     84978  HANGING HEART JAR T-LIGHT HOLDER        -1   \n",
       "541717   C581569     20979     36 PENCILS TUBE RED RETROSPOT        -5   \n",
       "\n",
       "          InvoiceDate  UnitPrice CustomerID         Country  \n",
       "141      12/1/10 9:41      27.50      14527  United Kingdom  \n",
       "154      12/1/10 9:49       4.65      15311  United Kingdom  \n",
       "235     12/1/10 10:24       1.65      17548  United Kingdom  \n",
       "236     12/1/10 10:24       0.29      17548  United Kingdom  \n",
       "237     12/1/10 10:24       0.29      17548  United Kingdom  \n",
       "...               ...        ...        ...             ...  \n",
       "540449   12/9/11 9:57       0.83      14397  United Kingdom  \n",
       "541541  12/9/11 10:28     224.69      15498  United Kingdom  \n",
       "541715  12/9/11 11:57      10.95      15311  United Kingdom  \n",
       "541716  12/9/11 11:58       1.25      17315  United Kingdom  \n",
       "541717  12/9/11 11:58       1.25      17315  United Kingdom  \n",
       "\n",
       "[10624 rows x 8 columns]"
      ]
     },
     "execution_count": 88,
     "metadata": {},
     "output_type": "execute_result"
    }
   ],
   "source": [
    "df[df['Quantity'] <= 0]"
   ]
  },
  {
   "cell_type": "markdown",
   "metadata": {},
   "source": [
    "- Quantity가 음수인 데이터는 반품일 수 있으므로 이상치로 제거하기는 어려워보임"
   ]
  },
  {
   "cell_type": "code",
   "execution_count": 89,
   "metadata": {},
   "outputs": [
    {
     "data": {
      "text/plain": [
       "AMAZON FEE         31\n",
       "Manual             24\n",
       "DOTCOM POSTAGE      6\n",
       "POSTAGE             2\n",
       "Adjust bad debt     1\n",
       "Name: Description, dtype: int64"
      ]
     },
     "execution_count": 89,
     "metadata": {},
     "output_type": "execute_result"
    }
   ],
   "source": [
    "df.loc[df['UnitPrice']>2000, 'Description'].value_counts()"
   ]
  },
  {
   "cell_type": "markdown",
   "metadata": {},
   "source": [
    "- UnitPrice가 2000 이상인 경우 구매 정보와 무관한 경우가 많으며 특히 우편요금은 너무 큰 금액이 부과된 경우가 식별됨\n",
    "- 위 정보들은 분석에 불필요하다고 판단되어 제거"
   ]
  },
  {
   "cell_type": "code",
   "execution_count": 90,
   "metadata": {},
   "outputs": [],
   "source": [
    "df = df.loc[(df['UnitPrice']>0) & (df['UnitPrice']<2000)]"
   ]
  },
  {
   "cell_type": "markdown",
   "metadata": {},
   "source": [
    "- UnitPrice가 0이거나 음수인 데이터 제거, 0은 이벤트나 무료 상품일 수도 있으나 이번 분석에서는 제거하고 생각"
   ]
  },
  {
   "cell_type": "code",
   "execution_count": 91,
   "metadata": {},
   "outputs": [
    {
     "data": {
      "text/html": [
       "<div>\n",
       "<style scoped>\n",
       "    .dataframe tbody tr th:only-of-type {\n",
       "        vertical-align: middle;\n",
       "    }\n",
       "\n",
       "    .dataframe tbody tr th {\n",
       "        vertical-align: top;\n",
       "    }\n",
       "\n",
       "    .dataframe thead th {\n",
       "        text-align: right;\n",
       "    }\n",
       "</style>\n",
       "<table border=\"1\" class=\"dataframe\">\n",
       "  <thead>\n",
       "    <tr style=\"text-align: right;\">\n",
       "      <th></th>\n",
       "      <th>InvoiceNo</th>\n",
       "      <th>StockCode</th>\n",
       "      <th>Description</th>\n",
       "      <th>Quantity</th>\n",
       "      <th>InvoiceDate</th>\n",
       "      <th>UnitPrice</th>\n",
       "      <th>CustomerID</th>\n",
       "      <th>Country</th>\n",
       "    </tr>\n",
       "  </thead>\n",
       "  <tbody>\n",
       "    <tr>\n",
       "      <th>52711</th>\n",
       "      <td>540815</td>\n",
       "      <td>21108</td>\n",
       "      <td>FAIRY CAKE FLANNEL ASSORTED COLOUR</td>\n",
       "      <td>3114</td>\n",
       "      <td>1/11/11 12:55</td>\n",
       "      <td>2.10</td>\n",
       "      <td>15749</td>\n",
       "      <td>United Kingdom</td>\n",
       "    </tr>\n",
       "    <tr>\n",
       "      <th>61619</th>\n",
       "      <td>541431</td>\n",
       "      <td>23166</td>\n",
       "      <td>MEDIUM CERAMIC TOP STORAGE JAR</td>\n",
       "      <td>74215</td>\n",
       "      <td>1/18/11 10:01</td>\n",
       "      <td>1.04</td>\n",
       "      <td>12346</td>\n",
       "      <td>United Kingdom</td>\n",
       "    </tr>\n",
       "    <tr>\n",
       "      <th>97432</th>\n",
       "      <td>544612</td>\n",
       "      <td>22053</td>\n",
       "      <td>EMPIRE DESIGN ROSETTE</td>\n",
       "      <td>3906</td>\n",
       "      <td>2/22/11 10:43</td>\n",
       "      <td>0.82</td>\n",
       "      <td>18087</td>\n",
       "      <td>United Kingdom</td>\n",
       "    </tr>\n",
       "    <tr>\n",
       "      <th>160546</th>\n",
       "      <td>550461</td>\n",
       "      <td>21108</td>\n",
       "      <td>FAIRY CAKE FLANNEL ASSORTED COLOUR</td>\n",
       "      <td>3114</td>\n",
       "      <td>4/18/11 13:20</td>\n",
       "      <td>2.10</td>\n",
       "      <td>15749</td>\n",
       "      <td>United Kingdom</td>\n",
       "    </tr>\n",
       "    <tr>\n",
       "      <th>206121</th>\n",
       "      <td>554868</td>\n",
       "      <td>22197</td>\n",
       "      <td>SMALL POPCORN HOLDER</td>\n",
       "      <td>4300</td>\n",
       "      <td>5/27/11 10:52</td>\n",
       "      <td>0.72</td>\n",
       "      <td>13135</td>\n",
       "      <td>United Kingdom</td>\n",
       "    </tr>\n",
       "    <tr>\n",
       "      <th>270885</th>\n",
       "      <td>560599</td>\n",
       "      <td>18007</td>\n",
       "      <td>ESSENTIAL BALM 3.5g TIN IN ENVELOPE</td>\n",
       "      <td>3186</td>\n",
       "      <td>7/19/11 17:04</td>\n",
       "      <td>0.06</td>\n",
       "      <td>14609</td>\n",
       "      <td>United Kingdom</td>\n",
       "    </tr>\n",
       "    <tr>\n",
       "      <th>421632</th>\n",
       "      <td>573008</td>\n",
       "      <td>84077</td>\n",
       "      <td>WORLD WAR 2 GLIDERS ASSTD DESIGNS</td>\n",
       "      <td>4800</td>\n",
       "      <td>10/27/11 12:26</td>\n",
       "      <td>0.21</td>\n",
       "      <td>12901</td>\n",
       "      <td>United Kingdom</td>\n",
       "    </tr>\n",
       "    <tr>\n",
       "      <th>540421</th>\n",
       "      <td>581483</td>\n",
       "      <td>23843</td>\n",
       "      <td>PAPER CRAFT , LITTLE BIRDIE</td>\n",
       "      <td>80995</td>\n",
       "      <td>12/9/11 9:15</td>\n",
       "      <td>2.08</td>\n",
       "      <td>16446</td>\n",
       "      <td>United Kingdom</td>\n",
       "    </tr>\n",
       "  </tbody>\n",
       "</table>\n",
       "</div>"
      ],
      "text/plain": [
       "       InvoiceNo StockCode                          Description  Quantity  \\\n",
       "52711     540815     21108   FAIRY CAKE FLANNEL ASSORTED COLOUR      3114   \n",
       "61619     541431     23166       MEDIUM CERAMIC TOP STORAGE JAR     74215   \n",
       "97432     544612     22053                EMPIRE DESIGN ROSETTE      3906   \n",
       "160546    550461     21108   FAIRY CAKE FLANNEL ASSORTED COLOUR      3114   \n",
       "206121    554868     22197                 SMALL POPCORN HOLDER      4300   \n",
       "270885    560599     18007  ESSENTIAL BALM 3.5g TIN IN ENVELOPE      3186   \n",
       "421632    573008     84077    WORLD WAR 2 GLIDERS ASSTD DESIGNS      4800   \n",
       "540421    581483     23843          PAPER CRAFT , LITTLE BIRDIE     80995   \n",
       "\n",
       "           InvoiceDate  UnitPrice CustomerID         Country  \n",
       "52711    1/11/11 12:55       2.10      15749  United Kingdom  \n",
       "61619    1/18/11 10:01       1.04      12346  United Kingdom  \n",
       "97432    2/22/11 10:43       0.82      18087  United Kingdom  \n",
       "160546   4/18/11 13:20       2.10      15749  United Kingdom  \n",
       "206121   5/27/11 10:52       0.72      13135  United Kingdom  \n",
       "270885   7/19/11 17:04       0.06      14609  United Kingdom  \n",
       "421632  10/27/11 12:26       0.21      12901  United Kingdom  \n",
       "540421    12/9/11 9:15       2.08      16446  United Kingdom  "
      ]
     },
     "execution_count": 91,
     "metadata": {},
     "output_type": "execute_result"
    }
   ],
   "source": [
    "df.loc[df['Quantity']>3000]"
   ]
  },
  {
   "cell_type": "code",
   "execution_count": 92,
   "metadata": {},
   "outputs": [
    {
     "data": {
      "text/html": [
       "<div>\n",
       "<style scoped>\n",
       "    .dataframe tbody tr th:only-of-type {\n",
       "        vertical-align: middle;\n",
       "    }\n",
       "\n",
       "    .dataframe tbody tr th {\n",
       "        vertical-align: top;\n",
       "    }\n",
       "\n",
       "    .dataframe thead th {\n",
       "        text-align: right;\n",
       "    }\n",
       "</style>\n",
       "<table border=\"1\" class=\"dataframe\">\n",
       "  <thead>\n",
       "    <tr style=\"text-align: right;\">\n",
       "      <th></th>\n",
       "      <th>InvoiceNo</th>\n",
       "      <th>StockCode</th>\n",
       "      <th>Description</th>\n",
       "      <th>Quantity</th>\n",
       "      <th>InvoiceDate</th>\n",
       "      <th>UnitPrice</th>\n",
       "      <th>CustomerID</th>\n",
       "      <th>Country</th>\n",
       "    </tr>\n",
       "  </thead>\n",
       "  <tbody>\n",
       "    <tr>\n",
       "      <th>4287</th>\n",
       "      <td>C536757</td>\n",
       "      <td>84347</td>\n",
       "      <td>ROTATING SILVER ANGELS T-LIGHT HLDR</td>\n",
       "      <td>-9360</td>\n",
       "      <td>12/2/10 14:23</td>\n",
       "      <td>0.03</td>\n",
       "      <td>15838</td>\n",
       "      <td>United Kingdom</td>\n",
       "    </tr>\n",
       "    <tr>\n",
       "      <th>61624</th>\n",
       "      <td>C541433</td>\n",
       "      <td>23166</td>\n",
       "      <td>MEDIUM CERAMIC TOP STORAGE JAR</td>\n",
       "      <td>-74215</td>\n",
       "      <td>1/18/11 10:17</td>\n",
       "      <td>1.04</td>\n",
       "      <td>12346</td>\n",
       "      <td>United Kingdom</td>\n",
       "    </tr>\n",
       "    <tr>\n",
       "      <th>160145</th>\n",
       "      <td>C550456</td>\n",
       "      <td>21108</td>\n",
       "      <td>FAIRY CAKE FLANNEL ASSORTED COLOUR</td>\n",
       "      <td>-3114</td>\n",
       "      <td>4/18/11 13:08</td>\n",
       "      <td>2.10</td>\n",
       "      <td>15749</td>\n",
       "      <td>United Kingdom</td>\n",
       "    </tr>\n",
       "    <tr>\n",
       "      <th>540422</th>\n",
       "      <td>C581484</td>\n",
       "      <td>23843</td>\n",
       "      <td>PAPER CRAFT , LITTLE BIRDIE</td>\n",
       "      <td>-80995</td>\n",
       "      <td>12/9/11 9:27</td>\n",
       "      <td>2.08</td>\n",
       "      <td>16446</td>\n",
       "      <td>United Kingdom</td>\n",
       "    </tr>\n",
       "  </tbody>\n",
       "</table>\n",
       "</div>"
      ],
      "text/plain": [
       "       InvoiceNo StockCode                          Description  Quantity  \\\n",
       "4287     C536757     84347  ROTATING SILVER ANGELS T-LIGHT HLDR     -9360   \n",
       "61624    C541433     23166       MEDIUM CERAMIC TOP STORAGE JAR    -74215   \n",
       "160145   C550456     21108   FAIRY CAKE FLANNEL ASSORTED COLOUR     -3114   \n",
       "540422   C581484     23843          PAPER CRAFT , LITTLE BIRDIE    -80995   \n",
       "\n",
       "          InvoiceDate  UnitPrice CustomerID         Country  \n",
       "4287    12/2/10 14:23       0.03      15838  United Kingdom  \n",
       "61624   1/18/11 10:17       1.04      12346  United Kingdom  \n",
       "160145  4/18/11 13:08       2.10      15749  United Kingdom  \n",
       "540422   12/9/11 9:27       2.08      16446  United Kingdom  "
      ]
     },
     "execution_count": 92,
     "metadata": {},
     "output_type": "execute_result"
    }
   ],
   "source": [
    "df.loc[df['Quantity']< -3000]"
   ]
  },
  {
   "cell_type": "markdown",
   "metadata": {},
   "source": [
    "- Quantity가 비정상적으로 큰 경우가 몇몇 보이나 대부분 반품된 것으로 보아 충분히 있을 수 있는 경우라고 생각되어 제거는 미실시"
   ]
  },
  {
   "cell_type": "code",
   "execution_count": 93,
   "metadata": {
    "colab": {
     "base_uri": "https://localhost:8080/",
     "height": 362
    },
    "id": "9eMYZRXsMvDk",
    "outputId": "2c245f9a-eeb7-40dc-c999-8bce34ffd28b"
   },
   "outputs": [
    {
     "data": {
      "text/html": [
       "<div>\n",
       "<style scoped>\n",
       "    .dataframe tbody tr th:only-of-type {\n",
       "        vertical-align: middle;\n",
       "    }\n",
       "\n",
       "    .dataframe tbody tr th {\n",
       "        vertical-align: top;\n",
       "    }\n",
       "\n",
       "    .dataframe thead th {\n",
       "        text-align: right;\n",
       "    }\n",
       "</style>\n",
       "<table border=\"1\" class=\"dataframe\">\n",
       "  <thead>\n",
       "    <tr style=\"text-align: right;\">\n",
       "      <th></th>\n",
       "      <th>InvoiceNo</th>\n",
       "      <th>StockCode</th>\n",
       "      <th>Description</th>\n",
       "      <th>Quantity</th>\n",
       "      <th>InvoiceDate</th>\n",
       "      <th>UnitPrice</th>\n",
       "      <th>CustomerID</th>\n",
       "      <th>Country</th>\n",
       "      <th>TotalPrice</th>\n",
       "    </tr>\n",
       "  </thead>\n",
       "  <tbody>\n",
       "    <tr>\n",
       "      <th>0</th>\n",
       "      <td>536365</td>\n",
       "      <td>85123A</td>\n",
       "      <td>WHITE HANGING HEART T-LIGHT HOLDER</td>\n",
       "      <td>6</td>\n",
       "      <td>12/1/10 8:26</td>\n",
       "      <td>2.55</td>\n",
       "      <td>17850</td>\n",
       "      <td>United Kingdom</td>\n",
       "      <td>15.30</td>\n",
       "    </tr>\n",
       "    <tr>\n",
       "      <th>1</th>\n",
       "      <td>536365</td>\n",
       "      <td>71053</td>\n",
       "      <td>WHITE METAL LANTERN</td>\n",
       "      <td>6</td>\n",
       "      <td>12/1/10 8:26</td>\n",
       "      <td>3.39</td>\n",
       "      <td>17850</td>\n",
       "      <td>United Kingdom</td>\n",
       "      <td>20.34</td>\n",
       "    </tr>\n",
       "    <tr>\n",
       "      <th>2</th>\n",
       "      <td>536365</td>\n",
       "      <td>84406B</td>\n",
       "      <td>CREAM CUPID HEARTS COAT HANGER</td>\n",
       "      <td>8</td>\n",
       "      <td>12/1/10 8:26</td>\n",
       "      <td>2.75</td>\n",
       "      <td>17850</td>\n",
       "      <td>United Kingdom</td>\n",
       "      <td>22.00</td>\n",
       "    </tr>\n",
       "    <tr>\n",
       "      <th>3</th>\n",
       "      <td>536365</td>\n",
       "      <td>84029G</td>\n",
       "      <td>KNITTED UNION FLAG HOT WATER BOTTLE</td>\n",
       "      <td>6</td>\n",
       "      <td>12/1/10 8:26</td>\n",
       "      <td>3.39</td>\n",
       "      <td>17850</td>\n",
       "      <td>United Kingdom</td>\n",
       "      <td>20.34</td>\n",
       "    </tr>\n",
       "    <tr>\n",
       "      <th>4</th>\n",
       "      <td>536365</td>\n",
       "      <td>84029E</td>\n",
       "      <td>RED WOOLLY HOTTIE WHITE HEART.</td>\n",
       "      <td>6</td>\n",
       "      <td>12/1/10 8:26</td>\n",
       "      <td>3.39</td>\n",
       "      <td>17850</td>\n",
       "      <td>United Kingdom</td>\n",
       "      <td>20.34</td>\n",
       "    </tr>\n",
       "  </tbody>\n",
       "</table>\n",
       "</div>"
      ],
      "text/plain": [
       "  InvoiceNo StockCode                          Description  Quantity  \\\n",
       "0    536365    85123A   WHITE HANGING HEART T-LIGHT HOLDER         6   \n",
       "1    536365     71053                  WHITE METAL LANTERN         6   \n",
       "2    536365    84406B       CREAM CUPID HEARTS COAT HANGER         8   \n",
       "3    536365    84029G  KNITTED UNION FLAG HOT WATER BOTTLE         6   \n",
       "4    536365    84029E       RED WOOLLY HOTTIE WHITE HEART.         6   \n",
       "\n",
       "    InvoiceDate  UnitPrice CustomerID         Country  TotalPrice  \n",
       "0  12/1/10 8:26       2.55      17850  United Kingdom       15.30  \n",
       "1  12/1/10 8:26       3.39      17850  United Kingdom       20.34  \n",
       "2  12/1/10 8:26       2.75      17850  United Kingdom       22.00  \n",
       "3  12/1/10 8:26       3.39      17850  United Kingdom       20.34  \n",
       "4  12/1/10 8:26       3.39      17850  United Kingdom       20.34  "
      ]
     },
     "execution_count": 93,
     "metadata": {},
     "output_type": "execute_result"
    }
   ],
   "source": [
    "# 주문 가격 컬럼 생성\n",
    "df[\"TotalPrice\"] = df[\"Quantity\"] * df[\"UnitPrice\"]\n",
    "df.head()"
   ]
  },
  {
   "cell_type": "code",
   "execution_count": 94,
   "metadata": {
    "id": "Yjh3OImd9Yms"
   },
   "outputs": [],
   "source": [
    "# 'InvoiceDate' 컬럼을 이용하여 주중과 주말을 구분\n",
    "df['InvoiceDate'] = pd.to_datetime(df['InvoiceDate']) # 형변환\n",
    "df['DayOfWeek'] = df['InvoiceDate'].dt.dayofweek # 월요일부터 일요일까지 숫자 0~6으로 나타냄\n",
    "\n",
    "# 평일과 주말을 구분했으므로, DayOfWeek 컬럼 제거\n",
    "df['is_weekday'] = 0\n",
    "df.loc[df['DayOfWeek']<=4, 'is_weekday'] = 1\n",
    "df.drop('DayOfWeek', axis=1, inplace=True)\n",
    "\n",
    "# 'InvoiceDate' 컬럼 이용하여 판매 월 추출\n",
    "df[\"InvoiceDate\"] = pd.to_datetime(df[\"InvoiceDate\"].astype(str))\n",
    "df[\"InvoiceMonth\"] = df[\"InvoiceDate\"].dt.month # 판매 월 추출\n",
    "\n",
    "# 평일과 주말 구분, 판매 월 추출까지 완료하였으므로 InvoiceDate 컬럼 제거\n",
    "df.drop('InvoiceDate', axis=1, inplace=True)"
   ]
  },
  {
   "cell_type": "code",
   "execution_count": 95,
   "metadata": {},
   "outputs": [],
   "source": [
    "df = df.reset_index(drop=True)"
   ]
  },
  {
   "cell_type": "markdown",
   "metadata": {},
   "source": [
    "- 데이터 제거로 인해 틀어진 인덱스 정렬"
   ]
  },
  {
   "cell_type": "code",
   "execution_count": 96,
   "metadata": {},
   "outputs": [
    {
     "data": {
      "text/html": [
       "<div>\n",
       "<style scoped>\n",
       "    .dataframe tbody tr th:only-of-type {\n",
       "        vertical-align: middle;\n",
       "    }\n",
       "\n",
       "    .dataframe tbody tr th {\n",
       "        vertical-align: top;\n",
       "    }\n",
       "\n",
       "    .dataframe thead th {\n",
       "        text-align: right;\n",
       "    }\n",
       "</style>\n",
       "<table border=\"1\" class=\"dataframe\">\n",
       "  <thead>\n",
       "    <tr style=\"text-align: right;\">\n",
       "      <th></th>\n",
       "      <th>InvoiceNo</th>\n",
       "      <th>StockCode</th>\n",
       "      <th>Description</th>\n",
       "      <th>Quantity</th>\n",
       "      <th>UnitPrice</th>\n",
       "      <th>CustomerID</th>\n",
       "      <th>Country</th>\n",
       "      <th>TotalPrice</th>\n",
       "      <th>is_weekday</th>\n",
       "      <th>InvoiceMonth</th>\n",
       "    </tr>\n",
       "  </thead>\n",
       "  <tbody>\n",
       "    <tr>\n",
       "      <th>0</th>\n",
       "      <td>536365</td>\n",
       "      <td>85123A</td>\n",
       "      <td>WHITE HANGING HEART T-LIGHT HOLDER</td>\n",
       "      <td>6</td>\n",
       "      <td>2.55</td>\n",
       "      <td>17850</td>\n",
       "      <td>United Kingdom</td>\n",
       "      <td>15.30</td>\n",
       "      <td>1</td>\n",
       "      <td>12</td>\n",
       "    </tr>\n",
       "    <tr>\n",
       "      <th>1</th>\n",
       "      <td>536365</td>\n",
       "      <td>71053</td>\n",
       "      <td>WHITE METAL LANTERN</td>\n",
       "      <td>6</td>\n",
       "      <td>3.39</td>\n",
       "      <td>17850</td>\n",
       "      <td>United Kingdom</td>\n",
       "      <td>20.34</td>\n",
       "      <td>1</td>\n",
       "      <td>12</td>\n",
       "    </tr>\n",
       "    <tr>\n",
       "      <th>2</th>\n",
       "      <td>536365</td>\n",
       "      <td>84406B</td>\n",
       "      <td>CREAM CUPID HEARTS COAT HANGER</td>\n",
       "      <td>8</td>\n",
       "      <td>2.75</td>\n",
       "      <td>17850</td>\n",
       "      <td>United Kingdom</td>\n",
       "      <td>22.00</td>\n",
       "      <td>1</td>\n",
       "      <td>12</td>\n",
       "    </tr>\n",
       "    <tr>\n",
       "      <th>3</th>\n",
       "      <td>536365</td>\n",
       "      <td>84029G</td>\n",
       "      <td>KNITTED UNION FLAG HOT WATER BOTTLE</td>\n",
       "      <td>6</td>\n",
       "      <td>3.39</td>\n",
       "      <td>17850</td>\n",
       "      <td>United Kingdom</td>\n",
       "      <td>20.34</td>\n",
       "      <td>1</td>\n",
       "      <td>12</td>\n",
       "    </tr>\n",
       "    <tr>\n",
       "      <th>4</th>\n",
       "      <td>536365</td>\n",
       "      <td>84029E</td>\n",
       "      <td>RED WOOLLY HOTTIE WHITE HEART.</td>\n",
       "      <td>6</td>\n",
       "      <td>3.39</td>\n",
       "      <td>17850</td>\n",
       "      <td>United Kingdom</td>\n",
       "      <td>20.34</td>\n",
       "      <td>1</td>\n",
       "      <td>12</td>\n",
       "    </tr>\n",
       "  </tbody>\n",
       "</table>\n",
       "</div>"
      ],
      "text/plain": [
       "  InvoiceNo StockCode                          Description  Quantity  \\\n",
       "0    536365    85123A   WHITE HANGING HEART T-LIGHT HOLDER         6   \n",
       "1    536365     71053                  WHITE METAL LANTERN         6   \n",
       "2    536365    84406B       CREAM CUPID HEARTS COAT HANGER         8   \n",
       "3    536365    84029G  KNITTED UNION FLAG HOT WATER BOTTLE         6   \n",
       "4    536365    84029E       RED WOOLLY HOTTIE WHITE HEART.         6   \n",
       "\n",
       "   UnitPrice CustomerID         Country  TotalPrice  is_weekday  InvoiceMonth  \n",
       "0       2.55      17850  United Kingdom       15.30           1            12  \n",
       "1       3.39      17850  United Kingdom       20.34           1            12  \n",
       "2       2.75      17850  United Kingdom       22.00           1            12  \n",
       "3       3.39      17850  United Kingdom       20.34           1            12  \n",
       "4       3.39      17850  United Kingdom       20.34           1            12  "
      ]
     },
     "execution_count": 96,
     "metadata": {},
     "output_type": "execute_result"
    }
   ],
   "source": [
    "df.head()"
   ]
  },
  {
   "cell_type": "markdown",
   "metadata": {
    "id": "JT3nUp9NMpGi"
   },
   "source": [
    "## 1. 모집단과 표본 집단의 TotalPrice를 비교해 주세요.\n",
    "\n",
    "* 데이터셋에서 무작위로 1000개의 표본을 추출하세요.\n",
    "* 추출된 표본과 전체 데이터셋의 'TotalPrice'에 대해 평균과 표준편차를 비교해주세요.  \n",
    "* 중심극한정리를 사용해 모집단과 표본의 차이를 설명해주세요."
   ]
  },
  {
   "cell_type": "code",
   "execution_count": 97,
   "metadata": {},
   "outputs": [],
   "source": [
    "# 재현을 위해 시드 고정\n",
    "np.random.seed(11)"
   ]
  },
  {
   "cell_type": "code",
   "execution_count": 98,
   "metadata": {},
   "outputs": [
    {
     "data": {
      "text/html": [
       "<div>\n",
       "<style scoped>\n",
       "    .dataframe tbody tr th:only-of-type {\n",
       "        vertical-align: middle;\n",
       "    }\n",
       "\n",
       "    .dataframe tbody tr th {\n",
       "        vertical-align: top;\n",
       "    }\n",
       "\n",
       "    .dataframe thead th {\n",
       "        text-align: right;\n",
       "    }\n",
       "</style>\n",
       "<table border=\"1\" class=\"dataframe\">\n",
       "  <thead>\n",
       "    <tr style=\"text-align: right;\">\n",
       "      <th></th>\n",
       "      <th>TotalPrice</th>\n",
       "    </tr>\n",
       "  </thead>\n",
       "  <tbody>\n",
       "    <tr>\n",
       "      <th>count</th>\n",
       "      <td>539328.000000</td>\n",
       "    </tr>\n",
       "    <tr>\n",
       "      <th>mean</th>\n",
       "      <td>18.559426</td>\n",
       "    </tr>\n",
       "    <tr>\n",
       "      <th>std</th>\n",
       "      <td>367.518176</td>\n",
       "    </tr>\n",
       "    <tr>\n",
       "      <th>min</th>\n",
       "      <td>-168469.600000</td>\n",
       "    </tr>\n",
       "    <tr>\n",
       "      <th>25%</th>\n",
       "      <td>3.750000</td>\n",
       "    </tr>\n",
       "    <tr>\n",
       "      <th>50%</th>\n",
       "      <td>9.840000</td>\n",
       "    </tr>\n",
       "    <tr>\n",
       "      <th>75%</th>\n",
       "      <td>17.400000</td>\n",
       "    </tr>\n",
       "    <tr>\n",
       "      <th>max</th>\n",
       "      <td>168469.600000</td>\n",
       "    </tr>\n",
       "  </tbody>\n",
       "</table>\n",
       "</div>"
      ],
      "text/plain": [
       "          TotalPrice\n",
       "count  539328.000000\n",
       "mean       18.559426\n",
       "std       367.518176\n",
       "min   -168469.600000\n",
       "25%         3.750000\n",
       "50%         9.840000\n",
       "75%        17.400000\n",
       "max    168469.600000"
      ]
     },
     "execution_count": 98,
     "metadata": {},
     "output_type": "execute_result"
    }
   ],
   "source": [
    "df[['TotalPrice']].describe()"
   ]
  },
  {
   "cell_type": "code",
   "execution_count": 99,
   "metadata": {
    "id": "-VJd-zJU9qSR"
   },
   "outputs": [
    {
     "data": {
      "text/plain": [
       "(1000, 100)"
      ]
     },
     "execution_count": 99,
     "metadata": {},
     "output_type": "execute_result"
    }
   ],
   "source": [
    "df_s = np.random.choice(df['TotalPrice'], size=(1000, 100))\n",
    "df_s.shape"
   ]
  },
  {
   "cell_type": "markdown",
   "metadata": {},
   "source": [
    "- 크기 100인 표본 1000개 생성"
   ]
  },
  {
   "cell_type": "code",
   "execution_count": 100,
   "metadata": {},
   "outputs": [
    {
     "name": "stdout",
     "output_type": "stream",
     "text": [
      "전체 데이터셋의 TotalPrice 평균: 18.5594, 표준편차: 367.5182\n",
      "표본 1개의 TotalPrice 평균: 16.3130, 표준편차: 48.5247, 비편향 표준편차: 48.7692\n"
     ]
    }
   ],
   "source": [
    "print(f\"전체 데이터셋의 TotalPrice 평균: {df['TotalPrice'].mean():.4f}, 표준편차: {df['TotalPrice'].std():.4f}\")\n",
    "print(f\"표본 1개의 TotalPrice 평균: {df_s[0].mean():.4f}, 표준편차: {df_s[0].std():.4f}, 비편향 표준편차: {df_s[0].std(ddof=1):.4f}\")"
   ]
  },
  {
   "cell_type": "markdown",
   "metadata": {},
   "source": [
    "- 모평균과 표본1개의 평균은 차이가 있긴 하나 큰 차이는 없는 것으로 보임\n",
    "- 그러나, 표본의 표준편차와 비편향 표준편차는 모두 모집단의 표준편차와 큰 차이가 남."
   ]
  },
  {
   "cell_type": "code",
   "execution_count": 101,
   "metadata": {
    "id": "ZauLBaxV9qJf"
   },
   "outputs": [
    {
     "name": "stdout",
     "output_type": "stream",
     "text": [
      "전체 데이터셋의 TotalPrice 평균: 18.5594, 표준편차: 367.5182\n",
      "표본평균 분포의 평균: 19.2683, 표준편차: 14.2863\n"
     ]
    }
   ],
   "source": [
    "print(f\"전체 데이터셋의 TotalPrice 평균: {df['TotalPrice'].mean():.4f}, 표준편차: {df['TotalPrice'].std():.4f}\")\n",
    "print(f\"표본평균 분포의 평균: {df_s.mean(axis=1).mean():.4f}, 표준편차: {df_s.mean(axis=1).std():.4f}\")"
   ]
  },
  {
   "cell_type": "markdown",
   "metadata": {},
   "source": [
    "- 중심극한정리에 의하면 표본평균 분포의 평균은 모평균과 같아야하고, 표준편차는 모표준편차에 표본크기의 제곱근을 나눈 값과 같아야 한다.\n",
    "- 표본평균 분포의 평균은 표본 1개의 평균보다는 조금 더 모평균과 비슷한 값을 보임\n",
    "- 표본평균 분포의 표준편차는 모표준편차로 계산한 표본평균 분포의 표준편차와 약 22정도의 차이를 보인다  \n",
    "=> 물론 재현을 위해 seed값을 고정하긴 했으나, describe를 확인했을 때 이상치 등으로 인해 오차가 발생한 것으로 보임"
   ]
  },
  {
   "cell_type": "code",
   "execution_count": 102,
   "metadata": {},
   "outputs": [
    {
     "name": "stdout",
     "output_type": "stream",
     "text": [
      "모표준편차로부터 계산한 표본평균 분포의 표준편차:  36.75181762718238\n"
     ]
    }
   ],
   "source": [
    "print('모표준편차로부터 계산한 표본평균 분포의 표준편차: ', df['TotalPrice'].std() / np.sqrt(100))"
   ]
  },
  {
   "cell_type": "markdown",
   "metadata": {
    "id": "dvTXhGBpNG2E"
   },
   "source": [
    "## 2. 주문이 가장 많은 상위 두 국가의 'TotalPrice' 평균에 차이가 있는지 검증하세요.\n",
    "\n",
    "* 'Country' 변수를 바탕으로 주문이 가장 많은 상위 두 국가를 찾으세요.\n",
    "* 독립표본 t-검정을 사용하여 두 국가 간 'TotalPrice' 평균의 차이가 통계적으로 유의미한지 검증하세요.  \n",
    "* t-통계량과 p-값을 해석하여 결과를 설명하고, 1종 오류와 2종 오류의 개념을 적용하여 설명해주세요."
   ]
  },
  {
   "cell_type": "code",
   "execution_count": 103,
   "metadata": {
    "id": "ffgl-6Kk9rrO"
   },
   "outputs": [
    {
     "data": {
      "text/plain": [
       "United Kingdom    492930\n",
       "Germany             9493\n",
       "Name: Country, dtype: int64"
      ]
     },
     "execution_count": 103,
     "metadata": {},
     "output_type": "execute_result"
    }
   ],
   "source": [
    "df['Country'].value_counts()[:2]"
   ]
  },
  {
   "cell_type": "markdown",
   "metadata": {},
   "source": [
    "- United Kingdom, Germany 순으로 주문이 많음"
   ]
  },
  {
   "cell_type": "code",
   "execution_count": 104,
   "metadata": {
    "id": "UuN-1uRCNz_I"
   },
   "outputs": [
    {
     "name": "stdout",
     "output_type": "stream",
     "text": [
      "United Kingdom의 TotalPrice 평균:  17.14\n",
      "Germany의 TotalPrice 평균:  23.35\n"
     ]
    }
   ],
   "source": [
    "print('United Kingdom의 TotalPrice 평균: ', round(df.loc[df['Country']=='United Kingdom', 'TotalPrice'].mean(),2))\n",
    "print('Germany의 TotalPrice 평균: ', round(df.loc[df['Country']=='Germany', 'TotalPrice'].mean(),2))"
   ]
  },
  {
   "cell_type": "markdown",
   "metadata": {},
   "source": [
    "- 우리가 갖고있는 모든 데이터가 모집단이라는 가정하에 주문이 가장 많은 상위 두 국가의 TotalPrice 평균"
   ]
  },
  {
   "cell_type": "code",
   "execution_count": 105,
   "metadata": {},
   "outputs": [],
   "source": [
    "uk_s = df.loc[df['Country']=='United Kingdom', 'TotalPrice'].sample(1000, random_state=11)\n",
    "g_s = df.loc[df['Country']=='Germany', 'TotalPrice'].sample(1000, random_state=11)"
   ]
  },
  {
   "cell_type": "markdown",
   "metadata": {},
   "source": [
    "- 각 국가에서 표본 크기 1000인 표본 추출"
   ]
  },
  {
   "cell_type": "code",
   "execution_count": 106,
   "metadata": {},
   "outputs": [
    {
     "name": "stdout",
     "output_type": "stream",
     "text": [
      "uk_s의 평균:  19.65 분산:  5235.82\n",
      "g_s의 평균:  22.54 분산:  896.46\n"
     ]
    }
   ],
   "source": [
    "print('uk_s의 평균: ', round(uk_s.mean(),2), '분산: ', round(uk_s.var(ddof=1),2))\n",
    "print('g_s의 평균: ', round(g_s.mean(),2), '분산: ', round(g_s.var(ddof=1),2))"
   ]
  },
  {
   "cell_type": "code",
   "execution_count": 107,
   "metadata": {},
   "outputs": [
    {
     "data": {
      "image/png": "[encoded data removed]",
      "text/plain": [
       "<Figure size 1200x400 with 2 Axes>"
      ]
     },
     "metadata": {},
     "output_type": "display_data"
    }
   ],
   "source": [
    "f, ax = plt.subplots(1, 2, figsize=(12,4))\n",
    "sns.histplot(uk_s, bins=100, ax=ax[0])\n",
    "ax[0].set_title('United Kingdom Distribution')\n",
    "sns.histplot(g_s, bins=100, ax=ax[1])\n",
    "ax[1].set_title('Germany Distribution')\n",
    "plt.show()"
   ]
  },
  {
   "cell_type": "markdown",
   "metadata": {},
   "source": [
    "- 두 국가 모두 이상치로 인해 대부분의 분포가 왼쪽에 몰려있다."
   ]
  },
  {
   "cell_type": "code",
   "execution_count": 108,
   "metadata": {},
   "outputs": [
    {
     "name": "stdout",
     "output_type": "stream",
     "text": [
      "t-통계량:  -1.166412637182753\n",
      "p-값 0.243656546209105\n"
     ]
    }
   ],
   "source": [
    "t, p = stats.ttest_ind(uk_s, g_s, equal_var=False)\n",
    "print('t-통계량: ', t)\n",
    "print('p-값', p)"
   ]
  },
  {
   "cell_type": "markdown",
   "metadata": {},
   "source": [
    "- 표본의 분산이 큰 차이가 나 웰치검정으로 시행했을 때의 결과"
   ]
  },
  {
   "cell_type": "code",
   "execution_count": 109,
   "metadata": {},
   "outputs": [
    {
     "name": "stdout",
     "output_type": "stream",
     "text": [
      "t-통계량:  -1.166412637182753\n",
      "p-값 0.24358685602221325\n"
     ]
    }
   ],
   "source": [
    "t, p = stats.ttest_ind(uk_s, g_s, equal_var=True)\n",
    "print('t-통계량: ', t)\n",
    "print('p-값', p)"
   ]
  },
  {
   "cell_type": "markdown",
   "metadata": {},
   "source": [
    "- 표준검정 시행했을 때의 결과"
   ]
  },
  {
   "cell_type": "markdown",
   "metadata": {},
   "source": [
    "- t-통계량의 경우 약 -1.16으로 절댓값이 1.96보다 작으므로 유의미한 차이가 있다고 보기 어려움\n",
    "- p-값을 통해서도 약 0.24로 유의수준 0.05를 기준으로 하면 0.24 > 0.05로 귀무가설 기각을 보류해야 할 것으로 보임\n",
    "- 즉, 두 집단의 평균 간 유의미한 차이가 없는 것으로 나왔음\n",
    "- 모집단의 평균 차이는 약 6으로, 유의미한 차이가 있다는 것으로 생각해볼 경우 t-검정을 통한 결과는 '실제로 차이가 있지만 없다고 판단한 것'이게 됨.\n",
    "- 따라서 '귀무가설을 기각해야 했으나 귀무가설 기각을 하지 않는 판단을 내린 제 2종 오류'의 가능성이 존재함\n",
    "- 1종오류는 '귀무가설이 옳았으나 유의미한 차이가 있다고 판단해 귀무가설을 기각하는 오류'를 말하며 위 결과만을 봤을 땐 해당되지 않음"
   ]
  },
  {
   "cell_type": "markdown",
   "metadata": {
    "id": "yWpUgBedN0PK"
   },
   "source": [
    "## 3. 주중, 주말에 따라서 발생하는 UnitPrice의 분포가 달라지는지 확인하세요.\n",
    "\n",
    "* 주중의 'UnitPrice'와 주말의 'UnitPrice'의 분포를 분석하기 위해 데이터의 중심경향치(평균, 중간값), 변산성(표준편차, 분산), 분위수를 계산하세요.  \n",
    "* 상자수염그림과 히스토그램을 그려 시각화를 통해 분포를 확인하고 데이터의 분포에 대해 설명해주세요."
   ]
  },
  {
   "cell_type": "code",
   "execution_count": 110,
   "metadata": {},
   "outputs": [
    {
     "data": {
      "text/plain": [
       "count    474958.000000\n",
       "mean          4.066862\n",
       "std          21.482542\n",
       "min           0.001000\n",
       "25%           1.250000\n",
       "50%           2.100000\n",
       "75%           4.130000\n",
       "max        1917.000000\n",
       "Name: UnitPrice, dtype: float64"
      ]
     },
     "execution_count": 110,
     "metadata": {},
     "output_type": "execute_result"
    }
   ],
   "source": [
    "df.loc[df['is_weekday'] == 1, 'UnitPrice'].describe()"
   ]
  },
  {
   "cell_type": "markdown",
   "metadata": {},
   "source": [
    "- 주중 UnitPrice의 정보"
   ]
  },
  {
   "cell_type": "code",
   "execution_count": 111,
   "metadata": {},
   "outputs": [
    {
     "data": {
      "text/plain": [
       "count    64370.000000\n",
       "mean         2.888049\n",
       "std          7.959766\n",
       "min          0.001000\n",
       "25%          1.250000\n",
       "50%          1.850000\n",
       "75%          3.750000\n",
       "max       1236.750000\n",
       "Name: UnitPrice, dtype: float64"
      ]
     },
     "execution_count": 111,
     "metadata": {},
     "output_type": "execute_result"
    }
   ],
   "source": [
    "df.loc[df['is_weekday'] == 0, 'UnitPrice'].describe()"
   ]
  },
  {
   "cell_type": "markdown",
   "metadata": {},
   "source": [
    "- 주말 UnitPrice의 정보"
   ]
  },
  {
   "cell_type": "code",
   "execution_count": 112,
   "metadata": {},
   "outputs": [
    {
     "data": {
      "image/png": "[encoded data removed]",
      "text/plain": [
       "<Figure size 1200x800 with 4 Axes>"
      ]
     },
     "metadata": {},
     "output_type": "display_data"
    }
   ],
   "source": [
    "f, ax = plt.subplots(2, 2, figsize=(12, 8))\n",
    "\n",
    "sns.boxplot(df.loc[df['is_weekday'] == 1, 'UnitPrice'], ax=ax[0, 0])\n",
    "ax[0,0].set_title('UnitPrice of Weekday')\n",
    "sns.boxplot(df.loc[df['is_weekday'] == 0, 'UnitPrice'], ax=ax[0, 1])\n",
    "ax[0,1].set_title('UnitPrice of Weekend')\n",
    "sns.histplot(df.loc[df['is_weekday'] == 1, 'UnitPrice'], ax=ax[1, 0], bins=50)\n",
    "ax[1,0].set_title('UnitPrice of Weekday')\n",
    "sns.histplot(df.loc[df['is_weekday'] == 0, 'UnitPrice'], ax=ax[1, 1], bins=50)\n",
    "ax[1,1].set_title('UnitPrice of Weekend')\n",
    "plt.subplots_adjust(wspace=0.2, hspace=0.4)\n",
    "\n",
    "plt.show()"
   ]
  },
  {
   "cell_type": "markdown",
   "metadata": {},
   "source": [
    "- 원본 데이터의 분포\n",
    "- 이상치로 인해 왼쪽으로 분포가 치우친 모습\n",
    "- 원활한 시각화를 위해 로그 스케일로 변환해서 시각화"
   ]
  },
  {
   "cell_type": "code",
   "execution_count": 113,
   "metadata": {
    "id": "rAMuPWXh9uAN"
   },
   "outputs": [
    {
     "data": {
      "image/png": "[encoded data removed]",
      "text/plain": [
       "<Figure size 1200x800 with 4 Axes>"
      ]
     },
     "metadata": {},
     "output_type": "display_data"
    }
   ],
   "source": [
    "f, ax = plt.subplots(2, 2, figsize=(12, 8))\n",
    "\n",
    "sns.boxplot(np.log(df.loc[df['is_weekday'] == 1, 'UnitPrice']), ax=ax[0, 0])\n",
    "ax[0,0].set_title('UnitPrice of Weekday')\n",
    "sns.boxplot(np.log(df.loc[df['is_weekday'] == 0, 'UnitPrice']), ax=ax[0, 1])\n",
    "ax[0,1].set_title('UnitPrice of Weekend')\n",
    "sns.histplot(np.log(df.loc[df['is_weekday'] == 1, 'UnitPrice']), ax=ax[1, 0], bins=50)\n",
    "ax[1,0].set_title('UnitPrice of Weekday')\n",
    "sns.histplot(np.log(df.loc[df['is_weekday'] == 0, 'UnitPrice']), ax=ax[1, 1], bins=50)\n",
    "ax[1,1].set_title('UnitPrice of Weekend')\n",
    "plt.subplots_adjust(wspace=0.2, hspace=0.4)\n",
    "\n",
    "plt.show()"
   ]
  },
  {
   "cell_type": "markdown",
   "metadata": {},
   "source": [
    "- 차이가 큰 값들로 인해 원본 데이터로 그래프를 그리면 분포 확인에 제한이 생겨 로그 스케일로 변환하여 시각화해 분포 확인\n",
    "- 로그 스케일로 변환하여대체로 정규분포와 비슷한 분포를 보임\n",
    "- 분위수를 보면 주중의 UnitPrice가 대체로 주말의 UnitPrice보다 근소하게 높음\n",
    "- 주중의 평균 UnitPrice는 최댓값의 영향으로 주말의 UnitPrice보다 높은 것으로 보임\n",
    "- 주중의 UnitPrice 편차가 주말보다 더 큰 모습을 보임\n",
    "- 그러나 눈에 띌만한 큰 차이는 식별되지 않음"
   ]
  },
  {
   "cell_type": "markdown",
   "metadata": {
    "id": "zbNpkFBBT4aK"
   },
   "source": [
    "## 4. 상품의 단가와 판매 국가, 판매 날짜을 이용해 판매 수량을 예측하는 회귀 모델을 만드세요.\n",
    "* 필요한 데이터를 정리하고 결측치와 이상치를 제거해주세요.  \n",
    "* 변수를 다음과 같이 설정하여 다중 선형 회귀 분석을 진행하세요.\n",
    "    * 종속변수: 판매 수량(`Quantity`)\n",
    "    * 독립변수: 상품 단가(`UnitPrice`), 판매 국가(`Country`), 판매 요일(`DayOfWeek`), 판매 월( `InvoiceMonth`)   \n",
    "* 회귀계수와 결정계수를 활용하여 회귀 분석 결과를 해석해주세요."
   ]
  },
  {
   "cell_type": "markdown",
   "metadata": {},
   "source": [
    "- 앞에서 DayOfWeek의 정보를 is_weekday에서 사용하였으므로, 분석 시 DayOfWeek 대신 is_weekday 사용"
   ]
  },
  {
   "cell_type": "code",
   "execution_count": 114,
   "metadata": {},
   "outputs": [],
   "source": [
    "df_lr = df.drop(['InvoiceNo', 'Description', 'CustomerID', 'StockCode', 'TotalPrice'], axis=1)"
   ]
  },
  {
   "cell_type": "code",
   "execution_count": 115,
   "metadata": {
    "scrolled": true
   },
   "outputs": [
    {
     "data": {
      "text/html": [
       "<div>\n",
       "<style scoped>\n",
       "    .dataframe tbody tr th:only-of-type {\n",
       "        vertical-align: middle;\n",
       "    }\n",
       "\n",
       "    .dataframe tbody tr th {\n",
       "        vertical-align: top;\n",
       "    }\n",
       "\n",
       "    .dataframe thead th {\n",
       "        text-align: right;\n",
       "    }\n",
       "</style>\n",
       "<table border=\"1\" class=\"dataframe\">\n",
       "  <thead>\n",
       "    <tr style=\"text-align: right;\">\n",
       "      <th></th>\n",
       "      <th>Quantity</th>\n",
       "      <th>UnitPrice</th>\n",
       "      <th>Country</th>\n",
       "      <th>is_weekday</th>\n",
       "      <th>InvoiceMonth</th>\n",
       "    </tr>\n",
       "  </thead>\n",
       "  <tbody>\n",
       "    <tr>\n",
       "      <th>0</th>\n",
       "      <td>6</td>\n",
       "      <td>2.55</td>\n",
       "      <td>United Kingdom</td>\n",
       "      <td>1</td>\n",
       "      <td>12</td>\n",
       "    </tr>\n",
       "    <tr>\n",
       "      <th>1</th>\n",
       "      <td>6</td>\n",
       "      <td>3.39</td>\n",
       "      <td>United Kingdom</td>\n",
       "      <td>1</td>\n",
       "      <td>12</td>\n",
       "    </tr>\n",
       "    <tr>\n",
       "      <th>2</th>\n",
       "      <td>8</td>\n",
       "      <td>2.75</td>\n",
       "      <td>United Kingdom</td>\n",
       "      <td>1</td>\n",
       "      <td>12</td>\n",
       "    </tr>\n",
       "    <tr>\n",
       "      <th>3</th>\n",
       "      <td>6</td>\n",
       "      <td>3.39</td>\n",
       "      <td>United Kingdom</td>\n",
       "      <td>1</td>\n",
       "      <td>12</td>\n",
       "    </tr>\n",
       "    <tr>\n",
       "      <th>4</th>\n",
       "      <td>6</td>\n",
       "      <td>3.39</td>\n",
       "      <td>United Kingdom</td>\n",
       "      <td>1</td>\n",
       "      <td>12</td>\n",
       "    </tr>\n",
       "  </tbody>\n",
       "</table>\n",
       "</div>"
      ],
      "text/plain": [
       "   Quantity  UnitPrice         Country  is_weekday  InvoiceMonth\n",
       "0         6       2.55  United Kingdom           1            12\n",
       "1         6       3.39  United Kingdom           1            12\n",
       "2         8       2.75  United Kingdom           1            12\n",
       "3         6       3.39  United Kingdom           1            12\n",
       "4         6       3.39  United Kingdom           1            12"
      ]
     },
     "execution_count": 115,
     "metadata": {},
     "output_type": "execute_result"
    }
   ],
   "source": [
    "df_lr.head()"
   ]
  },
  {
   "cell_type": "code",
   "execution_count": 116,
   "metadata": {
    "scrolled": true
   },
   "outputs": [
    {
     "data": {
      "text/plain": [
       "Quantity        0\n",
       "UnitPrice       0\n",
       "Country         0\n",
       "is_weekday      0\n",
       "InvoiceMonth    0\n",
       "dtype: int64"
      ]
     },
     "execution_count": 116,
     "metadata": {},
     "output_type": "execute_result"
    }
   ],
   "source": [
    "df_lr.isna().sum()"
   ]
  },
  {
   "cell_type": "markdown",
   "metadata": {},
   "source": [
    "- 결측치 없음"
   ]
  },
  {
   "cell_type": "code",
   "execution_count": 117,
   "metadata": {},
   "outputs": [
    {
     "data": {
      "text/html": [
       "<div>\n",
       "<style scoped>\n",
       "    .dataframe tbody tr th:only-of-type {\n",
       "        vertical-align: middle;\n",
       "    }\n",
       "\n",
       "    .dataframe tbody tr th {\n",
       "        vertical-align: top;\n",
       "    }\n",
       "\n",
       "    .dataframe thead th {\n",
       "        text-align: right;\n",
       "    }\n",
       "</style>\n",
       "<table border=\"1\" class=\"dataframe\">\n",
       "  <thead>\n",
       "    <tr style=\"text-align: right;\">\n",
       "      <th></th>\n",
       "      <th>Quantity</th>\n",
       "      <th>UnitPrice</th>\n",
       "      <th>is_weekday</th>\n",
       "      <th>InvoiceMonth</th>\n",
       "    </tr>\n",
       "  </thead>\n",
       "  <tbody>\n",
       "    <tr>\n",
       "      <th>count</th>\n",
       "      <td>539328.000000</td>\n",
       "      <td>539328.000000</td>\n",
       "      <td>539328.000000</td>\n",
       "      <td>539328.000000</td>\n",
       "    </tr>\n",
       "    <tr>\n",
       "      <th>mean</th>\n",
       "      <td>9.847115</td>\n",
       "      <td>3.926168</td>\n",
       "      <td>0.880648</td>\n",
       "      <td>7.555766</td>\n",
       "    </tr>\n",
       "    <tr>\n",
       "      <th>std</th>\n",
       "      <td>215.425404</td>\n",
       "      <td>20.350094</td>\n",
       "      <td>0.324203</td>\n",
       "      <td>3.508867</td>\n",
       "    </tr>\n",
       "    <tr>\n",
       "      <th>min</th>\n",
       "      <td>-80995.000000</td>\n",
       "      <td>0.001000</td>\n",
       "      <td>0.000000</td>\n",
       "      <td>1.000000</td>\n",
       "    </tr>\n",
       "    <tr>\n",
       "      <th>25%</th>\n",
       "      <td>1.000000</td>\n",
       "      <td>1.250000</td>\n",
       "      <td>1.000000</td>\n",
       "      <td>5.000000</td>\n",
       "    </tr>\n",
       "    <tr>\n",
       "      <th>50%</th>\n",
       "      <td>3.000000</td>\n",
       "      <td>2.080000</td>\n",
       "      <td>1.000000</td>\n",
       "      <td>8.000000</td>\n",
       "    </tr>\n",
       "    <tr>\n",
       "      <th>75%</th>\n",
       "      <td>10.000000</td>\n",
       "      <td>4.130000</td>\n",
       "      <td>1.000000</td>\n",
       "      <td>11.000000</td>\n",
       "    </tr>\n",
       "    <tr>\n",
       "      <th>max</th>\n",
       "      <td>80995.000000</td>\n",
       "      <td>1917.000000</td>\n",
       "      <td>1.000000</td>\n",
       "      <td>12.000000</td>\n",
       "    </tr>\n",
       "  </tbody>\n",
       "</table>\n",
       "</div>"
      ],
      "text/plain": [
       "            Quantity      UnitPrice     is_weekday   InvoiceMonth\n",
       "count  539328.000000  539328.000000  539328.000000  539328.000000\n",
       "mean        9.847115       3.926168       0.880648       7.555766\n",
       "std       215.425404      20.350094       0.324203       3.508867\n",
       "min    -80995.000000       0.001000       0.000000       1.000000\n",
       "25%         1.000000       1.250000       1.000000       5.000000\n",
       "50%         3.000000       2.080000       1.000000       8.000000\n",
       "75%        10.000000       4.130000       1.000000      11.000000\n",
       "max     80995.000000    1917.000000       1.000000      12.000000"
      ]
     },
     "execution_count": 117,
     "metadata": {},
     "output_type": "execute_result"
    }
   ],
   "source": [
    "df_lr.describe()"
   ]
  },
  {
   "cell_type": "code",
   "execution_count": 118,
   "metadata": {},
   "outputs": [
    {
     "data": {
      "text/html": [
       "<div>\n",
       "<style scoped>\n",
       "    .dataframe tbody tr th:only-of-type {\n",
       "        vertical-align: middle;\n",
       "    }\n",
       "\n",
       "    .dataframe tbody tr th {\n",
       "        vertical-align: top;\n",
       "    }\n",
       "\n",
       "    .dataframe thead th {\n",
       "        text-align: right;\n",
       "    }\n",
       "</style>\n",
       "<table border=\"1\" class=\"dataframe\">\n",
       "  <thead>\n",
       "    <tr style=\"text-align: right;\">\n",
       "      <th></th>\n",
       "      <th>Quantity</th>\n",
       "      <th>UnitPrice</th>\n",
       "      <th>is_weekday</th>\n",
       "      <th>InvoiceMonth</th>\n",
       "    </tr>\n",
       "  </thead>\n",
       "  <tbody>\n",
       "    <tr>\n",
       "      <th>Quantity</th>\n",
       "      <td>1.000000</td>\n",
       "      <td>-0.004585</td>\n",
       "      <td>0.004410</td>\n",
       "      <td>-0.001395</td>\n",
       "    </tr>\n",
       "    <tr>\n",
       "      <th>UnitPrice</th>\n",
       "      <td>-0.004585</td>\n",
       "      <td>1.000000</td>\n",
       "      <td>0.018780</td>\n",
       "      <td>-0.004867</td>\n",
       "    </tr>\n",
       "    <tr>\n",
       "      <th>is_weekday</th>\n",
       "      <td>0.004410</td>\n",
       "      <td>0.018780</td>\n",
       "      <td>1.000000</td>\n",
       "      <td>-0.032542</td>\n",
       "    </tr>\n",
       "    <tr>\n",
       "      <th>InvoiceMonth</th>\n",
       "      <td>-0.001395</td>\n",
       "      <td>-0.004867</td>\n",
       "      <td>-0.032542</td>\n",
       "      <td>1.000000</td>\n",
       "    </tr>\n",
       "  </tbody>\n",
       "</table>\n",
       "</div>"
      ],
      "text/plain": [
       "              Quantity  UnitPrice  is_weekday  InvoiceMonth\n",
       "Quantity      1.000000  -0.004585    0.004410     -0.001395\n",
       "UnitPrice    -0.004585   1.000000    0.018780     -0.004867\n",
       "is_weekday    0.004410   0.018780    1.000000     -0.032542\n",
       "InvoiceMonth -0.001395  -0.004867   -0.032542      1.000000"
      ]
     },
     "execution_count": 118,
     "metadata": {},
     "output_type": "execute_result"
    }
   ],
   "source": [
    "df_lr.corr()"
   ]
  },
  {
   "cell_type": "markdown",
   "metadata": {},
   "source": [
    "- 상관계수 확인해보니 대부분 0에 가까우며 독립변수들이 서로 독립적인 것으로 보임\n",
    "- 그러나, 변수 간 선형이 아닌 비선형 관계를 가지고 있을 가능성도 있음"
   ]
  },
  {
   "cell_type": "code",
   "execution_count": 119,
   "metadata": {},
   "outputs": [
    {
     "data": {
      "text/html": [
       "<div>\n",
       "<style scoped>\n",
       "    .dataframe tbody tr th:only-of-type {\n",
       "        vertical-align: middle;\n",
       "    }\n",
       "\n",
       "    .dataframe tbody tr th {\n",
       "        vertical-align: top;\n",
       "    }\n",
       "\n",
       "    .dataframe thead th {\n",
       "        text-align: right;\n",
       "    }\n",
       "</style>\n",
       "<table border=\"1\" class=\"dataframe\">\n",
       "  <thead>\n",
       "    <tr style=\"text-align: right;\">\n",
       "      <th></th>\n",
       "      <th>InvoiceNo</th>\n",
       "      <th>StockCode</th>\n",
       "      <th>Description</th>\n",
       "      <th>Quantity</th>\n",
       "      <th>UnitPrice</th>\n",
       "      <th>CustomerID</th>\n",
       "      <th>Country</th>\n",
       "      <th>TotalPrice</th>\n",
       "      <th>is_weekday</th>\n",
       "      <th>InvoiceMonth</th>\n",
       "    </tr>\n",
       "  </thead>\n",
       "  <tbody>\n",
       "    <tr>\n",
       "      <th>96</th>\n",
       "      <td>536378</td>\n",
       "      <td>21212</td>\n",
       "      <td>PACK OF 72 RETROSPOT CAKE CASES</td>\n",
       "      <td>120</td>\n",
       "      <td>0.42</td>\n",
       "      <td>14688</td>\n",
       "      <td>United Kingdom</td>\n",
       "      <td>50.40</td>\n",
       "      <td>1</td>\n",
       "      <td>12</td>\n",
       "    </tr>\n",
       "    <tr>\n",
       "      <th>178</th>\n",
       "      <td>536387</td>\n",
       "      <td>79321</td>\n",
       "      <td>CHILLI LIGHTS</td>\n",
       "      <td>192</td>\n",
       "      <td>3.82</td>\n",
       "      <td>16029</td>\n",
       "      <td>United Kingdom</td>\n",
       "      <td>733.44</td>\n",
       "      <td>1</td>\n",
       "      <td>12</td>\n",
       "    </tr>\n",
       "    <tr>\n",
       "      <th>179</th>\n",
       "      <td>536387</td>\n",
       "      <td>22780</td>\n",
       "      <td>LIGHT GARLAND BUTTERFILES PINK</td>\n",
       "      <td>192</td>\n",
       "      <td>3.37</td>\n",
       "      <td>16029</td>\n",
       "      <td>United Kingdom</td>\n",
       "      <td>647.04</td>\n",
       "      <td>1</td>\n",
       "      <td>12</td>\n",
       "    </tr>\n",
       "    <tr>\n",
       "      <th>180</th>\n",
       "      <td>536387</td>\n",
       "      <td>22779</td>\n",
       "      <td>WOODEN OWLS LIGHT GARLAND</td>\n",
       "      <td>192</td>\n",
       "      <td>3.37</td>\n",
       "      <td>16029</td>\n",
       "      <td>United Kingdom</td>\n",
       "      <td>647.04</td>\n",
       "      <td>1</td>\n",
       "      <td>12</td>\n",
       "    </tr>\n",
       "    <tr>\n",
       "      <th>181</th>\n",
       "      <td>536387</td>\n",
       "      <td>22466</td>\n",
       "      <td>FAIRY TALE COTTAGE NIGHTLIGHT</td>\n",
       "      <td>432</td>\n",
       "      <td>1.45</td>\n",
       "      <td>16029</td>\n",
       "      <td>United Kingdom</td>\n",
       "      <td>626.40</td>\n",
       "      <td>1</td>\n",
       "      <td>12</td>\n",
       "    </tr>\n",
       "    <tr>\n",
       "      <th>...</th>\n",
       "      <td>...</td>\n",
       "      <td>...</td>\n",
       "      <td>...</td>\n",
       "      <td>...</td>\n",
       "      <td>...</td>\n",
       "      <td>...</td>\n",
       "      <td>...</td>\n",
       "      <td>...</td>\n",
       "      <td>...</td>\n",
       "      <td>...</td>\n",
       "    </tr>\n",
       "    <tr>\n",
       "      <th>537861</th>\n",
       "      <td>581487</td>\n",
       "      <td>21137</td>\n",
       "      <td>BLACK RECORD COVER FRAME</td>\n",
       "      <td>120</td>\n",
       "      <td>3.39</td>\n",
       "      <td>15694</td>\n",
       "      <td>United Kingdom</td>\n",
       "      <td>406.80</td>\n",
       "      <td>1</td>\n",
       "      <td>12</td>\n",
       "    </tr>\n",
       "    <tr>\n",
       "      <th>538705</th>\n",
       "      <td>581497</td>\n",
       "      <td>22355</td>\n",
       "      <td>CHARLOTTE BAG SUKI DESIGN</td>\n",
       "      <td>110</td>\n",
       "      <td>2.46</td>\n",
       "      <td>NaN</td>\n",
       "      <td>United Kingdom</td>\n",
       "      <td>270.60</td>\n",
       "      <td>1</td>\n",
       "      <td>12</td>\n",
       "    </tr>\n",
       "    <tr>\n",
       "      <th>538964</th>\n",
       "      <td>581501</td>\n",
       "      <td>22319</td>\n",
       "      <td>HAIRCLIPS FORTIES FABRIC ASSORTED</td>\n",
       "      <td>180</td>\n",
       "      <td>0.19</td>\n",
       "      <td>12985</td>\n",
       "      <td>United Kingdom</td>\n",
       "      <td>34.20</td>\n",
       "      <td>1</td>\n",
       "      <td>12</td>\n",
       "    </tr>\n",
       "    <tr>\n",
       "      <th>539121</th>\n",
       "      <td>581566</td>\n",
       "      <td>23404</td>\n",
       "      <td>HOME SWEET HOME BLACKBOARD</td>\n",
       "      <td>144</td>\n",
       "      <td>3.26</td>\n",
       "      <td>18102</td>\n",
       "      <td>United Kingdom</td>\n",
       "      <td>469.44</td>\n",
       "      <td>1</td>\n",
       "      <td>12</td>\n",
       "    </tr>\n",
       "    <tr>\n",
       "      <th>539130</th>\n",
       "      <td>581567</td>\n",
       "      <td>21326</td>\n",
       "      <td>AGED GLASS SILVER T-LIGHT HOLDER</td>\n",
       "      <td>144</td>\n",
       "      <td>0.55</td>\n",
       "      <td>16626</td>\n",
       "      <td>United Kingdom</td>\n",
       "      <td>79.20</td>\n",
       "      <td>1</td>\n",
       "      <td>12</td>\n",
       "    </tr>\n",
       "  </tbody>\n",
       "</table>\n",
       "<p>4849 rows × 10 columns</p>\n",
       "</div>"
      ],
      "text/plain": [
       "       InvoiceNo StockCode                        Description  Quantity  \\\n",
       "96        536378     21212    PACK OF 72 RETROSPOT CAKE CASES       120   \n",
       "178       536387     79321                      CHILLI LIGHTS       192   \n",
       "179       536387     22780     LIGHT GARLAND BUTTERFILES PINK       192   \n",
       "180       536387     22779         WOODEN OWLS LIGHT GARLAND        192   \n",
       "181       536387     22466      FAIRY TALE COTTAGE NIGHTLIGHT       432   \n",
       "...          ...       ...                                ...       ...   \n",
       "537861    581487     21137           BLACK RECORD COVER FRAME       120   \n",
       "538705    581497     22355          CHARLOTTE BAG SUKI DESIGN       110   \n",
       "538964    581501     22319  HAIRCLIPS FORTIES FABRIC ASSORTED       180   \n",
       "539121    581566     23404         HOME SWEET HOME BLACKBOARD       144   \n",
       "539130    581567     21326   AGED GLASS SILVER T-LIGHT HOLDER       144   \n",
       "\n",
       "        UnitPrice CustomerID         Country  TotalPrice  is_weekday  \\\n",
       "96           0.42      14688  United Kingdom       50.40           1   \n",
       "178          3.82      16029  United Kingdom      733.44           1   \n",
       "179          3.37      16029  United Kingdom      647.04           1   \n",
       "180          3.37      16029  United Kingdom      647.04           1   \n",
       "181          1.45      16029  United Kingdom      626.40           1   \n",
       "...           ...        ...             ...         ...         ...   \n",
       "537861       3.39      15694  United Kingdom      406.80           1   \n",
       "538705       2.46        NaN  United Kingdom      270.60           1   \n",
       "538964       0.19      12985  United Kingdom       34.20           1   \n",
       "539121       3.26      18102  United Kingdom      469.44           1   \n",
       "539130       0.55      16626  United Kingdom       79.20           1   \n",
       "\n",
       "        InvoiceMonth  \n",
       "96                12  \n",
       "178               12  \n",
       "179               12  \n",
       "180               12  \n",
       "181               12  \n",
       "...              ...  \n",
       "537861            12  \n",
       "538705            12  \n",
       "538964            12  \n",
       "539121            12  \n",
       "539130            12  \n",
       "\n",
       "[4849 rows x 10 columns]"
      ]
     },
     "execution_count": 119,
     "metadata": {},
     "output_type": "execute_result"
    }
   ],
   "source": [
    "df[df['Quantity'] > 100]"
   ]
  },
  {
   "cell_type": "code",
   "execution_count": 120,
   "metadata": {},
   "outputs": [],
   "source": [
    "df_lr = df_lr[df_lr['Quantity'] > 0]\n",
    "df_lr = df_lr[df_lr['Quantity'] < 100]"
   ]
  },
  {
   "cell_type": "markdown",
   "metadata": {},
   "source": [
    "- 판매수량을 예측해야하므로, 여기서는 비정상적으로 수량이 크거나 반품 데이터는 제거\n",
    "- 여기서는 100을 기준으로 잡았으며, 데이터 50만개 중 5천개는 제거해도 무방할 것으로 판단됨"
   ]
  },
  {
   "cell_type": "code",
   "execution_count": 121,
   "metadata": {},
   "outputs": [],
   "source": [
    "df_lr.reset_index(drop=True, inplace=True)"
   ]
  },
  {
   "cell_type": "markdown",
   "metadata": {},
   "source": [
    "- 데이터 삭제 후 인덱스 정렬"
   ]
  },
  {
   "cell_type": "code",
   "execution_count": 122,
   "metadata": {},
   "outputs": [
    {
     "data": {
      "text/plain": [
       "United Kingdom          480199\n",
       "Germany                   8968\n",
       "France                    8340\n",
       "EIRE                      7646\n",
       "Spain                     2459\n",
       "Belgium                   2021\n",
       "Switzerland               1942\n",
       "Netherlands               1572\n",
       "Portugal                  1496\n",
       "Norway                    1055\n",
       "Australia                  882\n",
       "Italy                      755\n",
       "Channel Islands            743\n",
       "Finland                    674\n",
       "Cyprus                     611\n",
       "Unspecified                446\n",
       "Austria                    394\n",
       "Denmark                    371\n",
       "Sweden                     342\n",
       "Poland                     330\n",
       "Israel                     293\n",
       "Hong Kong                  280\n",
       "Japan                      279\n",
       "Singapore                  214\n",
       "Iceland                    181\n",
       "USA                        179\n",
       "Canada                     149\n",
       "Greece                     145\n",
       "Malta                      112\n",
       "United Arab Emirates        68\n",
       "European Community          60\n",
       "RSA                         57\n",
       "Lebanon                     45\n",
       "Lithuania                   35\n",
       "Brazil                      32\n",
       "Czech Republic              25\n",
       "Bahrain                     18\n",
       "Saudi Arabia                 9\n",
       "Name: Country, dtype: int64"
      ]
     },
     "execution_count": 122,
     "metadata": {},
     "output_type": "execute_result"
    }
   ],
   "source": [
    "df_lr['Country'].value_counts()"
   ]
  },
  {
   "cell_type": "code",
   "execution_count": 123,
   "metadata": {},
   "outputs": [],
   "source": [
    "df_lr['Country'].replace(['Hong Kong', 'Japan', 'Singapore', 'Saudi Arabia', 'Bahrain', 'Lebanon', 'United Arab Emirates', 'Israel'], 'Asia', inplace=True)\n",
    "df_lr['Country'].replace(['USA', 'Brazil', 'Canada'], 'America', inplace=True)\n",
    "df_lr['Country'].replace(['Poland', 'Austria', 'Lithuania', 'Czech Republic'], 'East Europe', inplace=True)\n",
    "df_lr['Country'].replace(['Unspecified', 'European Community', 'RSA'], 'Others', inplace=True)"
   ]
  },
  {
   "cell_type": "markdown",
   "metadata": {},
   "source": [
    "- 대륙으로 묶을 수 있는 정보 묶고, 데이터가 100개보다 적은 국가와 국가명이 없는 경우 하나로 통합"
   ]
  },
  {
   "cell_type": "code",
   "execution_count": 124,
   "metadata": {},
   "outputs": [
    {
     "data": {
      "text/plain": [
       "United Kingdom     480199\n",
       "Germany              8968\n",
       "France               8340\n",
       "EIRE                 7646\n",
       "Spain                2459\n",
       "Belgium              2021\n",
       "Switzerland          1942\n",
       "Netherlands          1572\n",
       "Portugal             1496\n",
       "Asia                 1206\n",
       "Norway               1055\n",
       "Australia             882\n",
       "East Europe           784\n",
       "Italy                 755\n",
       "Channel Islands       743\n",
       "Finland               674\n",
       "Cyprus                611\n",
       "Others                563\n",
       "Denmark               371\n",
       "America               360\n",
       "Sweden                342\n",
       "Iceland               181\n",
       "Greece                145\n",
       "Malta                 112\n",
       "Name: Country, dtype: int64"
      ]
     },
     "execution_count": 124,
     "metadata": {},
     "output_type": "execute_result"
    }
   ],
   "source": [
    "df_lr['Country'].value_counts()"
   ]
  },
  {
   "cell_type": "code",
   "execution_count": 125,
   "metadata": {},
   "outputs": [],
   "source": [
    "df_lr['InvoiceMonth'] = df_lr['InvoiceMonth'].astype(str)"
   ]
  },
  {
   "cell_type": "markdown",
   "metadata": {},
   "source": [
    "- encoding 위해 str로 변환"
   ]
  },
  {
   "cell_type": "code",
   "execution_count": 126,
   "metadata": {
    "id": "RqKAADX-9wLv"
   },
   "outputs": [],
   "source": [
    "import statsmodels.api as sm"
   ]
  },
  {
   "cell_type": "code",
   "execution_count": 127,
   "metadata": {},
   "outputs": [],
   "source": [
    "X = df_lr[['UnitPrice', 'Country', 'is_weekday', 'InvoiceMonth']]\n",
    "X = sm.add_constant(X)\n",
    "y = df_lr['Quantity']"
   ]
  },
  {
   "cell_type": "code",
   "execution_count": 128,
   "metadata": {},
   "outputs": [],
   "source": [
    "X = pd.get_dummies(X, drop_first=True)"
   ]
  },
  {
   "cell_type": "markdown",
   "metadata": {},
   "source": [
    "- 범주형 변수 변환 위해 더미변수 사용"
   ]
  },
  {
   "cell_type": "code",
   "execution_count": 129,
   "metadata": {},
   "outputs": [
    {
     "name": "stdout",
     "output_type": "stream",
     "text": [
      "                            OLS Regression Results                            \n",
      "==============================================================================\n",
      "Dep. Variable:               Quantity   R-squared:                       0.057\n",
      "Model:                            OLS   Adj. R-squared:                  0.057\n",
      "Method:                 Least Squares   F-statistic:                     872.1\n",
      "Date:                Thu, 21 Aug 2025   Prob (F-statistic):               0.00\n",
      "Time:                        22:57:36   Log-Likelihood:            -1.9992e+06\n",
      "No. Observations:              523427   AIC:                         3.998e+06\n",
      "Df Residuals:                  523390   BIC:                         3.999e+06\n",
      "Df Model:                          36                                         \n",
      "Covariance Type:            nonrobust                                         \n",
      "===========================================================================================\n",
      "                              coef    std err          t      P>|t|      [0.025      0.975]\n",
      "-------------------------------------------------------------------------------------------\n",
      "const                      11.4387      0.587     19.492      0.000      10.288      12.589\n",
      "UnitPrice                  -0.0447      0.001    -50.035      0.000      -0.046      -0.043\n",
      "is_weekday                  1.2564      0.047     26.818      0.000       1.165       1.348\n",
      "Country_Asia                8.1005      0.663     12.223      0.000       6.802       9.400\n",
      "Country_Australia          15.5350      0.690     22.514      0.000      14.183      16.887\n",
      "Country_Belgium            -2.4388      0.631     -3.864      0.000      -3.676      -1.202\n",
      "Country_Channel Islands    -2.1333      0.709     -3.010      0.003      -3.522      -0.744\n",
      "Country_Cyprus             -3.9763      0.733     -5.423      0.000      -5.413      -2.539\n",
      "Country_Denmark             4.9451      0.816      6.058      0.000       3.345       6.545\n",
      "Country_EIRE               -0.0190      0.595     -0.032      0.975      -1.185       1.147\n",
      "Country_East Europe        -1.6374      0.702     -2.331      0.020      -3.014      -0.261\n",
      "Country_Finland             0.4556      0.720      0.633      0.527      -0.956       1.867\n",
      "Country_France             -1.0880      0.594     -1.831      0.067      -2.252       0.076\n",
      "Country_Germany            -1.0827      0.593     -1.825      0.068      -2.245       0.080\n",
      "Country_Greece             -2.2480      1.085     -2.072      0.038      -4.375      -0.121\n",
      "Country_Iceland            -0.9277      1.005     -0.923      0.356      -2.898       1.042\n",
      "Country_Italy              -2.9524      0.707     -4.177      0.000      -4.338      -1.567\n",
      "Country_Malta              -4.8480      1.194     -4.061      0.000      -7.188      -2.508\n",
      "Country_Netherlands        25.5938      0.645     39.694      0.000      24.330      26.858\n",
      "Country_Norway              2.9606      0.674      4.396      0.000       1.641       4.281\n",
      "Country_Others             -6.1191      0.745     -8.219      0.000      -7.578      -4.660\n",
      "Country_Portugal           -2.5860      0.648     -3.993      0.000      -3.855      -1.317\n",
      "Country_Spain              -3.6857      0.623     -5.919      0.000      -4.906      -2.465\n",
      "Country_Sweden              8.9471      0.833     10.740      0.000       7.314      10.580\n",
      "Country_Switzerland         1.0808      0.633      1.707      0.088      -0.160       2.322\n",
      "Country_United Kingdom     -6.0416      0.582    -10.384      0.000      -7.182      -4.901\n",
      "InvoiceMonth_10             0.8075      0.075     10.716      0.000       0.660       0.955\n",
      "InvoiceMonth_11             0.3556      0.071      4.993      0.000       0.216       0.495\n",
      "InvoiceMonth_12             0.1025      0.074      1.389      0.165      -0.042       0.247\n",
      "InvoiceMonth_2              0.5305      0.090      5.877      0.000       0.354       0.707\n",
      "InvoiceMonth_3              0.7385      0.084      8.798      0.000       0.574       0.903\n",
      "InvoiceMonth_4              0.9929      0.088     11.226      0.000       0.820       1.166\n",
      "InvoiceMonth_5              1.1106      0.084     13.263      0.000       0.946       1.275\n",
      "InvoiceMonth_6              0.6998      0.084      8.340      0.000       0.535       0.864\n",
      "InvoiceMonth_7              0.8802      0.082     10.676      0.000       0.719       1.042\n",
      "InvoiceMonth_8              1.4500      0.085     17.102      0.000       1.284       1.616\n",
      "InvoiceMonth_9              1.8143      0.078     23.221      0.000       1.661       1.967\n",
      "==============================================================================\n",
      "Omnibus:                   408960.345   Durbin-Watson:                   0.975\n",
      "Prob(Omnibus):                  0.000   Jarque-Bera (JB):          9310234.316\n",
      "Skew:                           3.673   Prob(JB):                         0.00\n",
      "Kurtosis:                      22.311   Cond. No.                     3.31e+03\n",
      "==============================================================================\n",
      "\n",
      "Notes:\n",
      "[1] Standard Errors assume that the covariance matrix of the errors is correctly specified.\n",
      "[2] The condition number is large, 3.31e+03. This might indicate that there are\n",
      "strong multicollinearity or other numerical problems.\n"
     ]
    }
   ],
   "source": [
    "model = sm.OLS(y, X)\n",
    "result = model.fit()\n",
    "\n",
    "print(result.summary())"
   ]
  },
  {
   "cell_type": "markdown",
   "metadata": {},
   "source": [
    "- EIRE, East Europe, Finland, France, Germany, Iceland, Switzerland, 12월 구매 의 p값을 보니 해당 정보들은 종속변수에 미치는 영향이 유의미하지 않은 것으로 보임\n",
    "- 회귀계수를 살펴보니 Sweden, Netherlands, Australia, Asia, Others 의 변화는 다른 변수들에 비해 종속 변수에 큰 변화를 주는 것으로 보임\n",
    "- 상수항 값은 11로 이 역시 다른 변수들에 비해 높음\n",
    "- UnitPrice, is_weekday는 p값이 작아 유의미한 영향을 미칠 수 있는 정보지만 다른 정보들에 비해 계수는 상대적으로 작음, UnitPrice는 값의 범위가 큰 것이 원인으로 보임\n",
    "- 결정계수는 0.05로 종속 변수의 변동성을 잘 설명하지 못하는 것으로 보임\n",
    "- 이는 feature engineering을 잘못 했을 수도 있고, 데이터가 이상치나 정보력 부족 등으로 인해 종속변수를 충분히 설명하지 못해서 그런 것으로 보임\n",
    "- 개인적인 생각으로 위 정보만으로 단순히 해당 물품을 몇개 구매했는지 알기란 어려울 것 같음"
   ]
  },
  {
   "cell_type": "markdown",
   "metadata": {
    "id": "QDgJTeRoUwjf"
   },
   "source": [
    "## 5. 상품 정보와 거래 정보를 바탕으로 해당 거래가 반품될 가능성을 예측하는 로지스틱 회귀 모델을 만드세요.\n",
    "* 필요한 데이터를 정리하고 결측치와 이상치를 제거해주세요.  \n",
    "* `Quantity` 피쳐를 활용해 `IsReturn` 피쳐를 생성하세요.\n",
    "* 모델 학습에 사용할 적절한 피쳐를 선정하세요.\n",
    "* 모델 학습과 검증을 위해 데이터셋을 train셋과 test셋으로 나누세요.\n",
    "* `IsReturn`을 예측하는 로지스틱 회귀 모델을 학습하세요.\n",
    "* 혼동행렬, 정밀도, 재현율, F1-score 등 다양한 평가지표를 사용하여 모델의 성능을 평가하세요.\n",
    "* 모델의 성능을 더 높일 수 있는 방안에 대해서 고민해보세요."
   ]
  },
  {
   "cell_type": "code",
   "execution_count": 130,
   "metadata": {},
   "outputs": [
    {
     "data": {
      "text/plain": [
       "InvoiceNo            0\n",
       "StockCode            0\n",
       "Description          0\n",
       "Quantity             0\n",
       "UnitPrice            0\n",
       "CustomerID      132560\n",
       "Country              0\n",
       "TotalPrice           0\n",
       "is_weekday           0\n",
       "InvoiceMonth         0\n",
       "dtype: int64"
      ]
     },
     "execution_count": 130,
     "metadata": {},
     "output_type": "execute_result"
    }
   ],
   "source": [
    "df.isna().sum()"
   ]
  },
  {
   "cell_type": "markdown",
   "metadata": {},
   "source": [
    "- CustomerID에 결측치 존재"
   ]
  },
  {
   "cell_type": "code",
   "execution_count": 131,
   "metadata": {},
   "outputs": [],
   "source": [
    "refund = df.drop(['InvoiceNo', 'StockCode', 'Description', 'CustomerID'], axis=1)"
   ]
  },
  {
   "cell_type": "markdown",
   "metadata": {},
   "source": [
    "- 식별 용도로 예측에는 필요 없는 컬럼, 데이터 유형이 다양해 사용할 수 없는 컬럼 제거"
   ]
  },
  {
   "cell_type": "code",
   "execution_count": 132,
   "metadata": {
    "id": "mcvefNO19yk6"
   },
   "outputs": [],
   "source": [
    "refund['IsReturn'] = 0\n",
    "refund.loc[refund['Quantity']<0, 'IsReturn'] = 1\n",
    "refund.drop(['Quantity', 'TotalPrice'], axis=1, inplace=True)"
   ]
  },
  {
   "cell_type": "markdown",
   "metadata": {},
   "source": [
    "- IsReturn 생성\n",
    "- Quantity로 IsReturn 컬럼 생성했고, TotalPrice도 Quantity와 관련있으므로 제거  ( 타겟에 대한 너무 많은 정보를 포함함 )"
   ]
  },
  {
   "cell_type": "code",
   "execution_count": 133,
   "metadata": {},
   "outputs": [
    {
     "data": {
      "text/html": [
       "<div>\n",
       "<style scoped>\n",
       "    .dataframe tbody tr th:only-of-type {\n",
       "        vertical-align: middle;\n",
       "    }\n",
       "\n",
       "    .dataframe tbody tr th {\n",
       "        vertical-align: top;\n",
       "    }\n",
       "\n",
       "    .dataframe thead th {\n",
       "        text-align: right;\n",
       "    }\n",
       "</style>\n",
       "<table border=\"1\" class=\"dataframe\">\n",
       "  <thead>\n",
       "    <tr style=\"text-align: right;\">\n",
       "      <th></th>\n",
       "      <th>UnitPrice</th>\n",
       "      <th>Country</th>\n",
       "      <th>is_weekday</th>\n",
       "      <th>InvoiceMonth</th>\n",
       "      <th>IsReturn</th>\n",
       "    </tr>\n",
       "  </thead>\n",
       "  <tbody>\n",
       "    <tr>\n",
       "      <th>0</th>\n",
       "      <td>2.55</td>\n",
       "      <td>United Kingdom</td>\n",
       "      <td>1</td>\n",
       "      <td>12</td>\n",
       "      <td>0</td>\n",
       "    </tr>\n",
       "    <tr>\n",
       "      <th>1</th>\n",
       "      <td>3.39</td>\n",
       "      <td>United Kingdom</td>\n",
       "      <td>1</td>\n",
       "      <td>12</td>\n",
       "      <td>0</td>\n",
       "    </tr>\n",
       "    <tr>\n",
       "      <th>2</th>\n",
       "      <td>2.75</td>\n",
       "      <td>United Kingdom</td>\n",
       "      <td>1</td>\n",
       "      <td>12</td>\n",
       "      <td>0</td>\n",
       "    </tr>\n",
       "    <tr>\n",
       "      <th>3</th>\n",
       "      <td>3.39</td>\n",
       "      <td>United Kingdom</td>\n",
       "      <td>1</td>\n",
       "      <td>12</td>\n",
       "      <td>0</td>\n",
       "    </tr>\n",
       "    <tr>\n",
       "      <th>4</th>\n",
       "      <td>3.39</td>\n",
       "      <td>United Kingdom</td>\n",
       "      <td>1</td>\n",
       "      <td>12</td>\n",
       "      <td>0</td>\n",
       "    </tr>\n",
       "  </tbody>\n",
       "</table>\n",
       "</div>"
      ],
      "text/plain": [
       "   UnitPrice         Country  is_weekday  InvoiceMonth  IsReturn\n",
       "0       2.55  United Kingdom           1            12         0\n",
       "1       3.39  United Kingdom           1            12         0\n",
       "2       2.75  United Kingdom           1            12         0\n",
       "3       3.39  United Kingdom           1            12         0\n",
       "4       3.39  United Kingdom           1            12         0"
      ]
     },
     "execution_count": 133,
     "metadata": {},
     "output_type": "execute_result"
    }
   ],
   "source": [
    "refund.head()"
   ]
  },
  {
   "cell_type": "code",
   "execution_count": 134,
   "metadata": {},
   "outputs": [],
   "source": [
    "refund['Country'].replace(['Hong Kong', 'Japan', 'Singapore', 'Saudi Arabia', 'Bahrain', 'Lebanon', 'United Arab Emirates', 'Israel'], 'Asia', inplace=True)\n",
    "refund['Country'].replace(['USA', 'Brazil', 'Canada'], 'America', inplace=True)\n",
    "refund['Country'].replace(['Poland', 'Austria', 'Lithuania', 'Czech Republic'], 'East Europe', inplace=True)\n",
    "refund['Country'].replace(['Unspecified', 'European Community', 'RSA'], 'Others', inplace=True)"
   ]
  },
  {
   "cell_type": "markdown",
   "metadata": {},
   "source": [
    "- 대륙으로 묶을 수 있는 정보 묶고, 데이터가 100개보다 적은 국가와 국가명이 없는 경우 하나로 통합"
   ]
  },
  {
   "cell_type": "code",
   "execution_count": 135,
   "metadata": {},
   "outputs": [
    {
     "data": {
      "text/plain": [
       "United Kingdom     492930\n",
       "Germany              9493\n",
       "France               8553\n",
       "EIRE                 8192\n",
       "Spain                2532\n",
       "Netherlands          2367\n",
       "Belgium              2069\n",
       "Switzerland          2001\n",
       "Portugal             1519\n",
       "Asia                 1302\n",
       "Australia            1256\n",
       "Norway               1085\n",
       "East Europe           807\n",
       "Italy                 803\n",
       "Channel Islands       758\n",
       "Finland               695\n",
       "Cyprus                622\n",
       "Others                564\n",
       "America               474\n",
       "Sweden                462\n",
       "Denmark               389\n",
       "Iceland               182\n",
       "Greece                146\n",
       "Malta                 127\n",
       "Name: Country, dtype: int64"
      ]
     },
     "execution_count": 135,
     "metadata": {},
     "output_type": "execute_result"
    }
   ],
   "source": [
    "refund['Country'].value_counts()"
   ]
  },
  {
   "cell_type": "code",
   "execution_count": 136,
   "metadata": {},
   "outputs": [],
   "source": [
    "refund['InvoiceMonth'] = refund['InvoiceMonth'].astype(str)"
   ]
  },
  {
   "cell_type": "markdown",
   "metadata": {},
   "source": [
    "- 범주형 변수로 취급"
   ]
  },
  {
   "cell_type": "code",
   "execution_count": 137,
   "metadata": {},
   "outputs": [
    {
     "data": {
      "text/plain": [
       "0    530083\n",
       "1      9245\n",
       "Name: IsReturn, dtype: int64"
      ]
     },
     "execution_count": 137,
     "metadata": {},
     "output_type": "execute_result"
    }
   ],
   "source": [
    "refund['IsReturn'].value_counts()"
   ]
  },
  {
   "cell_type": "markdown",
   "metadata": {},
   "source": [
    "- IsReturn의 경우 0인 데이터가 1인 데이터 비해 50배 많음\n",
    "- 데이터 불균형으로 인한 문제 발생 가능"
   ]
  },
  {
   "cell_type": "code",
   "execution_count": 138,
   "metadata": {},
   "outputs": [],
   "source": [
    "major = refund[refund['IsReturn']==0]\n",
    "minor = refund[refund['IsReturn']==1]\n",
    "major_down = major.sample(n=40000, random_state=11)\n",
    "refund = pd.concat([major_down, minor])"
   ]
  },
  {
   "cell_type": "markdown",
   "metadata": {},
   "source": [
    "- 일반적으로 5배 이상 차이가 날 경우 불균형으로 판단하므로, 반품 데이터 4배 차이로 줄이기 위해 랜덤추출"
   ]
  },
  {
   "cell_type": "code",
   "execution_count": 139,
   "metadata": {},
   "outputs": [],
   "source": [
    "refund = refund.reset_index(drop=True)"
   ]
  },
  {
   "cell_type": "markdown",
   "metadata": {},
   "source": [
    "- 인덱스 초기화"
   ]
  },
  {
   "cell_type": "code",
   "execution_count": 140,
   "metadata": {},
   "outputs": [],
   "source": [
    "refund_encoding = pd.get_dummies(refund, drop_first=True)"
   ]
  },
  {
   "cell_type": "code",
   "execution_count": 141,
   "metadata": {},
   "outputs": [],
   "source": [
    "from sklearn.model_selection import train_test_split\n",
    "from sklearn.linear_model import LogisticRegression\n",
    "from sklearn.metrics import accuracy_score, precision_score, recall_score, f1_score, confusion_matrix"
   ]
  },
  {
   "cell_type": "code",
   "execution_count": 142,
   "metadata": {},
   "outputs": [],
   "source": [
    "X = refund_encoding.drop('IsReturn', axis=1)\n",
    "y = refund_encoding['IsReturn']\n",
    "X_train, X_test, y_train, y_test = train_test_split(X, y, test_size=0.2, stratify=y, random_state=11)"
   ]
  },
  {
   "cell_type": "markdown",
   "metadata": {},
   "source": [
    "- 학습, 테스트 데이터 분할 시 불균형 피하기 위해 stratify 매개변수 사용"
   ]
  },
  {
   "cell_type": "code",
   "execution_count": 143,
   "metadata": {},
   "outputs": [
    {
     "data": {
      "text/plain": [
       "LogisticRegression(class_weight='balanced')"
      ]
     },
     "execution_count": 143,
     "metadata": {},
     "output_type": "execute_result"
    }
   ],
   "source": [
    "model = LogisticRegression(class_weight='balanced')\n",
    "model.fit(X_train, y_train)"
   ]
  },
  {
   "cell_type": "markdown",
   "metadata": {},
   "source": [
    "- 데이터 불균형 문제 해소를 위해 소수 클래스의 오분류에 더 큰 패널티를 주도록 class_weight 매개변수 사용 "
   ]
  },
  {
   "cell_type": "code",
   "execution_count": 144,
   "metadata": {},
   "outputs": [],
   "source": [
    "pred = model.predict(X_test)"
   ]
  },
  {
   "cell_type": "code",
   "execution_count": 145,
   "metadata": {},
   "outputs": [
    {
     "data": {
      "text/plain": [
       "0.5837140826479845"
      ]
     },
     "execution_count": 145,
     "metadata": {},
     "output_type": "execute_result"
    }
   ],
   "source": [
    "accuracy_score(y_test, pred)"
   ]
  },
  {
   "cell_type": "code",
   "execution_count": 146,
   "metadata": {},
   "outputs": [
    {
     "name": "stdout",
     "output_type": "stream",
     "text": [
      "혼동 행렬:\n",
      " [[4711 3289]\n",
      " [ 811 1038]]\n",
      "\n",
      "정밀도: 0.23988906863877976\n",
      "재현율: 0.5613845321795565\n",
      "F1-Score: 0.33613989637305697\n",
      "정확도: 0.5837140826479845\n"
     ]
    }
   ],
   "source": [
    "# 혼동 행렬\n",
    "# 실제 값과 예측 값의 교차표\n",
    "conf_matrix = confusion_matrix(y_test, pred)\n",
    "print(\"혼동 행렬:\\n\", conf_matrix)\n",
    "\n",
    "# 정밀도\n",
    "# 모델이 긍정으로 예측한 것 중 실제 긍정 비율\n",
    "precision = precision_score(y_test, pred)\n",
    "print(\"\\n정밀도:\", precision)\n",
    "\n",
    "# 재현율\n",
    "# 실제 긍정인 것 중 모델이 긍정으로 예측한 비율\n",
    "recall = recall_score(y_test, pred)\n",
    "print(\"재현율:\", recall)\n",
    "\n",
    "# F1-Score\n",
    "# 정밀도와 재현율의 조화 평균\n",
    "f1 = f1_score(y_test, pred)\n",
    "print(\"F1-Score:\", f1)\n",
    "\n",
    "# 정확도 \n",
    "accuracy = accuracy_score(y_test, pred)\n",
    "print(\"정확도:\", accuracy)"
   ]
  },
  {
   "cell_type": "markdown",
   "metadata": {},
   "source": [
    "- 데이터의 불균형을 해소하기위해 데이터 수 줄이기, class_weight 매개변수 등을 사용해 정확도가 100%가 나오는 문제는 해결하였음\n",
    "- 실제 반품된 데이터들 중 모델이 반품된 상품이라고 올바르게 예측한 비율인 재현율은 위 조치를 통해 기존보다 높일 수 있었음\n",
    "- 그러나 모델이 반품된 데이터라고 예측한 데이터 중 실제로 반품된 데이터의 비율인 정밀도는 여전히 낮은 수준임을 볼 수 있음"
   ]
  },
  {
   "cell_type": "markdown",
   "metadata": {},
   "source": [
    "##### 시도 1: 임계값 수정"
   ]
  },
  {
   "cell_type": "code",
   "execution_count": 147,
   "metadata": {},
   "outputs": [
    {
     "data": {
      "text/plain": [
       "LogisticRegression(class_weight='balanced')"
      ]
     },
     "execution_count": 147,
     "metadata": {},
     "output_type": "execute_result"
    }
   ],
   "source": [
    "model = LogisticRegression(class_weight='balanced')\n",
    "model.fit(X_train, y_train)"
   ]
  },
  {
   "cell_type": "code",
   "execution_count": 148,
   "metadata": {},
   "outputs": [],
   "source": [
    "prob = model.predict_proba(X_test)"
   ]
  },
  {
   "cell_type": "code",
   "execution_count": 149,
   "metadata": {},
   "outputs": [],
   "source": [
    "threshold = 0.6\n",
    "pred = (prob[:, 1] > threshold).astype(int)"
   ]
  },
  {
   "cell_type": "code",
   "execution_count": 150,
   "metadata": {},
   "outputs": [
    {
     "name": "stdout",
     "output_type": "stream",
     "text": [
      "혼동 행렬:\n",
      " [[7610  390]\n",
      " [1552  297]]\n",
      "\n",
      "정밀도: 0.43231441048034935\n",
      "재현율: 0.16062736614386156\n",
      "F1-Score: 0.23422712933753945\n",
      "정확도: 0.8028226215859479\n"
     ]
    }
   ],
   "source": [
    "# 혼동 행렬\n",
    "# 실제 값과 예측 값의 교차표\n",
    "conf_matrix = confusion_matrix(y_test, pred)\n",
    "print(\"혼동 행렬:\\n\", conf_matrix)\n",
    "\n",
    "# 정밀도\n",
    "# 모델이 긍정으로 예측한 것 중 실제 긍정 비율\n",
    "precision = precision_score(y_test, pred)\n",
    "print(\"\\n정밀도:\", precision)\n",
    "\n",
    "# 재현율\n",
    "# 실제 긍정인 것 중 모델이 긍정으로 예측한 비율\n",
    "recall = recall_score(y_test, pred)\n",
    "print(\"재현율:\", recall)\n",
    "\n",
    "# F1-Score\n",
    "# 정밀도와 재현율의 조화 평균\n",
    "f1 = f1_score(y_test, pred)\n",
    "print(\"F1-Score:\", f1)\n",
    "\n",
    "# 정확도 \n",
    "accuracy = accuracy_score(y_test, pred)\n",
    "print(\"정확도:\", accuracy)"
   ]
  },
  {
   "cell_type": "markdown",
   "metadata": {},
   "source": [
    "- 정밀도와 정확도는 올라갔으나 재현율과 f1-score는 감소하게 된다."
   ]
  },
  {
   "cell_type": "markdown",
   "metadata": {},
   "source": [
    "##### 시도 2: 모델 파라미터 수정"
   ]
  },
  {
   "cell_type": "markdown",
   "metadata": {},
   "source": [
    "- 데이터 수가 많은 편이므로 solver파라미터를 saga로 변경해보기"
   ]
  },
  {
   "cell_type": "code",
   "execution_count": 151,
   "metadata": {},
   "outputs": [
    {
     "data": {
      "text/plain": [
       "LogisticRegression(class_weight='balanced', solver='saga')"
      ]
     },
     "execution_count": 151,
     "metadata": {},
     "output_type": "execute_result"
    }
   ],
   "source": [
    "model = LogisticRegression(class_weight='balanced', solver='saga')\n",
    "model.fit(X_train, y_train)"
   ]
  },
  {
   "cell_type": "code",
   "execution_count": 152,
   "metadata": {},
   "outputs": [
    {
     "name": "stdout",
     "output_type": "stream",
     "text": [
      "혼동 행렬:\n",
      " [[5539 2461]\n",
      " [ 968  881]]\n",
      "\n",
      "정밀도: 0.26361460203470977\n",
      "재현율: 0.476473769605192\n",
      "F1-Score: 0.3394336351377384\n",
      "정확도: 0.6518428266829119\n"
     ]
    }
   ],
   "source": [
    "pred = model.predict(X_test)\n",
    "accuracy_score(y_test, pred)\n",
    "\n",
    "# 혼동 행렬\n",
    "# 실제 값과 예측 값의 교차표\n",
    "conf_matrix = confusion_matrix(y_test, pred)\n",
    "print(\"혼동 행렬:\\n\", conf_matrix)\n",
    "\n",
    "# 정밀도\n",
    "# 모델이 긍정으로 예측한 것 중 실제 긍정 비율\n",
    "precision = precision_score(y_test, pred)\n",
    "print(\"\\n정밀도:\", precision)\n",
    "\n",
    "# 재현율\n",
    "# 실제 긍정인 것 중 모델이 긍정으로 예측한 비율\n",
    "recall = recall_score(y_test, pred)\n",
    "print(\"재현율:\", recall)\n",
    "\n",
    "# F1-Score\n",
    "# 정밀도와 재현율의 조화 평균\n",
    "f1 = f1_score(y_test, pred)\n",
    "print(\"F1-Score:\", f1)\n",
    "\n",
    "# 정확도 \n",
    "accuracy = accuracy_score(y_test, pred)\n",
    "print(\"정확도:\", accuracy)"
   ]
  },
  {
   "cell_type": "markdown",
   "metadata": {},
   "source": [
    "- f1-score는 비슷하나 재현율이 살짝 낮아졌고 정확도는 증가함"
   ]
  },
  {
   "cell_type": "markdown",
   "metadata": {},
   "source": [
    "##### 시도 3: 예측 모델 변경"
   ]
  },
  {
   "cell_type": "markdown",
   "metadata": {},
   "source": [
    "- 데이터들의 관계가 선형이 아닐수도 있으므로 비선형 관계도 반영할 수 있는 RandomForestClassifier 모델 사용"
   ]
  },
  {
   "cell_type": "code",
   "execution_count": 153,
   "metadata": {},
   "outputs": [],
   "source": [
    "from sklearn.ensemble import RandomForestClassifier"
   ]
  },
  {
   "cell_type": "code",
   "execution_count": 154,
   "metadata": {},
   "outputs": [
    {
     "data": {
      "text/plain": [
       "0.674078586658544"
      ]
     },
     "execution_count": 154,
     "metadata": {},
     "output_type": "execute_result"
    }
   ],
   "source": [
    "model = RandomForestClassifier(class_weight='balanced')\n",
    "model.fit(X_train, y_train)\n",
    "\n",
    "pred = model.predict(X_test)\n",
    "\n",
    "accuracy_score(y_test, pred)"
   ]
  },
  {
   "cell_type": "code",
   "execution_count": 155,
   "metadata": {
    "scrolled": true
   },
   "outputs": [
    {
     "name": "stdout",
     "output_type": "stream",
     "text": [
      "혼동 행렬:\n",
      " [[5437 2563]\n",
      " [ 647 1202]]\n",
      "\n",
      "정밀도: 0.31925630810092964\n",
      "재현율: 0.6500811249323959\n",
      "F1-Score: 0.4282151763448522\n",
      "정확도: 0.674078586658544\n"
     ]
    }
   ],
   "source": [
    "# 혼동 행렬\n",
    "# 실제 값과 예측 값의 교차표\n",
    "conf_matrix = confusion_matrix(y_test, pred)\n",
    "print(\"혼동 행렬:\\n\", conf_matrix)\n",
    "\n",
    "# 정밀도\n",
    "# 모델이 긍정으로 예측한 것 중 실제 긍정 비율\n",
    "precision = precision_score(y_test, pred)\n",
    "print(\"\\n정밀도:\", precision)\n",
    "\n",
    "# 재현율\n",
    "# 실제 긍정인 것 중 모델이 긍정으로 예측한 비율\n",
    "recall = recall_score(y_test, pred)\n",
    "print(\"재현율:\", recall)\n",
    "\n",
    "# F1-Score\n",
    "# 정밀도와 재현율의 조화 평균\n",
    "f1 = f1_score(y_test, pred)\n",
    "print(\"F1-Score:\", f1)\n",
    "\n",
    "# 정확도 \n",
    "accuracy = accuracy_score(y_test, pred)\n",
    "print(\"정확도:\", accuracy)"
   ]
  },
  {
   "cell_type": "markdown",
   "metadata": {},
   "source": [
    "- 초기 조건에 비해 정밀도, 재현율, f1-score, 정확도 모두 증가한 것으로 보아 변수들 사이에 비선형 관계가 존재할 것으로 보임"
   ]
  },
  {
   "cell_type": "code",
   "execution_count": null,
   "metadata": {},
   "outputs": [],
   "source": []
  }
 ],
 "metadata": {
  "colab": {
   "provenance": []
  },
  "kernelspec": {
   "display_name": "Python 3 (ipykernel)",
   "language": "python",
   "name": "python3"
  },
  "language_info": {
   "codemirror_mode": {
    "name": "ipython",
    "version": 3
   },
   "file_extension": ".py",
   "mimetype": "text/x-python",
   "name": "python",
   "nbconvert_exporter": "python",
   "pygments_lexer": "ipython3",
   "version": "3.9.13"
  }
 },
 "nbformat": 4,
 "nbformat_minor": 1
}
