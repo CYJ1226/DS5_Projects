{
  "nbformat": 4,
  "nbformat_minor": 0,
  "metadata": {
    "colab": {
      "provenance": []
    },
    "kernelspec": {
      "name": "python3",
      "display_name": "Python 3"
    },
    "language_info": {
      "name": "python"
    }
  },
  "cells": [
    {
      "cell_type": "code",
      "execution_count": 3,
      "metadata": {
        "id": "OqmIU5vE898Z"
      },
      "outputs": [],
      "source": [
        "import numpy as np\n",
        "import pandas as pd\n",
        "import matplotlib.pyplot as plt\n",
        "import seaborn as sns\n",
        "from keras.datasets import reuters\n",
        "from sklearn.feature_extraction.text import TfidfVectorizer"
      ]
    },
    {
      "cell_type": "code",
      "source": [
        "!pip install gensim"
      ],
      "metadata": {
        "id": "Ui3SfkBGzk6q"
      },
      "execution_count": null,
      "outputs": []
    },
    {
      "cell_type": "markdown",
      "source": [
        "# 머신러닝"
      ],
      "metadata": {
        "id": "_heJhX36rifS"
      }
    },
    {
      "cell_type": "markdown",
      "source": [
        "## TF-IDF"
      ],
      "metadata": {
        "id": "npxHalpwZKQ4"
      }
    },
    {
      "cell_type": "code",
      "source": [
        "# 벡터화 함수\n",
        "def vectorization(n):\n",
        "  # 빈도 높은 n개의 단어로 이루어진 데이터 불러오기\n",
        "  (X_train, y_train), (X_test, y_test) = reuters.load_data(num_words=n, test_split=0.2)\n",
        "\n",
        "  # 인덱스: 단어 형식으로 dict 변경, 토큰 3개 자리 위해 0, 1 ,2 자리는 비워둠\n",
        "  index_word = {idx+3:word for word, idx in reuters.get_word_index().items()}\n",
        "\n",
        "  # 0, 1, 2 자리에 각각 토큰 추가\n",
        "  for idx, token in enumerate([\"<pad>\", \"<sos>\", \"<unk>\"]):\n",
        "    index_word[idx] = token\n",
        "\n",
        "  # 데이터 숫자에서 텍스트로 변환\n",
        "  decoded = []\n",
        "  for s in X_train:\n",
        "    decoded.append(' '.join([index_word[text] for text in s]))\n",
        "  X_train = decoded\n",
        "\n",
        "  # test도 동일하게 진행\n",
        "  decoded = []\n",
        "  for s in X_test:\n",
        "    decoded.append(' '.join([index_word[text] for text in s]))\n",
        "  X_test = decoded\n",
        "\n",
        "  # 텍스트 데이터 벡터 변환\n",
        "  tfidfv = TfidfVectorizer()\n",
        "  X_train_v = tfidfv.fit_transform(X_train)\n",
        "  X_test_v = tfidfv.transform(X_test)\n",
        "\n",
        "  return X_train_v, y_train, X_test_v, y_test"
      ],
      "metadata": {
        "id": "S6iLcn9fGsGB"
      },
      "execution_count": 4,
      "outputs": []
    },
    {
      "cell_type": "code",
      "source": [
        "from sklearn.linear_model import LogisticRegression\n",
        "from sklearn.svm import LinearSVC\n",
        "from sklearn.naive_bayes import ComplementNB\n",
        "from sklearn.neighbors import KNeighborsClassifier\n",
        "from sklearn.tree import DecisionTreeClassifier\n",
        "from sklearn.ensemble import RandomForestClassifier\n",
        "from xgboost import XGBClassifier\n",
        "from lightgbm import LGBMClassifier\n",
        "from sklearn.metrics import accuracy_score, f1_score, confusion_matrix, classification_report"
      ],
      "metadata": {
        "id": "kPYeBHEUO4ij"
      },
      "execution_count": 5,
      "outputs": []
    },
    {
      "cell_type": "code",
      "source": [
        "def fitting(model, X_train, y_train, X_test, y_test):\n",
        "  model.fit(X_train, y_train)\n",
        "  pred = model.predict(X_test)\n",
        "\n",
        "  print(type(model).__name__)\n",
        "  print(f'정확도: {accuracy_score(y_test, pred):.4f}')\n",
        "  print(f'f1-score: {f1_score(y_test, pred, average='weighted'):.4f}')\n",
        "  print('-'*30)"
      ],
      "metadata": {
        "id": "6OrsArW5LMPp"
      },
      "execution_count": 6,
      "outputs": []
    },
    {
      "cell_type": "code",
      "source": [
        "lr = LogisticRegression(random_state=11)\n",
        "svc = LinearSVC(random_state=11)\n",
        "rf = RandomForestClassifier(random_state=11)\n",
        "xgb = XGBClassifier(random_state=11)\n",
        "cnb = ComplementNB()\n",
        "knn = KNeighborsClassifier()\n",
        "lgbm = LGBMClassifier(random_state=11, verbosity=-1)\n",
        "dt = DecisionTreeClassifier(random_state=11)"
      ],
      "metadata": {
        "id": "_cGUIN8SPW7x"
      },
      "execution_count": 5,
      "outputs": []
    },
    {
      "cell_type": "code",
      "source": [
        "# 단어장 개수 5000개인 경우\n",
        "X_train_v, y_train, X_test_v, y_test = vectorization(5000)\n",
        "\n",
        "for m in [lr, svc, rf, xgb, cnb, knn, lgbm, dt]:\n",
        "  fitting(m, X_train_v, y_train, X_test_v, y_test)"
      ],
      "metadata": {
        "id": "Q-LzW2OhYTmZ",
        "colab": {
          "base_uri": "https://localhost:8080/"
        },
        "outputId": "846b0351-e57b-404d-ce56-d98070dc2dc9"
      },
      "execution_count": 6,
      "outputs": [
        {
          "output_type": "stream",
          "name": "stdout",
          "text": [
            "Downloading data from https://storage.googleapis.com/tensorflow/tf-keras-datasets/reuters.npz\n",
            "\u001b[1m2110848/2110848\u001b[0m \u001b[32m━━━━━━━━━━━━━━━━━━━━\u001b[0m\u001b[37m\u001b[0m \u001b[1m0s\u001b[0m 0us/step\n",
            "Downloading data from https://storage.googleapis.com/tensorflow/tf-keras-datasets/reuters_word_index.json\n",
            "\u001b[1m550378/550378\u001b[0m \u001b[32m━━━━━━━━━━━━━━━━━━━━\u001b[0m\u001b[37m\u001b[0m \u001b[1m0s\u001b[0m 0us/step\n",
            "LogisticRegression\n",
            "정확도: 0.7979\n",
            "f1-score: 0.7762\n",
            "------------------------------\n",
            "LinearSVC\n",
            "정확도: 0.8290\n",
            "f1-score: 0.8230\n",
            "------------------------------\n",
            "RandomForestClassifier\n",
            "정확도: 0.7663\n",
            "f1-score: 0.7430\n",
            "------------------------------\n",
            "XGBClassifier\n",
            "정확도: 0.7996\n",
            "f1-score: 0.7940\n",
            "------------------------------\n",
            "ComplementNB\n",
            "정확도: 0.7707\n",
            "f1-score: 0.7459\n",
            "------------------------------\n",
            "KNeighborsClassifier\n",
            "정확도: 0.7818\n",
            "f1-score: 0.7703\n",
            "------------------------------\n"
          ]
        },
        {
          "output_type": "stream",
          "name": "stderr",
          "text": [
            "/usr/local/lib/python3.12/dist-packages/sklearn/utils/validation.py:2739: UserWarning: X does not have valid feature names, but LGBMClassifier was fitted with feature names\n",
            "  warnings.warn(\n"
          ]
        },
        {
          "output_type": "stream",
          "name": "stdout",
          "text": [
            "LGBMClassifier\n",
            "정확도: 0.3491\n",
            "f1-score: 0.1873\n",
            "------------------------------\n",
            "DecisionTreeClassifier\n",
            "정확도: 0.6968\n",
            "f1-score: 0.6929\n",
            "------------------------------\n"
          ]
        }
      ]
    },
    {
      "cell_type": "code",
      "source": [
        "# 단어장 개수 10000개인 경우\n",
        "X_train_v, y_train, X_test_v, y_test = vectorization(10000)\n",
        "\n",
        "for m in [lr, svc, rf, xgb, cnb, knn, lgbm, dt]:\n",
        "  fitting(m, X_train_v, y_train, X_test_v, y_test)"
      ],
      "metadata": {
        "colab": {
          "base_uri": "https://localhost:8080/"
        },
        "id": "1QFTDjy7HO96",
        "outputId": "78680b78-412c-4fb6-89d7-e5f8d4e3e1dc"
      },
      "execution_count": 7,
      "outputs": [
        {
          "output_type": "stream",
          "name": "stdout",
          "text": [
            "LogisticRegression\n",
            "정확도: 0.7956\n",
            "f1-score: 0.7732\n",
            "------------------------------\n",
            "LinearSVC\n",
            "정확도: 0.8299\n",
            "f1-score: 0.8237\n",
            "------------------------------\n",
            "RandomForestClassifier\n",
            "정확도: 0.7529\n",
            "f1-score: 0.7295\n",
            "------------------------------\n",
            "XGBClassifier\n",
            "정확도: 0.7925\n",
            "f1-score: 0.7850\n",
            "------------------------------\n",
            "ComplementNB\n",
            "정확도: 0.7707\n",
            "f1-score: 0.7457\n",
            "------------------------------\n",
            "KNeighborsClassifier\n",
            "정확도: 0.7894\n",
            "f1-score: 0.7800\n",
            "------------------------------\n"
          ]
        },
        {
          "output_type": "stream",
          "name": "stderr",
          "text": [
            "/usr/local/lib/python3.12/dist-packages/sklearn/utils/validation.py:2739: UserWarning: X does not have valid feature names, but LGBMClassifier was fitted with feature names\n",
            "  warnings.warn(\n"
          ]
        },
        {
          "output_type": "stream",
          "name": "stdout",
          "text": [
            "LGBMClassifier\n",
            "정확도: 0.0583\n",
            "f1-score: 0.0350\n",
            "------------------------------\n",
            "DecisionTreeClassifier\n",
            "정확도: 0.6901\n",
            "f1-score: 0.6860\n",
            "------------------------------\n"
          ]
        }
      ]
    },
    {
      "cell_type": "code",
      "source": [
        "# 단어장 개수 제한 없는 경우\n",
        "X_train_v, y_train, X_test_v, y_test = vectorization(None)\n",
        "\n",
        "for m in [lr, svc, rf, xgb, cnb, knn, lgbm, dt]:\n",
        "  fitting(m, X_train_v, y_train, X_test_v, y_test)"
      ],
      "metadata": {
        "colab": {
          "base_uri": "https://localhost:8080/"
        },
        "id": "nlIIelOaY00d",
        "outputId": "b3458896-055b-4e3d-a328-ccbbdc082b8c"
      },
      "execution_count": 8,
      "outputs": [
        {
          "output_type": "stream",
          "name": "stdout",
          "text": [
            "LogisticRegression\n",
            "정확도: 0.7916\n",
            "f1-score: 0.7670\n",
            "------------------------------\n",
            "LinearSVC\n",
            "정확도: 0.8295\n",
            "f1-score: 0.8237\n",
            "------------------------------\n",
            "RandomForestClassifier\n",
            "정확도: 0.7453\n",
            "f1-score: 0.7195\n",
            "------------------------------\n",
            "XGBClassifier\n",
            "정확도: 0.7979\n",
            "f1-score: 0.7920\n",
            "------------------------------\n",
            "ComplementNB\n",
            "정확도: 0.7649\n",
            "f1-score: 0.7347\n",
            "------------------------------\n",
            "KNeighborsClassifier\n",
            "정확도: 0.7707\n",
            "f1-score: 0.7627\n",
            "------------------------------\n"
          ]
        },
        {
          "output_type": "stream",
          "name": "stderr",
          "text": [
            "/usr/local/lib/python3.12/dist-packages/sklearn/utils/validation.py:2739: UserWarning: X does not have valid feature names, but LGBMClassifier was fitted with feature names\n",
            "  warnings.warn(\n"
          ]
        },
        {
          "output_type": "stream",
          "name": "stdout",
          "text": [
            "LGBMClassifier\n",
            "정확도: 0.2538\n",
            "f1-score: 0.1680\n",
            "------------------------------\n",
            "DecisionTreeClassifier\n",
            "정확도: 0.7039\n",
            "f1-score: 0.6989\n",
            "------------------------------\n"
          ]
        }
      ]
    },
    {
      "cell_type": "code",
      "source": [
        "acc = pd.DataFrame({'num_words=5000': [0.7979, 0.8290, 0.7663, 0.7996, 0.7707, 0.7818, 0.3491, 0.6968],\n",
        "                            'num_words=10000': [0.7956, 0.8299, 0.7529, 0.7925, 0.7707, 0.7894, 0.0583, 0.6901],\n",
        "                            'num_words=None': [0.7916, 0.8295, 0.7453, 0.7979, 0.7649, 0.7707, 0.2538, 0.7039]},\n",
        "                             index=['LogisticRegression', 'LinearSVC', 'RandomForestClassifier', 'XGBClassifier',\n",
        "                                          'ComplementNB', 'KNeighborsClassifier', 'LGBMClassifier',  'DecisionTreeClassifier'])\n",
        "\n",
        "f1 = pd.DataFrame({'num_words=5000': [0.7762, 0.8230, 0.7430, 0.7940, 0.7459, 0.7703, 0.1873, 0.6929],\n",
        "                            'num_words=10000': [0.7732, 0.8237, 0.7295, 0.7850, 0.7457, 0.7800, 0.0350, 0.6860],\n",
        "                            'num_words=None': [0.7670, 0.8237, 0.7195, 0.7920, 0.7347, 0.7627, 0.1680, 0.6989]},\n",
        "                             index=['LogisticRegression', 'LinearSVC', 'RandomForestClassifier', 'XGBClassifier',\n",
        "                                          'ComplementNB', 'KNeighborsClassifier', 'LGBMClassifier',  'DecisionTreeClassifier'])\n",
        "\n",
        "print('Accuracy')\n",
        "display(acc)\n",
        "print()\n",
        "print('F1-score')\n",
        "display(f1)"
      ],
      "metadata": {
        "id": "mbSMrX2ub_8u",
        "colab": {
          "base_uri": "https://localhost:8080/",
          "height": 635
        },
        "outputId": "a80c475f-610c-4e79-da8c-ca218b8096c3"
      },
      "execution_count": 9,
      "outputs": [
        {
          "output_type": "stream",
          "name": "stdout",
          "text": [
            "Accuracy\n"
          ]
        },
        {
          "output_type": "display_data",
          "data": {
            "text/plain": [
              "                        num_words=5000  num_words=10000  num_words=None\n",
              "LogisticRegression              0.7979           0.7956          0.7916\n",
              "LinearSVC                       0.8290           0.8299          0.8295\n",
              "RandomForestClassifier          0.7663           0.7529          0.7453\n",
              "XGBClassifier                   0.7996           0.7925          0.7979\n",
              "ComplementNB                    0.7707           0.7707          0.7649\n",
              "KNeighborsClassifier            0.7818           0.7894          0.7707\n",
              "LGBMClassifier                  0.3491           0.0583          0.2538\n",
              "DecisionTreeClassifier          0.6968           0.6901          0.7039"
            ],
            "text/html": [
              "\n",
              "  <div id=\"df-a538f208-9b3e-4bc1-87d6-7c405984015d\" class=\"colab-df-container\">\n",
              "    <div>\n",
              "<style scoped>\n",
              "    .dataframe tbody tr th:only-of-type {\n",
              "        vertical-align: middle;\n",
              "    }\n",
              "\n",
              "    .dataframe tbody tr th {\n",
              "        vertical-align: top;\n",
              "    }\n",
              "\n",
              "    .dataframe thead th {\n",
              "        text-align: right;\n",
              "    }\n",
              "</style>\n",
              "<table border=\"1\" class=\"dataframe\">\n",
              "  <thead>\n",
              "    <tr style=\"text-align: right;\">\n",
              "      <th></th>\n",
              "      <th>num_words=5000</th>\n",
              "      <th>num_words=10000</th>\n",
              "      <th>num_words=None</th>\n",
              "    </tr>\n",
              "  </thead>\n",
              "  <tbody>\n",
              "    <tr>\n",
              "      <th>LogisticRegression</th>\n",
              "      <td>0.7979</td>\n",
              "      <td>0.7956</td>\n",
              "      <td>0.7916</td>\n",
              "    </tr>\n",
              "    <tr>\n",
              "      <th>LinearSVC</th>\n",
              "      <td>0.8290</td>\n",
              "      <td>0.8299</td>\n",
              "      <td>0.8295</td>\n",
              "    </tr>\n",
              "    <tr>\n",
              "      <th>RandomForestClassifier</th>\n",
              "      <td>0.7663</td>\n",
              "      <td>0.7529</td>\n",
              "      <td>0.7453</td>\n",
              "    </tr>\n",
              "    <tr>\n",
              "      <th>XGBClassifier</th>\n",
              "      <td>0.7996</td>\n",
              "      <td>0.7925</td>\n",
              "      <td>0.7979</td>\n",
              "    </tr>\n",
              "    <tr>\n",
              "      <th>ComplementNB</th>\n",
              "      <td>0.7707</td>\n",
              "      <td>0.7707</td>\n",
              "      <td>0.7649</td>\n",
              "    </tr>\n",
              "    <tr>\n",
              "      <th>KNeighborsClassifier</th>\n",
              "      <td>0.7818</td>\n",
              "      <td>0.7894</td>\n",
              "      <td>0.7707</td>\n",
              "    </tr>\n",
              "    <tr>\n",
              "      <th>LGBMClassifier</th>\n",
              "      <td>0.3491</td>\n",
              "      <td>0.0583</td>\n",
              "      <td>0.2538</td>\n",
              "    </tr>\n",
              "    <tr>\n",
              "      <th>DecisionTreeClassifier</th>\n",
              "      <td>0.6968</td>\n",
              "      <td>0.6901</td>\n",
              "      <td>0.7039</td>\n",
              "    </tr>\n",
              "  </tbody>\n",
              "</table>\n",
              "</div>\n",
              "    <div class=\"colab-df-buttons\">\n",
              "\n",
              "  <div class=\"colab-df-container\">\n",
              "    <button class=\"colab-df-convert\" onclick=\"convertToInteractive('df-a538f208-9b3e-4bc1-87d6-7c405984015d')\"\n",
              "            title=\"Convert this dataframe to an interactive table.\"\n",
              "            style=\"display:none;\">\n",
              "\n",
              "  <svg xmlns=\"http://www.w3.org/2000/svg\" height=\"24px\" viewBox=\"0 -960 960 960\">\n",
              "    <path d=\"M120-120v-720h720v720H120Zm60-500h600v-160H180v160Zm220 220h160v-160H400v160Zm0 220h160v-160H400v160ZM180-400h160v-160H180v160Zm440 0h160v-160H620v160ZM180-180h160v-160H180v160Zm440 0h160v-160H620v160Z\"/>\n",
              "  </svg>\n",
              "    </button>\n",
              "\n",
              "  <style>\n",
              "    .colab-df-container {\n",
              "      display:flex;\n",
              "      gap: 12px;\n",
              "    }\n",
              "\n",
              "    .colab-df-convert {\n",
              "      background-color: #E8F0FE;\n",
              "      border: none;\n",
              "      border-radius: 50%;\n",
              "      cursor: pointer;\n",
              "      display: none;\n",
              "      fill: #1967D2;\n",
              "      height: 32px;\n",
              "      padding: 0 0 0 0;\n",
              "      width: 32px;\n",
              "    }\n",
              "\n",
              "    .colab-df-convert:hover {\n",
              "      background-color: #E2EBFA;\n",
              "      box-shadow: 0px 1px 2px rgba(60, 64, 67, 0.3), 0px 1px 3px 1px rgba(60, 64, 67, 0.15);\n",
              "      fill: #174EA6;\n",
              "    }\n",
              "\n",
              "    .colab-df-buttons div {\n",
              "      margin-bottom: 4px;\n",
              "    }\n",
              "\n",
              "    [theme=dark] .colab-df-convert {\n",
              "      background-color: #3B4455;\n",
              "      fill: #D2E3FC;\n",
              "    }\n",
              "\n",
              "    [theme=dark] .colab-df-convert:hover {\n",
              "      background-color: #434B5C;\n",
              "      box-shadow: 0px 1px 3px 1px rgba(0, 0, 0, 0.15);\n",
              "      filter: drop-shadow(0px 1px 2px rgba(0, 0, 0, 0.3));\n",
              "      fill: #FFFFFF;\n",
              "    }\n",
              "  </style>\n",
              "\n",
              "    <script>\n",
              "      const buttonEl =\n",
              "        document.querySelector('#df-a538f208-9b3e-4bc1-87d6-7c405984015d button.colab-df-convert');\n",
              "      buttonEl.style.display =\n",
              "        google.colab.kernel.accessAllowed ? 'block' : 'none';\n",
              "\n",
              "      async function convertToInteractive(key) {\n",
              "        const element = document.querySelector('#df-a538f208-9b3e-4bc1-87d6-7c405984015d');\n",
              "        const dataTable =\n",
              "          await google.colab.kernel.invokeFunction('convertToInteractive',\n",
              "                                                    [key], {});\n",
              "        if (!dataTable) return;\n",
              "\n",
              "        const docLinkHtml = 'Like what you see? Visit the ' +\n",
              "          '<a target=\"_blank\" href=https://colab.research.google.com/notebooks/data_table.ipynb>data table notebook</a>'\n",
              "          + ' to learn more about interactive tables.';\n",
              "        element.innerHTML = '';\n",
              "        dataTable['output_type'] = 'display_data';\n",
              "        await google.colab.output.renderOutput(dataTable, element);\n",
              "        const docLink = document.createElement('div');\n",
              "        docLink.innerHTML = docLinkHtml;\n",
              "        element.appendChild(docLink);\n",
              "      }\n",
              "    </script>\n",
              "  </div>\n",
              "\n",
              "\n",
              "    <div id=\"df-458fcc1d-634b-4f2f-8643-b349032b1167\">\n",
              "      <button class=\"colab-df-quickchart\" onclick=\"quickchart('df-458fcc1d-634b-4f2f-8643-b349032b1167')\"\n",
              "                title=\"Suggest charts\"\n",
              "                style=\"display:none;\">\n",
              "\n",
              "<svg xmlns=\"http://www.w3.org/2000/svg\" height=\"24px\"viewBox=\"0 0 24 24\"\n",
              "     width=\"24px\">\n",
              "    <g>\n",
              "        <path d=\"M19 3H5c-1.1 0-2 .9-2 2v14c0 1.1.9 2 2 2h14c1.1 0 2-.9 2-2V5c0-1.1-.9-2-2-2zM9 17H7v-7h2v7zm4 0h-2V7h2v10zm4 0h-2v-4h2v4z\"/>\n",
              "    </g>\n",
              "</svg>\n",
              "      </button>\n",
              "\n",
              "<style>\n",
              "  .colab-df-quickchart {\n",
              "      --bg-color: #E8F0FE;\n",
              "      --fill-color: #1967D2;\n",
              "      --hover-bg-color: #E2EBFA;\n",
              "      --hover-fill-color: #174EA6;\n",
              "      --disabled-fill-color: #AAA;\n",
              "      --disabled-bg-color: #DDD;\n",
              "  }\n",
              "\n",
              "  [theme=dark] .colab-df-quickchart {\n",
              "      --bg-color: #3B4455;\n",
              "      --fill-color: #D2E3FC;\n",
              "      --hover-bg-color: #434B5C;\n",
              "      --hover-fill-color: #FFFFFF;\n",
              "      --disabled-bg-color: #3B4455;\n",
              "      --disabled-fill-color: #666;\n",
              "  }\n",
              "\n",
              "  .colab-df-quickchart {\n",
              "    background-color: var(--bg-color);\n",
              "    border: none;\n",
              "    border-radius: 50%;\n",
              "    cursor: pointer;\n",
              "    display: none;\n",
              "    fill: var(--fill-color);\n",
              "    height: 32px;\n",
              "    padding: 0;\n",
              "    width: 32px;\n",
              "  }\n",
              "\n",
              "  .colab-df-quickchart:hover {\n",
              "    background-color: var(--hover-bg-color);\n",
              "    box-shadow: 0 1px 2px rgba(60, 64, 67, 0.3), 0 1px 3px 1px rgba(60, 64, 67, 0.15);\n",
              "    fill: var(--button-hover-fill-color);\n",
              "  }\n",
              "\n",
              "  .colab-df-quickchart-complete:disabled,\n",
              "  .colab-df-quickchart-complete:disabled:hover {\n",
              "    background-color: var(--disabled-bg-color);\n",
              "    fill: var(--disabled-fill-color);\n",
              "    box-shadow: none;\n",
              "  }\n",
              "\n",
              "  .colab-df-spinner {\n",
              "    border: 2px solid var(--fill-color);\n",
              "    border-color: transparent;\n",
              "    border-bottom-color: var(--fill-color);\n",
              "    animation:\n",
              "      spin 1s steps(1) infinite;\n",
              "  }\n",
              "\n",
              "  @keyframes spin {\n",
              "    0% {\n",
              "      border-color: transparent;\n",
              "      border-bottom-color: var(--fill-color);\n",
              "      border-left-color: var(--fill-color);\n",
              "    }\n",
              "    20% {\n",
              "      border-color: transparent;\n",
              "      border-left-color: var(--fill-color);\n",
              "      border-top-color: var(--fill-color);\n",
              "    }\n",
              "    30% {\n",
              "      border-color: transparent;\n",
              "      border-left-color: var(--fill-color);\n",
              "      border-top-color: var(--fill-color);\n",
              "      border-right-color: var(--fill-color);\n",
              "    }\n",
              "    40% {\n",
              "      border-color: transparent;\n",
              "      border-right-color: var(--fill-color);\n",
              "      border-top-color: var(--fill-color);\n",
              "    }\n",
              "    60% {\n",
              "      border-color: transparent;\n",
              "      border-right-color: var(--fill-color);\n",
              "    }\n",
              "    80% {\n",
              "      border-color: transparent;\n",
              "      border-right-color: var(--fill-color);\n",
              "      border-bottom-color: var(--fill-color);\n",
              "    }\n",
              "    90% {\n",
              "      border-color: transparent;\n",
              "      border-bottom-color: var(--fill-color);\n",
              "    }\n",
              "  }\n",
              "</style>\n",
              "\n",
              "      <script>\n",
              "        async function quickchart(key) {\n",
              "          const quickchartButtonEl =\n",
              "            document.querySelector('#' + key + ' button');\n",
              "          quickchartButtonEl.disabled = true;  // To prevent multiple clicks.\n",
              "          quickchartButtonEl.classList.add('colab-df-spinner');\n",
              "          try {\n",
              "            const charts = await google.colab.kernel.invokeFunction(\n",
              "                'suggestCharts', [key], {});\n",
              "          } catch (error) {\n",
              "            console.error('Error during call to suggestCharts:', error);\n",
              "          }\n",
              "          quickchartButtonEl.classList.remove('colab-df-spinner');\n",
              "          quickchartButtonEl.classList.add('colab-df-quickchart-complete');\n",
              "        }\n",
              "        (() => {\n",
              "          let quickchartButtonEl =\n",
              "            document.querySelector('#df-458fcc1d-634b-4f2f-8643-b349032b1167 button');\n",
              "          quickchartButtonEl.style.display =\n",
              "            google.colab.kernel.accessAllowed ? 'block' : 'none';\n",
              "        })();\n",
              "      </script>\n",
              "    </div>\n",
              "\n",
              "  <div id=\"id_d34458a4-687c-4946-88a5-5bc21ebbd434\">\n",
              "    <style>\n",
              "      .colab-df-generate {\n",
              "        background-color: #E8F0FE;\n",
              "        border: none;\n",
              "        border-radius: 50%;\n",
              "        cursor: pointer;\n",
              "        display: none;\n",
              "        fill: #1967D2;\n",
              "        height: 32px;\n",
              "        padding: 0 0 0 0;\n",
              "        width: 32px;\n",
              "      }\n",
              "\n",
              "      .colab-df-generate:hover {\n",
              "        background-color: #E2EBFA;\n",
              "        box-shadow: 0px 1px 2px rgba(60, 64, 67, 0.3), 0px 1px 3px 1px rgba(60, 64, 67, 0.15);\n",
              "        fill: #174EA6;\n",
              "      }\n",
              "\n",
              "      [theme=dark] .colab-df-generate {\n",
              "        background-color: #3B4455;\n",
              "        fill: #D2E3FC;\n",
              "      }\n",
              "\n",
              "      [theme=dark] .colab-df-generate:hover {\n",
              "        background-color: #434B5C;\n",
              "        box-shadow: 0px 1px 3px 1px rgba(0, 0, 0, 0.15);\n",
              "        filter: drop-shadow(0px 1px 2px rgba(0, 0, 0, 0.3));\n",
              "        fill: #FFFFFF;\n",
              "      }\n",
              "    </style>\n",
              "    <button class=\"colab-df-generate\" onclick=\"generateWithVariable('acc')\"\n",
              "            title=\"Generate code using this dataframe.\"\n",
              "            style=\"display:none;\">\n",
              "\n",
              "  <svg xmlns=\"http://www.w3.org/2000/svg\" height=\"24px\"viewBox=\"0 0 24 24\"\n",
              "       width=\"24px\">\n",
              "    <path d=\"M7,19H8.4L18.45,9,17,7.55,7,17.6ZM5,21V16.75L18.45,3.32a2,2,0,0,1,2.83,0l1.4,1.43a1.91,1.91,0,0,1,.58,1.4,1.91,1.91,0,0,1-.58,1.4L9.25,21ZM18.45,9,17,7.55Zm-12,3A5.31,5.31,0,0,0,4.9,8.1,5.31,5.31,0,0,0,1,6.5,5.31,5.31,0,0,0,4.9,4.9,5.31,5.31,0,0,0,6.5,1,5.31,5.31,0,0,0,8.1,4.9,5.31,5.31,0,0,0,12,6.5,5.46,5.46,0,0,0,6.5,12Z\"/>\n",
              "  </svg>\n",
              "    </button>\n",
              "    <script>\n",
              "      (() => {\n",
              "      const buttonEl =\n",
              "        document.querySelector('#id_d34458a4-687c-4946-88a5-5bc21ebbd434 button.colab-df-generate');\n",
              "      buttonEl.style.display =\n",
              "        google.colab.kernel.accessAllowed ? 'block' : 'none';\n",
              "\n",
              "      buttonEl.onclick = () => {\n",
              "        google.colab.notebook.generateWithVariable('acc');\n",
              "      }\n",
              "      })();\n",
              "    </script>\n",
              "  </div>\n",
              "\n",
              "    </div>\n",
              "  </div>\n"
            ],
            "application/vnd.google.colaboratory.intrinsic+json": {
              "type": "dataframe",
              "variable_name": "acc",
              "summary": "{\n  \"name\": \"acc\",\n  \"rows\": 8,\n  \"fields\": [\n    {\n      \"column\": \"num_words=5000\",\n      \"properties\": {\n        \"dtype\": \"number\",\n        \"std\": 0.15620607268239328,\n        \"min\": 0.3491,\n        \"max\": 0.829,\n        \"num_unique_values\": 8,\n        \"samples\": [\n          0.829,\n          0.7818,\n          0.7979\n        ],\n        \"semantic_type\": \"\",\n        \"description\": \"\"\n      }\n    },\n    {\n      \"column\": \"num_words=10000\",\n      \"properties\": {\n        \"dtype\": \"number\",\n        \"std\": 0.25646434867805146,\n        \"min\": 0.0583,\n        \"max\": 0.8299,\n        \"num_unique_values\": 8,\n        \"samples\": [\n          0.8299,\n          0.7894,\n          0.7956\n        ],\n        \"semantic_type\": \"\",\n        \"description\": \"\"\n      }\n    },\n    {\n      \"column\": \"num_words=None\",\n      \"properties\": {\n        \"dtype\": \"number\",\n        \"std\": 0.18696934049654848,\n        \"min\": 0.2538,\n        \"max\": 0.8295,\n        \"num_unique_values\": 8,\n        \"samples\": [\n          0.8295,\n          0.7707,\n          0.7916\n        ],\n        \"semantic_type\": \"\",\n        \"description\": \"\"\n      }\n    }\n  ]\n}"
            }
          },
          "metadata": {}
        },
        {
          "output_type": "stream",
          "name": "stdout",
          "text": [
            "\n",
            "F1-score\n"
          ]
        },
        {
          "output_type": "display_data",
          "data": {
            "text/plain": [
              "                        num_words=5000  num_words=10000  num_words=None\n",
              "LogisticRegression              0.7762           0.7732          0.7670\n",
              "LinearSVC                       0.8230           0.8237          0.8237\n",
              "RandomForestClassifier          0.7430           0.7295          0.7195\n",
              "XGBClassifier                   0.7940           0.7850          0.7920\n",
              "ComplementNB                    0.7459           0.7457          0.7347\n",
              "KNeighborsClassifier            0.7703           0.7800          0.7627\n",
              "LGBMClassifier                  0.1873           0.0350          0.1680\n",
              "DecisionTreeClassifier          0.6929           0.6860          0.6989"
            ],
            "text/html": [
              "\n",
              "  <div id=\"df-fe213ae1-d503-404b-9691-d34b56d69b47\" class=\"colab-df-container\">\n",
              "    <div>\n",
              "<style scoped>\n",
              "    .dataframe tbody tr th:only-of-type {\n",
              "        vertical-align: middle;\n",
              "    }\n",
              "\n",
              "    .dataframe tbody tr th {\n",
              "        vertical-align: top;\n",
              "    }\n",
              "\n",
              "    .dataframe thead th {\n",
              "        text-align: right;\n",
              "    }\n",
              "</style>\n",
              "<table border=\"1\" class=\"dataframe\">\n",
              "  <thead>\n",
              "    <tr style=\"text-align: right;\">\n",
              "      <th></th>\n",
              "      <th>num_words=5000</th>\n",
              "      <th>num_words=10000</th>\n",
              "      <th>num_words=None</th>\n",
              "    </tr>\n",
              "  </thead>\n",
              "  <tbody>\n",
              "    <tr>\n",
              "      <th>LogisticRegression</th>\n",
              "      <td>0.7762</td>\n",
              "      <td>0.7732</td>\n",
              "      <td>0.7670</td>\n",
              "    </tr>\n",
              "    <tr>\n",
              "      <th>LinearSVC</th>\n",
              "      <td>0.8230</td>\n",
              "      <td>0.8237</td>\n",
              "      <td>0.8237</td>\n",
              "    </tr>\n",
              "    <tr>\n",
              "      <th>RandomForestClassifier</th>\n",
              "      <td>0.7430</td>\n",
              "      <td>0.7295</td>\n",
              "      <td>0.7195</td>\n",
              "    </tr>\n",
              "    <tr>\n",
              "      <th>XGBClassifier</th>\n",
              "      <td>0.7940</td>\n",
              "      <td>0.7850</td>\n",
              "      <td>0.7920</td>\n",
              "    </tr>\n",
              "    <tr>\n",
              "      <th>ComplementNB</th>\n",
              "      <td>0.7459</td>\n",
              "      <td>0.7457</td>\n",
              "      <td>0.7347</td>\n",
              "    </tr>\n",
              "    <tr>\n",
              "      <th>KNeighborsClassifier</th>\n",
              "      <td>0.7703</td>\n",
              "      <td>0.7800</td>\n",
              "      <td>0.7627</td>\n",
              "    </tr>\n",
              "    <tr>\n",
              "      <th>LGBMClassifier</th>\n",
              "      <td>0.1873</td>\n",
              "      <td>0.0350</td>\n",
              "      <td>0.1680</td>\n",
              "    </tr>\n",
              "    <tr>\n",
              "      <th>DecisionTreeClassifier</th>\n",
              "      <td>0.6929</td>\n",
              "      <td>0.6860</td>\n",
              "      <td>0.6989</td>\n",
              "    </tr>\n",
              "  </tbody>\n",
              "</table>\n",
              "</div>\n",
              "    <div class=\"colab-df-buttons\">\n",
              "\n",
              "  <div class=\"colab-df-container\">\n",
              "    <button class=\"colab-df-convert\" onclick=\"convertToInteractive('df-fe213ae1-d503-404b-9691-d34b56d69b47')\"\n",
              "            title=\"Convert this dataframe to an interactive table.\"\n",
              "            style=\"display:none;\">\n",
              "\n",
              "  <svg xmlns=\"http://www.w3.org/2000/svg\" height=\"24px\" viewBox=\"0 -960 960 960\">\n",
              "    <path d=\"M120-120v-720h720v720H120Zm60-500h600v-160H180v160Zm220 220h160v-160H400v160Zm0 220h160v-160H400v160ZM180-400h160v-160H180v160Zm440 0h160v-160H620v160ZM180-180h160v-160H180v160Zm440 0h160v-160H620v160Z\"/>\n",
              "  </svg>\n",
              "    </button>\n",
              "\n",
              "  <style>\n",
              "    .colab-df-container {\n",
              "      display:flex;\n",
              "      gap: 12px;\n",
              "    }\n",
              "\n",
              "    .colab-df-convert {\n",
              "      background-color: #E8F0FE;\n",
              "      border: none;\n",
              "      border-radius: 50%;\n",
              "      cursor: pointer;\n",
              "      display: none;\n",
              "      fill: #1967D2;\n",
              "      height: 32px;\n",
              "      padding: 0 0 0 0;\n",
              "      width: 32px;\n",
              "    }\n",
              "\n",
              "    .colab-df-convert:hover {\n",
              "      background-color: #E2EBFA;\n",
              "      box-shadow: 0px 1px 2px rgba(60, 64, 67, 0.3), 0px 1px 3px 1px rgba(60, 64, 67, 0.15);\n",
              "      fill: #174EA6;\n",
              "    }\n",
              "\n",
              "    .colab-df-buttons div {\n",
              "      margin-bottom: 4px;\n",
              "    }\n",
              "\n",
              "    [theme=dark] .colab-df-convert {\n",
              "      background-color: #3B4455;\n",
              "      fill: #D2E3FC;\n",
              "    }\n",
              "\n",
              "    [theme=dark] .colab-df-convert:hover {\n",
              "      background-color: #434B5C;\n",
              "      box-shadow: 0px 1px 3px 1px rgba(0, 0, 0, 0.15);\n",
              "      filter: drop-shadow(0px 1px 2px rgba(0, 0, 0, 0.3));\n",
              "      fill: #FFFFFF;\n",
              "    }\n",
              "  </style>\n",
              "\n",
              "    <script>\n",
              "      const buttonEl =\n",
              "        document.querySelector('#df-fe213ae1-d503-404b-9691-d34b56d69b47 button.colab-df-convert');\n",
              "      buttonEl.style.display =\n",
              "        google.colab.kernel.accessAllowed ? 'block' : 'none';\n",
              "\n",
              "      async function convertToInteractive(key) {\n",
              "        const element = document.querySelector('#df-fe213ae1-d503-404b-9691-d34b56d69b47');\n",
              "        const dataTable =\n",
              "          await google.colab.kernel.invokeFunction('convertToInteractive',\n",
              "                                                    [key], {});\n",
              "        if (!dataTable) return;\n",
              "\n",
              "        const docLinkHtml = 'Like what you see? Visit the ' +\n",
              "          '<a target=\"_blank\" href=https://colab.research.google.com/notebooks/data_table.ipynb>data table notebook</a>'\n",
              "          + ' to learn more about interactive tables.';\n",
              "        element.innerHTML = '';\n",
              "        dataTable['output_type'] = 'display_data';\n",
              "        await google.colab.output.renderOutput(dataTable, element);\n",
              "        const docLink = document.createElement('div');\n",
              "        docLink.innerHTML = docLinkHtml;\n",
              "        element.appendChild(docLink);\n",
              "      }\n",
              "    </script>\n",
              "  </div>\n",
              "\n",
              "\n",
              "    <div id=\"df-3c246eb0-eca8-44b3-a47b-438aeb40706a\">\n",
              "      <button class=\"colab-df-quickchart\" onclick=\"quickchart('df-3c246eb0-eca8-44b3-a47b-438aeb40706a')\"\n",
              "                title=\"Suggest charts\"\n",
              "                style=\"display:none;\">\n",
              "\n",
              "<svg xmlns=\"http://www.w3.org/2000/svg\" height=\"24px\"viewBox=\"0 0 24 24\"\n",
              "     width=\"24px\">\n",
              "    <g>\n",
              "        <path d=\"M19 3H5c-1.1 0-2 .9-2 2v14c0 1.1.9 2 2 2h14c1.1 0 2-.9 2-2V5c0-1.1-.9-2-2-2zM9 17H7v-7h2v7zm4 0h-2V7h2v10zm4 0h-2v-4h2v4z\"/>\n",
              "    </g>\n",
              "</svg>\n",
              "      </button>\n",
              "\n",
              "<style>\n",
              "  .colab-df-quickchart {\n",
              "      --bg-color: #E8F0FE;\n",
              "      --fill-color: #1967D2;\n",
              "      --hover-bg-color: #E2EBFA;\n",
              "      --hover-fill-color: #174EA6;\n",
              "      --disabled-fill-color: #AAA;\n",
              "      --disabled-bg-color: #DDD;\n",
              "  }\n",
              "\n",
              "  [theme=dark] .colab-df-quickchart {\n",
              "      --bg-color: #3B4455;\n",
              "      --fill-color: #D2E3FC;\n",
              "      --hover-bg-color: #434B5C;\n",
              "      --hover-fill-color: #FFFFFF;\n",
              "      --disabled-bg-color: #3B4455;\n",
              "      --disabled-fill-color: #666;\n",
              "  }\n",
              "\n",
              "  .colab-df-quickchart {\n",
              "    background-color: var(--bg-color);\n",
              "    border: none;\n",
              "    border-radius: 50%;\n",
              "    cursor: pointer;\n",
              "    display: none;\n",
              "    fill: var(--fill-color);\n",
              "    height: 32px;\n",
              "    padding: 0;\n",
              "    width: 32px;\n",
              "  }\n",
              "\n",
              "  .colab-df-quickchart:hover {\n",
              "    background-color: var(--hover-bg-color);\n",
              "    box-shadow: 0 1px 2px rgba(60, 64, 67, 0.3), 0 1px 3px 1px rgba(60, 64, 67, 0.15);\n",
              "    fill: var(--button-hover-fill-color);\n",
              "  }\n",
              "\n",
              "  .colab-df-quickchart-complete:disabled,\n",
              "  .colab-df-quickchart-complete:disabled:hover {\n",
              "    background-color: var(--disabled-bg-color);\n",
              "    fill: var(--disabled-fill-color);\n",
              "    box-shadow: none;\n",
              "  }\n",
              "\n",
              "  .colab-df-spinner {\n",
              "    border: 2px solid var(--fill-color);\n",
              "    border-color: transparent;\n",
              "    border-bottom-color: var(--fill-color);\n",
              "    animation:\n",
              "      spin 1s steps(1) infinite;\n",
              "  }\n",
              "\n",
              "  @keyframes spin {\n",
              "    0% {\n",
              "      border-color: transparent;\n",
              "      border-bottom-color: var(--fill-color);\n",
              "      border-left-color: var(--fill-color);\n",
              "    }\n",
              "    20% {\n",
              "      border-color: transparent;\n",
              "      border-left-color: var(--fill-color);\n",
              "      border-top-color: var(--fill-color);\n",
              "    }\n",
              "    30% {\n",
              "      border-color: transparent;\n",
              "      border-left-color: var(--fill-color);\n",
              "      border-top-color: var(--fill-color);\n",
              "      border-right-color: var(--fill-color);\n",
              "    }\n",
              "    40% {\n",
              "      border-color: transparent;\n",
              "      border-right-color: var(--fill-color);\n",
              "      border-top-color: var(--fill-color);\n",
              "    }\n",
              "    60% {\n",
              "      border-color: transparent;\n",
              "      border-right-color: var(--fill-color);\n",
              "    }\n",
              "    80% {\n",
              "      border-color: transparent;\n",
              "      border-right-color: var(--fill-color);\n",
              "      border-bottom-color: var(--fill-color);\n",
              "    }\n",
              "    90% {\n",
              "      border-color: transparent;\n",
              "      border-bottom-color: var(--fill-color);\n",
              "    }\n",
              "  }\n",
              "</style>\n",
              "\n",
              "      <script>\n",
              "        async function quickchart(key) {\n",
              "          const quickchartButtonEl =\n",
              "            document.querySelector('#' + key + ' button');\n",
              "          quickchartButtonEl.disabled = true;  // To prevent multiple clicks.\n",
              "          quickchartButtonEl.classList.add('colab-df-spinner');\n",
              "          try {\n",
              "            const charts = await google.colab.kernel.invokeFunction(\n",
              "                'suggestCharts', [key], {});\n",
              "          } catch (error) {\n",
              "            console.error('Error during call to suggestCharts:', error);\n",
              "          }\n",
              "          quickchartButtonEl.classList.remove('colab-df-spinner');\n",
              "          quickchartButtonEl.classList.add('colab-df-quickchart-complete');\n",
              "        }\n",
              "        (() => {\n",
              "          let quickchartButtonEl =\n",
              "            document.querySelector('#df-3c246eb0-eca8-44b3-a47b-438aeb40706a button');\n",
              "          quickchartButtonEl.style.display =\n",
              "            google.colab.kernel.accessAllowed ? 'block' : 'none';\n",
              "        })();\n",
              "      </script>\n",
              "    </div>\n",
              "\n",
              "  <div id=\"id_e538b0f0-af2e-4308-af7e-b3db9b84c862\">\n",
              "    <style>\n",
              "      .colab-df-generate {\n",
              "        background-color: #E8F0FE;\n",
              "        border: none;\n",
              "        border-radius: 50%;\n",
              "        cursor: pointer;\n",
              "        display: none;\n",
              "        fill: #1967D2;\n",
              "        height: 32px;\n",
              "        padding: 0 0 0 0;\n",
              "        width: 32px;\n",
              "      }\n",
              "\n",
              "      .colab-df-generate:hover {\n",
              "        background-color: #E2EBFA;\n",
              "        box-shadow: 0px 1px 2px rgba(60, 64, 67, 0.3), 0px 1px 3px 1px rgba(60, 64, 67, 0.15);\n",
              "        fill: #174EA6;\n",
              "      }\n",
              "\n",
              "      [theme=dark] .colab-df-generate {\n",
              "        background-color: #3B4455;\n",
              "        fill: #D2E3FC;\n",
              "      }\n",
              "\n",
              "      [theme=dark] .colab-df-generate:hover {\n",
              "        background-color: #434B5C;\n",
              "        box-shadow: 0px 1px 3px 1px rgba(0, 0, 0, 0.15);\n",
              "        filter: drop-shadow(0px 1px 2px rgba(0, 0, 0, 0.3));\n",
              "        fill: #FFFFFF;\n",
              "      }\n",
              "    </style>\n",
              "    <button class=\"colab-df-generate\" onclick=\"generateWithVariable('f1')\"\n",
              "            title=\"Generate code using this dataframe.\"\n",
              "            style=\"display:none;\">\n",
              "\n",
              "  <svg xmlns=\"http://www.w3.org/2000/svg\" height=\"24px\"viewBox=\"0 0 24 24\"\n",
              "       width=\"24px\">\n",
              "    <path d=\"M7,19H8.4L18.45,9,17,7.55,7,17.6ZM5,21V16.75L18.45,3.32a2,2,0,0,1,2.83,0l1.4,1.43a1.91,1.91,0,0,1,.58,1.4,1.91,1.91,0,0,1-.58,1.4L9.25,21ZM18.45,9,17,7.55Zm-12,3A5.31,5.31,0,0,0,4.9,8.1,5.31,5.31,0,0,0,1,6.5,5.31,5.31,0,0,0,4.9,4.9,5.31,5.31,0,0,0,6.5,1,5.31,5.31,0,0,0,8.1,4.9,5.31,5.31,0,0,0,12,6.5,5.46,5.46,0,0,0,6.5,12Z\"/>\n",
              "  </svg>\n",
              "    </button>\n",
              "    <script>\n",
              "      (() => {\n",
              "      const buttonEl =\n",
              "        document.querySelector('#id_e538b0f0-af2e-4308-af7e-b3db9b84c862 button.colab-df-generate');\n",
              "      buttonEl.style.display =\n",
              "        google.colab.kernel.accessAllowed ? 'block' : 'none';\n",
              "\n",
              "      buttonEl.onclick = () => {\n",
              "        google.colab.notebook.generateWithVariable('f1');\n",
              "      }\n",
              "      })();\n",
              "    </script>\n",
              "  </div>\n",
              "\n",
              "    </div>\n",
              "  </div>\n"
            ],
            "application/vnd.google.colaboratory.intrinsic+json": {
              "type": "dataframe",
              "variable_name": "f1",
              "summary": "{\n  \"name\": \"f1\",\n  \"rows\": 8,\n  \"fields\": [\n    {\n      \"column\": \"num_words=5000\",\n      \"properties\": {\n        \"dtype\": \"number\",\n        \"std\": 0.2073689586220657,\n        \"min\": 0.1873,\n        \"max\": 0.823,\n        \"num_unique_values\": 8,\n        \"samples\": [\n          0.823,\n          0.7703,\n          0.7762\n        ],\n        \"semantic_type\": \"\",\n        \"description\": \"\"\n      }\n    },\n    {\n      \"column\": \"num_words=10000\",\n      \"properties\": {\n        \"dtype\": \"number\",\n        \"std\": 0.25976643870710364,\n        \"min\": 0.035,\n        \"max\": 0.8237,\n        \"num_unique_values\": 8,\n        \"samples\": [\n          0.8237,\n          0.78,\n          0.7732\n        ],\n        \"semantic_type\": \"\",\n        \"description\": \"\"\n      }\n    },\n    {\n      \"column\": \"num_words=None\",\n      \"properties\": {\n        \"dtype\": \"number\",\n        \"std\": 0.21198643782428292,\n        \"min\": 0.168,\n        \"max\": 0.8237,\n        \"num_unique_values\": 8,\n        \"samples\": [\n          0.8237,\n          0.7627,\n          0.767\n        ],\n        \"semantic_type\": \"\",\n        \"description\": \"\"\n      }\n    }\n  ]\n}"
            }
          },
          "metadata": {}
        }
      ]
    },
    {
      "cell_type": "code",
      "source": [
        "## 실험 ##\n",
        "\n",
        "lr = LogisticRegression(max_iter=500, penalty='l2', random_state=11)\n",
        "svc = LinearSVC(penalty='l2', random_state=11)\n",
        "rf = RandomForestClassifier(n_estimators=500, n_jobs=-1, random_state=11)\n",
        "xgb = XGBClassifier(n_estimators=500, random_state=11)\n",
        "# cnb = ComplementNB()\n",
        "# knn = KNeighborsClassifier()\n",
        "lgbm = LGBMClassifier(n_estimators=500, learning_rate=0.05, random_state=11, verbosity=-1)\n",
        "# dt = DecisionTreeClassifier(random_state=11)\n",
        "# 단어장 개수 제한 없는 경우\n",
        "X_train_v, y_train, X_test_v, y_test = vectorization(10000)\n",
        "\n",
        "for m in [lr, svc, rf, xgb, lgbm]:\n",
        "  fitting(m, X_train_v, y_train, X_test_v, y_test)"
      ],
      "metadata": {
        "colab": {
          "base_uri": "https://localhost:8080/"
        },
        "id": "sWyQFHxQxu2o",
        "outputId": "4aa0b9c6-ddd5-497d-be17-e836aa61b91e"
      },
      "execution_count": 10,
      "outputs": [
        {
          "output_type": "stream",
          "name": "stdout",
          "text": [
            "LogisticRegression\n",
            "정확도: 0.7956\n",
            "f1-score: 0.7732\n",
            "------------------------------\n",
            "LinearSVC\n",
            "정확도: 0.8299\n",
            "f1-score: 0.8237\n",
            "------------------------------\n",
            "RandomForestClassifier\n",
            "정확도: 0.7591\n",
            "f1-score: 0.7348\n",
            "------------------------------\n",
            "XGBClassifier\n",
            "정확도: 0.8032\n",
            "f1-score: 0.7968\n",
            "------------------------------\n"
          ]
        },
        {
          "output_type": "stream",
          "name": "stderr",
          "text": [
            "/usr/local/lib/python3.12/dist-packages/sklearn/utils/validation.py:2739: UserWarning: X does not have valid feature names, but LGBMClassifier was fitted with feature names\n",
            "  warnings.warn(\n"
          ]
        },
        {
          "output_type": "stream",
          "name": "stdout",
          "text": [
            "LGBMClassifier\n",
            "정확도: 0.1790\n",
            "f1-score: 0.1893\n",
            "------------------------------\n"
          ]
        }
      ]
    },
    {
      "cell_type": "markdown",
      "source": [
        "## Word2Vec"
      ],
      "metadata": {
        "id": "K0U_JGcVZFvS"
      }
    },
    {
      "cell_type": "code",
      "source": [
        "from gensim.models import Word2Vec\n",
        "import tensorflow as tf"
      ],
      "metadata": {
        "id": "jXKCAztQZOHQ"
      },
      "execution_count": 1,
      "outputs": []
    },
    {
      "cell_type": "code",
      "source": [
        "# 빈도 높은 10000개의 단어로 이루어진 데이터 불러오기\n",
        "(X_train, y_train), (X_test, y_test) = reuters.load_data(num_words=10000, test_split=0.2)\n",
        "\n",
        "# 인덱스: 단어 형식으로 dict 변경, 토큰 3개 자리 위해 0, 1 ,2 자리는 비워둠\n",
        "index_word = {idx+3:word for word, idx in reuters.get_word_index().items()}\n",
        "\n",
        "# 0, 1, 2 자리에 각각 토큰 추가\n",
        "for idx, token in enumerate([\"<pad>\", \"<sos>\", \"<unk>\"]):\n",
        "  index_word[idx] = token\n",
        "\n",
        "# 데이터 숫자에서 텍스트로 변환\n",
        "decoded = []\n",
        "for s in X_train:\n",
        "  decoded.append(' '.join([index_word[text] for text in s]))\n",
        "X_train = decoded\n",
        "\n",
        "# test도 동일하게 진행\n",
        "decoded = []\n",
        "for s in X_test:\n",
        "  decoded.append(' '.join([index_word[text] for text in s]))\n",
        "X_test = decoded"
      ],
      "metadata": {
        "id": "Z-DSaCLzhHlD"
      },
      "execution_count": 7,
      "outputs": []
    },
    {
      "cell_type": "code",
      "source": [
        "# 문장 토큰화\n",
        "X_train_tokenized = [sentence.split() for sentence in X_train]\n",
        "X_test_tokenized = [sentence.split() for sentence in X_test]"
      ],
      "metadata": {
        "id": "rgERPiJ4f1DY"
      },
      "execution_count": 8,
      "outputs": []
    },
    {
      "cell_type": "code",
      "source": [
        "# Word2Vec 학습\n",
        "model = Word2Vec(sentences=X_train_tokenized, vector_size=256, window=5, min_count=5, workers=4, sg=0)"
      ],
      "metadata": {
        "id": "jPBsKyEchc2l"
      },
      "execution_count": 9,
      "outputs": []
    },
    {
      "cell_type": "code",
      "source": [
        "# Word2Vec 학습상태 확인\n",
        "model_result = model.wv.most_similar('man')\n",
        "print(model_result)"
      ],
      "metadata": {
        "colab": {
          "base_uri": "https://localhost:8080/"
        },
        "id": "YmBgyF8zhrKf",
        "outputId": "75c5cbcc-2475-4325-969c-c664531692f2"
      },
      "execution_count": 10,
      "outputs": [
        {
          "output_type": "stream",
          "name": "stdout",
          "text": [
            "[('le', 0.8695319294929504), ('erbynn', 0.8632148504257202), ('glenn', 0.8598173260688782), ('kobena', 0.8547869324684143), ('iii', 0.8539669513702393), ('retired', 0.8518201112747192), ('rio', 0.8506918549537659), ('blue', 0.8469061255455017), ('olivetti', 0.8451955318450928), ('disc', 0.8423368334770203)]\n"
          ]
        }
      ]
    },
    {
      "cell_type": "code",
      "source": [
        "w2v_model = model\n",
        "\n",
        "# 문장 벡터화\n",
        "def vectorize_sentence(sentence, model, max_len):\n",
        "    vecs = []\n",
        "    for word in sentence:\n",
        "        if word in model.wv:\n",
        "            vecs.append(model.wv[word])\n",
        "        else:\n",
        "            vecs.append(np.zeros(model.vector_size))\n",
        "    # Padding\n",
        "    if len(vecs) < max_len:\n",
        "        vecs += [np.zeros(model.vector_size)] * (max_len - len(vecs))\n",
        "    else:\n",
        "        vecs = vecs[:max_len]\n",
        "    return np.array(vecs)\n",
        "\n",
        "X_train_w2v = np.array([vectorize_sentence(s, w2v_model, max_len=100) for s in X_train_tokenized])\n",
        "X_test_w2v = np.array([vectorize_sentence(s, w2v_model, max_len=100) for s in X_test_tokenized])"
      ],
      "metadata": {
        "id": "dC_GR_nUlpM7"
      },
      "execution_count": 11,
      "outputs": []
    },
    {
      "cell_type": "code",
      "source": [
        "# 2차원 변환 위해 벡터 평균 취하기\n",
        "X_w2v_seq_train = X_train_w2v\n",
        "X_w2v_seq_test = X_test_w2v\n",
        "\n",
        "X_w2v_avg_train = np.mean(X_w2v_seq_train, axis=1)\n",
        "X_w2v_avg_test = np.mean(X_w2v_seq_test, axis=1)"
      ],
      "metadata": {
        "id": "T78nG02AnA1I"
      },
      "execution_count": 12,
      "outputs": []
    },
    {
      "cell_type": "code",
      "source": [
        "# TF-IDF에서 성능이 가장 잘나왔던 svc로 학습\n",
        "svc = LinearSVC(random_state=1)\n",
        "fitting(svc, X_w2v_avg_train, y_train, X_w2v_avg_test, y_test)"
      ],
      "metadata": {
        "colab": {
          "base_uri": "https://localhost:8080/"
        },
        "id": "DBXkfVjcnhm2",
        "outputId": "2124488c-8e56-4915-cd18-dfb019a5aff9"
      },
      "execution_count": 13,
      "outputs": [
        {
          "output_type": "stream",
          "name": "stdout",
          "text": [
            "LinearSVC\n",
            "정확도: 0.7529\n",
            "f1-score: 0.7226\n",
            "------------------------------\n"
          ]
        }
      ]
    },
    {
      "cell_type": "code",
      "source": [
        "xgb = XGBClassifier(n_estimators=500, max_depth=5, eval_metric='mlogloss')\n",
        "fitting(xgb, X_w2v_avg_train, y_train, X_w2v_avg_test, y_test)"
      ],
      "metadata": {
        "colab": {
          "base_uri": "https://localhost:8080/"
        },
        "id": "7V7pqPltoQlT",
        "outputId": "1a99d80f-a1ba-4cdd-91fc-4c4951f30e76"
      },
      "execution_count": 14,
      "outputs": [
        {
          "output_type": "stream",
          "name": "stdout",
          "text": [
            "XGBClassifier\n",
            "정확도: 0.7329\n",
            "f1-score: 0.7201\n",
            "------------------------------\n"
          ]
        }
      ]
    },
    {
      "cell_type": "markdown",
      "source": [
        "### 머신러닝 성능\n",
        "- TfidfVectorizer를 사용하여 단어수에 따른 성능, 8개의 머신러닝 모델에 따른 성능을 비교해보았음.\n",
        "- 하이퍼 파라미터를 수정하지 않은 기본 모델의 경우 LinearSVC 모델의 정확도와 f1_score 모두 약 0.82로 가장 높았으며 그 뒤로는 LogisticRegression과 XGBClassifier가 약 0.8의 정확도를 보임. LGBMClassifier를 제외하고는 나머지 모델 모두 비슷한 성능을 보임.\n",
        "- 선형적인 방식으로 분류 경계를 찾는 LinearSVC과 Logisticregression 알고리즘이 다른 알고리즘에 비해 고차원의 희소 데이터(tf-idf로 인해 희소행렬을 가짐)를 효율적으로 처리하는 경향이 있어 그런 것으로 보임. 베이즈 모델의 경우 클래스 불균형에 강한 성능을 보이나 모든 단어가 서로 독립이라고 가정함. 그러나 실제 텍스트는 단어 순서나 조합이 중요하여 이 가정이 깨지며 선형모델만큼의 성능을 내기 어려웠던 것으로 보임. knn은 가까운 이웃과의 거리에 의존하게 되는데 고차원으로 갈수록 포인트 간 거리가 거의 비슷해지는 현상이 발생하여 성능이 0.75로 그친 것으로 보임. DecisionTree와 RandomForest는 트리 모델이 최적의 분할 지점을 찾기 어려워 성능이 낮은 것으로 보임. 부스팅 모델의 경우 LGBM보다 XGB가 희소 행렬에 대해 안정적으로 처리하도록 설계되어 있다고 하며, LGBM은 밀집행렬을 가정하고 효율적인 처리를 진행하나 희소성을 제대로 인지하지 못해 학습이 제대로 일어나지 않은 것으로 보임.\n",
        "- Word2Vec는 Tfidf에서 성능이 잘 나왔던 LinearSVC와 XGBClassifier를 사용했으며 두 모델 모두 Tfidf를 통해 벡터화 한 경우보다 성능이 좋지 않았음. 이는 tfidf의 단어 중요도로 데이터를 바라보는 관점이 word2vec의 단어 의미로 데이터를 바라보는 관점보다 실습 데이터에 더 잘맞았던 것으로 생각해볼 수 있음.\n",
        "- 단어수를 5000개, 10000개로 했을 때와 단어 수 제한을 두지 않았을 때 전반적으로 모델의 성능에는 큰 차이가 없었음. 이를 통해 가장 많이 등장하는 5000개의 단어만으로도 뉴스 카테고리를 분류하기에 충분했으며 이후 단어 수를 늘려감에 따라 추가되는 단어들은 오타나 고유명사 등의 노이즈 단어일 가능성이 높을 것이라는 것을 생각해 볼 수  있음.\n"
      ],
      "metadata": {
        "id": "SuXk-sQ5wlRj"
      }
    },
    {
      "cell_type": "markdown",
      "source": [
        "# 딥러닝"
      ],
      "metadata": {
        "id": "OrwxgsvCobz8"
      }
    },
    {
      "cell_type": "code",
      "source": [
        "from tensorflow.keras.models import Sequential\n",
        "from tensorflow.keras.layers import Flatten, Dense, LSTM, Dropout"
      ],
      "metadata": {
        "id": "23Meb5HBrhER"
      },
      "execution_count": 15,
      "outputs": []
    },
    {
      "cell_type": "code",
      "source": [
        "dense_model = Sequential([\n",
        "    Flatten(input_shape=(100, 256)),\n",
        "    Dense(512, activation='relu'),\n",
        "    Dropout(0.3),\n",
        "    Dense(128, activation='relu'),\n",
        "    Dropout(0.3),\n",
        "    Dense(46, activation='softmax')\n",
        "])\n",
        "\n",
        "dense_model.compile(optimizer='adam', loss='sparse_categorical_crossentropy', metrics=['accuracy'])\n",
        "dense_model.summary()"
      ],
      "metadata": {
        "colab": {
          "base_uri": "https://localhost:8080/",
          "height": 376
        },
        "id": "v8Rfd8_Brt3h",
        "outputId": "1507343a-8f38-48fe-a7f4-d6815bcd02a4"
      },
      "execution_count": 16,
      "outputs": [
        {
          "output_type": "stream",
          "name": "stderr",
          "text": [
            "/usr/local/lib/python3.12/dist-packages/keras/src/layers/reshaping/flatten.py:37: UserWarning: Do not pass an `input_shape`/`input_dim` argument to a layer. When using Sequential models, prefer using an `Input(shape)` object as the first layer in the model instead.\n",
            "  super().__init__(**kwargs)\n"
          ]
        },
        {
          "output_type": "display_data",
          "data": {
            "text/plain": [
              "\u001b[1mModel: \"sequential\"\u001b[0m\n"
            ],
            "text/html": [
              "<pre style=\"white-space:pre;overflow-x:auto;line-height:normal;font-family:Menlo,'DejaVu Sans Mono',consolas,'Courier New',monospace\"><span style=\"font-weight: bold\">Model: \"sequential\"</span>\n",
              "</pre>\n"
            ]
          },
          "metadata": {}
        },
        {
          "output_type": "display_data",
          "data": {
            "text/plain": [
              "┏━━━━━━━━━━━━━━━━━━━━━━━━━━━━━━━━━┳━━━━━━━━━━━━━━━━━━━━━━━━┳━━━━━━━━━━━━━━━┓\n",
              "┃\u001b[1m \u001b[0m\u001b[1mLayer (type)                   \u001b[0m\u001b[1m \u001b[0m┃\u001b[1m \u001b[0m\u001b[1mOutput Shape          \u001b[0m\u001b[1m \u001b[0m┃\u001b[1m \u001b[0m\u001b[1m      Param #\u001b[0m\u001b[1m \u001b[0m┃\n",
              "┡━━━━━━━━━━━━━━━━━━━━━━━━━━━━━━━━━╇━━━━━━━━━━━━━━━━━━━━━━━━╇━━━━━━━━━━━━━━━┩\n",
              "│ flatten (\u001b[38;5;33mFlatten\u001b[0m)               │ (\u001b[38;5;45mNone\u001b[0m, \u001b[38;5;34m25600\u001b[0m)          │             \u001b[38;5;34m0\u001b[0m │\n",
              "├─────────────────────────────────┼────────────────────────┼───────────────┤\n",
              "│ dense (\u001b[38;5;33mDense\u001b[0m)                   │ (\u001b[38;5;45mNone\u001b[0m, \u001b[38;5;34m512\u001b[0m)            │    \u001b[38;5;34m13,107,712\u001b[0m │\n",
              "├─────────────────────────────────┼────────────────────────┼───────────────┤\n",
              "│ dropout (\u001b[38;5;33mDropout\u001b[0m)               │ (\u001b[38;5;45mNone\u001b[0m, \u001b[38;5;34m512\u001b[0m)            │             \u001b[38;5;34m0\u001b[0m │\n",
              "├─────────────────────────────────┼────────────────────────┼───────────────┤\n",
              "│ dense_1 (\u001b[38;5;33mDense\u001b[0m)                 │ (\u001b[38;5;45mNone\u001b[0m, \u001b[38;5;34m128\u001b[0m)            │        \u001b[38;5;34m65,664\u001b[0m │\n",
              "├─────────────────────────────────┼────────────────────────┼───────────────┤\n",
              "│ dropout_1 (\u001b[38;5;33mDropout\u001b[0m)             │ (\u001b[38;5;45mNone\u001b[0m, \u001b[38;5;34m128\u001b[0m)            │             \u001b[38;5;34m0\u001b[0m │\n",
              "├─────────────────────────────────┼────────────────────────┼───────────────┤\n",
              "│ dense_2 (\u001b[38;5;33mDense\u001b[0m)                 │ (\u001b[38;5;45mNone\u001b[0m, \u001b[38;5;34m46\u001b[0m)             │         \u001b[38;5;34m5,934\u001b[0m │\n",
              "└─────────────────────────────────┴────────────────────────┴───────────────┘\n"
            ],
            "text/html": [
              "<pre style=\"white-space:pre;overflow-x:auto;line-height:normal;font-family:Menlo,'DejaVu Sans Mono',consolas,'Courier New',monospace\">┏━━━━━━━━━━━━━━━━━━━━━━━━━━━━━━━━━┳━━━━━━━━━━━━━━━━━━━━━━━━┳━━━━━━━━━━━━━━━┓\n",
              "┃<span style=\"font-weight: bold\"> Layer (type)                    </span>┃<span style=\"font-weight: bold\"> Output Shape           </span>┃<span style=\"font-weight: bold\">       Param # </span>┃\n",
              "┡━━━━━━━━━━━━━━━━━━━━━━━━━━━━━━━━━╇━━━━━━━━━━━━━━━━━━━━━━━━╇━━━━━━━━━━━━━━━┩\n",
              "│ flatten (<span style=\"color: #0087ff; text-decoration-color: #0087ff\">Flatten</span>)               │ (<span style=\"color: #00d7ff; text-decoration-color: #00d7ff\">None</span>, <span style=\"color: #00af00; text-decoration-color: #00af00\">25600</span>)          │             <span style=\"color: #00af00; text-decoration-color: #00af00\">0</span> │\n",
              "├─────────────────────────────────┼────────────────────────┼───────────────┤\n",
              "│ dense (<span style=\"color: #0087ff; text-decoration-color: #0087ff\">Dense</span>)                   │ (<span style=\"color: #00d7ff; text-decoration-color: #00d7ff\">None</span>, <span style=\"color: #00af00; text-decoration-color: #00af00\">512</span>)            │    <span style=\"color: #00af00; text-decoration-color: #00af00\">13,107,712</span> │\n",
              "├─────────────────────────────────┼────────────────────────┼───────────────┤\n",
              "│ dropout (<span style=\"color: #0087ff; text-decoration-color: #0087ff\">Dropout</span>)               │ (<span style=\"color: #00d7ff; text-decoration-color: #00d7ff\">None</span>, <span style=\"color: #00af00; text-decoration-color: #00af00\">512</span>)            │             <span style=\"color: #00af00; text-decoration-color: #00af00\">0</span> │\n",
              "├─────────────────────────────────┼────────────────────────┼───────────────┤\n",
              "│ dense_1 (<span style=\"color: #0087ff; text-decoration-color: #0087ff\">Dense</span>)                 │ (<span style=\"color: #00d7ff; text-decoration-color: #00d7ff\">None</span>, <span style=\"color: #00af00; text-decoration-color: #00af00\">128</span>)            │        <span style=\"color: #00af00; text-decoration-color: #00af00\">65,664</span> │\n",
              "├─────────────────────────────────┼────────────────────────┼───────────────┤\n",
              "│ dropout_1 (<span style=\"color: #0087ff; text-decoration-color: #0087ff\">Dropout</span>)             │ (<span style=\"color: #00d7ff; text-decoration-color: #00d7ff\">None</span>, <span style=\"color: #00af00; text-decoration-color: #00af00\">128</span>)            │             <span style=\"color: #00af00; text-decoration-color: #00af00\">0</span> │\n",
              "├─────────────────────────────────┼────────────────────────┼───────────────┤\n",
              "│ dense_2 (<span style=\"color: #0087ff; text-decoration-color: #0087ff\">Dense</span>)                 │ (<span style=\"color: #00d7ff; text-decoration-color: #00d7ff\">None</span>, <span style=\"color: #00af00; text-decoration-color: #00af00\">46</span>)             │         <span style=\"color: #00af00; text-decoration-color: #00af00\">5,934</span> │\n",
              "└─────────────────────────────────┴────────────────────────┴───────────────┘\n",
              "</pre>\n"
            ]
          },
          "metadata": {}
        },
        {
          "output_type": "display_data",
          "data": {
            "text/plain": [
              "\u001b[1m Total params: \u001b[0m\u001b[38;5;34m13,179,310\u001b[0m (50.28 MB)\n"
            ],
            "text/html": [
              "<pre style=\"white-space:pre;overflow-x:auto;line-height:normal;font-family:Menlo,'DejaVu Sans Mono',consolas,'Courier New',monospace\"><span style=\"font-weight: bold\"> Total params: </span><span style=\"color: #00af00; text-decoration-color: #00af00\">13,179,310</span> (50.28 MB)\n",
              "</pre>\n"
            ]
          },
          "metadata": {}
        },
        {
          "output_type": "display_data",
          "data": {
            "text/plain": [
              "\u001b[1m Trainable params: \u001b[0m\u001b[38;5;34m13,179,310\u001b[0m (50.28 MB)\n"
            ],
            "text/html": [
              "<pre style=\"white-space:pre;overflow-x:auto;line-height:normal;font-family:Menlo,'DejaVu Sans Mono',consolas,'Courier New',monospace\"><span style=\"font-weight: bold\"> Trainable params: </span><span style=\"color: #00af00; text-decoration-color: #00af00\">13,179,310</span> (50.28 MB)\n",
              "</pre>\n"
            ]
          },
          "metadata": {}
        },
        {
          "output_type": "display_data",
          "data": {
            "text/plain": [
              "\u001b[1m Non-trainable params: \u001b[0m\u001b[38;5;34m0\u001b[0m (0.00 B)\n"
            ],
            "text/html": [
              "<pre style=\"white-space:pre;overflow-x:auto;line-height:normal;font-family:Menlo,'DejaVu Sans Mono',consolas,'Courier New',monospace\"><span style=\"font-weight: bold\"> Non-trainable params: </span><span style=\"color: #00af00; text-decoration-color: #00af00\">0</span> (0.00 B)\n",
              "</pre>\n"
            ]
          },
          "metadata": {}
        }
      ]
    },
    {
      "cell_type": "code",
      "source": [
        "# 모델 학습\n",
        "dense_model.fit(X_train_w2v, y_train, epochs=10, batch_size=32, validation_split=0.2)"
      ],
      "metadata": {
        "colab": {
          "base_uri": "https://localhost:8080/"
        },
        "id": "1MKF20F1sHkB",
        "outputId": "03e1f82a-cb3a-45db-af20-d9ef73803ebb"
      },
      "execution_count": 17,
      "outputs": [
        {
          "output_type": "stream",
          "name": "stdout",
          "text": [
            "Epoch 1/10\n",
            "\u001b[1m225/225\u001b[0m \u001b[32m━━━━━━━━━━━━━━━━━━━━\u001b[0m\u001b[37m\u001b[0m \u001b[1m57s\u001b[0m 244ms/step - accuracy: 0.5177 - loss: 2.2593 - val_accuracy: 0.6717 - val_loss: 1.4914\n",
            "Epoch 2/10\n",
            "\u001b[1m225/225\u001b[0m \u001b[32m━━━━━━━━━━━━━━━━━━━━\u001b[0m\u001b[37m\u001b[0m \u001b[1m55s\u001b[0m 243ms/step - accuracy: 0.6721 - loss: 1.3680 - val_accuracy: 0.6817 - val_loss: 1.3569\n",
            "Epoch 3/10\n",
            "\u001b[1m225/225\u001b[0m \u001b[32m━━━━━━━━━━━━━━━━━━━━\u001b[0m\u001b[37m\u001b[0m \u001b[1m54s\u001b[0m 239ms/step - accuracy: 0.7418 - loss: 1.0495 - val_accuracy: 0.6889 - val_loss: 1.3810\n",
            "Epoch 4/10\n",
            "\u001b[1m225/225\u001b[0m \u001b[32m━━━━━━━━━━━━━━━━━━━━\u001b[0m\u001b[37m\u001b[0m \u001b[1m55s\u001b[0m 244ms/step - accuracy: 0.7926 - loss: 0.8408 - val_accuracy: 0.6917 - val_loss: 1.4300\n",
            "Epoch 5/10\n",
            "\u001b[1m225/225\u001b[0m \u001b[32m━━━━━━━━━━━━━━━━━━━━\u001b[0m\u001b[37m\u001b[0m \u001b[1m54s\u001b[0m 239ms/step - accuracy: 0.8185 - loss: 0.7545 - val_accuracy: 0.6873 - val_loss: 1.4995\n",
            "Epoch 6/10\n",
            "\u001b[1m225/225\u001b[0m \u001b[32m━━━━━━━━━━━━━━━━━━━━\u001b[0m\u001b[37m\u001b[0m \u001b[1m83s\u001b[0m 242ms/step - accuracy: 0.8487 - loss: 0.6056 - val_accuracy: 0.6917 - val_loss: 1.5140\n",
            "Epoch 7/10\n",
            "\u001b[1m225/225\u001b[0m \u001b[32m━━━━━━━━━━━━━━━━━━━━\u001b[0m\u001b[37m\u001b[0m \u001b[1m53s\u001b[0m 238ms/step - accuracy: 0.8593 - loss: 0.5447 - val_accuracy: 0.7017 - val_loss: 1.6056\n",
            "Epoch 8/10\n",
            "\u001b[1m225/225\u001b[0m \u001b[32m━━━━━━━━━━━━━━━━━━━━\u001b[0m\u001b[37m\u001b[0m \u001b[1m63s\u001b[0m 281ms/step - accuracy: 0.8759 - loss: 0.5069 - val_accuracy: 0.6884 - val_loss: 1.6314\n",
            "Epoch 9/10\n",
            "\u001b[1m225/225\u001b[0m \u001b[32m━━━━━━━━━━━━━━━━━━━━\u001b[0m\u001b[37m\u001b[0m \u001b[1m56s\u001b[0m 251ms/step - accuracy: 0.8848 - loss: 0.4532 - val_accuracy: 0.6912 - val_loss: 1.7214\n",
            "Epoch 10/10\n",
            "\u001b[1m225/225\u001b[0m \u001b[32m━━━━━━━━━━━━━━━━━━━━\u001b[0m\u001b[37m\u001b[0m \u001b[1m82s\u001b[0m 249ms/step - accuracy: 0.8915 - loss: 0.4270 - val_accuracy: 0.6878 - val_loss: 1.6563\n"
          ]
        },
        {
          "output_type": "execute_result",
          "data": {
            "text/plain": [
              "<keras.src.callbacks.history.History at 0x7f60ee05d730>"
            ]
          },
          "metadata": {},
          "execution_count": 17
        }
      ]
    },
    {
      "cell_type": "code",
      "source": [
        "# 46개의 클래스 중 가장 확률이 높은 클래스 선택\n",
        "y_pred_proba = dense_model.predict(X_test_w2v)\n",
        "y_pred = np.argmax(y_pred_proba, axis=1)\n",
        "\n",
        "print(f'정확도: {accuracy_score(y_test, y_pred):.4f}')\n",
        "print(f'f1-score: {f1_score(y_test, y_pred, average='weighted'):.4f}')"
      ],
      "metadata": {
        "colab": {
          "base_uri": "https://localhost:8080/"
        },
        "id": "YXg5j5NisWnO",
        "outputId": "b9f8c830-65b6-4a13-ba5a-4aff4c6ef53c"
      },
      "execution_count": 18,
      "outputs": [
        {
          "output_type": "stream",
          "name": "stdout",
          "text": [
            "\u001b[1m71/71\u001b[0m \u001b[32m━━━━━━━━━━━━━━━━━━━━\u001b[0m\u001b[37m\u001b[0m \u001b[1m3s\u001b[0m 39ms/step\n",
            "정확도: 0.6768\n",
            "f1-score: 0.6659\n"
          ]
        }
      ]
    },
    {
      "cell_type": "code",
      "source": [
        "rnn_model = Sequential([\n",
        "    LSTM(128, input_shape=(100, 256)),\n",
        "    Dropout(0.3),\n",
        "    Dense(64, activation='relu'),\n",
        "    Dropout(0.3),\n",
        "    Dense(46, activation='softmax')\n",
        "])\n",
        "\n",
        "rnn_model.compile(optimizer='adam', loss='sparse_categorical_crossentropy', metrics=['accuracy'])\n",
        "rnn_model.summary()"
      ],
      "metadata": {
        "colab": {
          "base_uri": "https://localhost:8080/",
          "height": 344
        },
        "id": "mkZdX2lXut2w",
        "outputId": "6cf61791-b2e9-4822-ab05-f33e6b21881a"
      },
      "execution_count": 19,
      "outputs": [
        {
          "output_type": "stream",
          "name": "stderr",
          "text": [
            "/usr/local/lib/python3.12/dist-packages/keras/src/layers/rnn/rnn.py:199: UserWarning: Do not pass an `input_shape`/`input_dim` argument to a layer. When using Sequential models, prefer using an `Input(shape)` object as the first layer in the model instead.\n",
            "  super().__init__(**kwargs)\n"
          ]
        },
        {
          "output_type": "display_data",
          "data": {
            "text/plain": [
              "\u001b[1mModel: \"sequential_1\"\u001b[0m\n"
            ],
            "text/html": [
              "<pre style=\"white-space:pre;overflow-x:auto;line-height:normal;font-family:Menlo,'DejaVu Sans Mono',consolas,'Courier New',monospace\"><span style=\"font-weight: bold\">Model: \"sequential_1\"</span>\n",
              "</pre>\n"
            ]
          },
          "metadata": {}
        },
        {
          "output_type": "display_data",
          "data": {
            "text/plain": [
              "┏━━━━━━━━━━━━━━━━━━━━━━━━━━━━━━━━━┳━━━━━━━━━━━━━━━━━━━━━━━━┳━━━━━━━━━━━━━━━┓\n",
              "┃\u001b[1m \u001b[0m\u001b[1mLayer (type)                   \u001b[0m\u001b[1m \u001b[0m┃\u001b[1m \u001b[0m\u001b[1mOutput Shape          \u001b[0m\u001b[1m \u001b[0m┃\u001b[1m \u001b[0m\u001b[1m      Param #\u001b[0m\u001b[1m \u001b[0m┃\n",
              "┡━━━━━━━━━━━━━━━━━━━━━━━━━━━━━━━━━╇━━━━━━━━━━━━━━━━━━━━━━━━╇━━━━━━━━━━━━━━━┩\n",
              "│ lstm (\u001b[38;5;33mLSTM\u001b[0m)                     │ (\u001b[38;5;45mNone\u001b[0m, \u001b[38;5;34m128\u001b[0m)            │       \u001b[38;5;34m197,120\u001b[0m │\n",
              "├─────────────────────────────────┼────────────────────────┼───────────────┤\n",
              "│ dropout_2 (\u001b[38;5;33mDropout\u001b[0m)             │ (\u001b[38;5;45mNone\u001b[0m, \u001b[38;5;34m128\u001b[0m)            │             \u001b[38;5;34m0\u001b[0m │\n",
              "├─────────────────────────────────┼────────────────────────┼───────────────┤\n",
              "│ dense_3 (\u001b[38;5;33mDense\u001b[0m)                 │ (\u001b[38;5;45mNone\u001b[0m, \u001b[38;5;34m64\u001b[0m)             │         \u001b[38;5;34m8,256\u001b[0m │\n",
              "├─────────────────────────────────┼────────────────────────┼───────────────┤\n",
              "│ dropout_3 (\u001b[38;5;33mDropout\u001b[0m)             │ (\u001b[38;5;45mNone\u001b[0m, \u001b[38;5;34m64\u001b[0m)             │             \u001b[38;5;34m0\u001b[0m │\n",
              "├─────────────────────────────────┼────────────────────────┼───────────────┤\n",
              "│ dense_4 (\u001b[38;5;33mDense\u001b[0m)                 │ (\u001b[38;5;45mNone\u001b[0m, \u001b[38;5;34m46\u001b[0m)             │         \u001b[38;5;34m2,990\u001b[0m │\n",
              "└─────────────────────────────────┴────────────────────────┴───────────────┘\n"
            ],
            "text/html": [
              "<pre style=\"white-space:pre;overflow-x:auto;line-height:normal;font-family:Menlo,'DejaVu Sans Mono',consolas,'Courier New',monospace\">┏━━━━━━━━━━━━━━━━━━━━━━━━━━━━━━━━━┳━━━━━━━━━━━━━━━━━━━━━━━━┳━━━━━━━━━━━━━━━┓\n",
              "┃<span style=\"font-weight: bold\"> Layer (type)                    </span>┃<span style=\"font-weight: bold\"> Output Shape           </span>┃<span style=\"font-weight: bold\">       Param # </span>┃\n",
              "┡━━━━━━━━━━━━━━━━━━━━━━━━━━━━━━━━━╇━━━━━━━━━━━━━━━━━━━━━━━━╇━━━━━━━━━━━━━━━┩\n",
              "│ lstm (<span style=\"color: #0087ff; text-decoration-color: #0087ff\">LSTM</span>)                     │ (<span style=\"color: #00d7ff; text-decoration-color: #00d7ff\">None</span>, <span style=\"color: #00af00; text-decoration-color: #00af00\">128</span>)            │       <span style=\"color: #00af00; text-decoration-color: #00af00\">197,120</span> │\n",
              "├─────────────────────────────────┼────────────────────────┼───────────────┤\n",
              "│ dropout_2 (<span style=\"color: #0087ff; text-decoration-color: #0087ff\">Dropout</span>)             │ (<span style=\"color: #00d7ff; text-decoration-color: #00d7ff\">None</span>, <span style=\"color: #00af00; text-decoration-color: #00af00\">128</span>)            │             <span style=\"color: #00af00; text-decoration-color: #00af00\">0</span> │\n",
              "├─────────────────────────────────┼────────────────────────┼───────────────┤\n",
              "│ dense_3 (<span style=\"color: #0087ff; text-decoration-color: #0087ff\">Dense</span>)                 │ (<span style=\"color: #00d7ff; text-decoration-color: #00d7ff\">None</span>, <span style=\"color: #00af00; text-decoration-color: #00af00\">64</span>)             │         <span style=\"color: #00af00; text-decoration-color: #00af00\">8,256</span> │\n",
              "├─────────────────────────────────┼────────────────────────┼───────────────┤\n",
              "│ dropout_3 (<span style=\"color: #0087ff; text-decoration-color: #0087ff\">Dropout</span>)             │ (<span style=\"color: #00d7ff; text-decoration-color: #00d7ff\">None</span>, <span style=\"color: #00af00; text-decoration-color: #00af00\">64</span>)             │             <span style=\"color: #00af00; text-decoration-color: #00af00\">0</span> │\n",
              "├─────────────────────────────────┼────────────────────────┼───────────────┤\n",
              "│ dense_4 (<span style=\"color: #0087ff; text-decoration-color: #0087ff\">Dense</span>)                 │ (<span style=\"color: #00d7ff; text-decoration-color: #00d7ff\">None</span>, <span style=\"color: #00af00; text-decoration-color: #00af00\">46</span>)             │         <span style=\"color: #00af00; text-decoration-color: #00af00\">2,990</span> │\n",
              "└─────────────────────────────────┴────────────────────────┴───────────────┘\n",
              "</pre>\n"
            ]
          },
          "metadata": {}
        },
        {
          "output_type": "display_data",
          "data": {
            "text/plain": [
              "\u001b[1m Total params: \u001b[0m\u001b[38;5;34m208,366\u001b[0m (813.93 KB)\n"
            ],
            "text/html": [
              "<pre style=\"white-space:pre;overflow-x:auto;line-height:normal;font-family:Menlo,'DejaVu Sans Mono',consolas,'Courier New',monospace\"><span style=\"font-weight: bold\"> Total params: </span><span style=\"color: #00af00; text-decoration-color: #00af00\">208,366</span> (813.93 KB)\n",
              "</pre>\n"
            ]
          },
          "metadata": {}
        },
        {
          "output_type": "display_data",
          "data": {
            "text/plain": [
              "\u001b[1m Trainable params: \u001b[0m\u001b[38;5;34m208,366\u001b[0m (813.93 KB)\n"
            ],
            "text/html": [
              "<pre style=\"white-space:pre;overflow-x:auto;line-height:normal;font-family:Menlo,'DejaVu Sans Mono',consolas,'Courier New',monospace\"><span style=\"font-weight: bold\"> Trainable params: </span><span style=\"color: #00af00; text-decoration-color: #00af00\">208,366</span> (813.93 KB)\n",
              "</pre>\n"
            ]
          },
          "metadata": {}
        },
        {
          "output_type": "display_data",
          "data": {
            "text/plain": [
              "\u001b[1m Non-trainable params: \u001b[0m\u001b[38;5;34m0\u001b[0m (0.00 B)\n"
            ],
            "text/html": [
              "<pre style=\"white-space:pre;overflow-x:auto;line-height:normal;font-family:Menlo,'DejaVu Sans Mono',consolas,'Courier New',monospace\"><span style=\"font-weight: bold\"> Non-trainable params: </span><span style=\"color: #00af00; text-decoration-color: #00af00\">0</span> (0.00 B)\n",
              "</pre>\n"
            ]
          },
          "metadata": {}
        }
      ]
    },
    {
      "cell_type": "code",
      "source": [
        "rnn_model.fit(X_train_w2v, y_train, epochs=50, batch_size=100, validation_split=0.2)"
      ],
      "metadata": {
        "colab": {
          "base_uri": "https://localhost:8080/"
        },
        "id": "NOLj4yAJvEZ9",
        "outputId": "e5311baa-5447-49de-c8d8-444cda6cb89f"
      },
      "execution_count": 20,
      "outputs": [
        {
          "output_type": "stream",
          "name": "stdout",
          "text": [
            "Epoch 1/50\n",
            "\u001b[1m72/72\u001b[0m \u001b[32m━━━━━━━━━━━━━━━━━━━━\u001b[0m\u001b[37m\u001b[0m \u001b[1m26s\u001b[0m 325ms/step - accuracy: 0.3575 - loss: 2.9858 - val_accuracy: 0.5426 - val_loss: 1.8305\n",
            "Epoch 2/50\n",
            "\u001b[1m72/72\u001b[0m \u001b[32m━━━━━━━━━━━━━━━━━━━━\u001b[0m\u001b[37m\u001b[0m \u001b[1m23s\u001b[0m 316ms/step - accuracy: 0.5186 - loss: 1.9229 - val_accuracy: 0.5882 - val_loss: 1.6737\n",
            "Epoch 3/50\n",
            "\u001b[1m72/72\u001b[0m \u001b[32m━━━━━━━━━━━━━━━━━━━━\u001b[0m\u001b[37m\u001b[0m \u001b[1m41s\u001b[0m 317ms/step - accuracy: 0.5888 - loss: 1.6689 - val_accuracy: 0.6283 - val_loss: 1.5422\n",
            "Epoch 4/50\n",
            "\u001b[1m72/72\u001b[0m \u001b[32m━━━━━━━━━━━━━━━━━━━━\u001b[0m\u001b[37m\u001b[0m \u001b[1m40s\u001b[0m 308ms/step - accuracy: 0.6284 - loss: 1.5901 - val_accuracy: 0.6555 - val_loss: 1.4801\n",
            "Epoch 5/50\n",
            "\u001b[1m72/72\u001b[0m \u001b[32m━━━━━━━━━━━━━━━━━━━━\u001b[0m\u001b[37m\u001b[0m \u001b[1m42s\u001b[0m 318ms/step - accuracy: 0.6418 - loss: 1.4800 - val_accuracy: 0.6622 - val_loss: 1.3929\n",
            "Epoch 6/50\n",
            "\u001b[1m72/72\u001b[0m \u001b[32m━━━━━━━━━━━━━━━━━━━━\u001b[0m\u001b[37m\u001b[0m \u001b[1m41s\u001b[0m 320ms/step - accuracy: 0.6467 - loss: 1.4387 - val_accuracy: 0.6761 - val_loss: 1.3213\n",
            "Epoch 7/50\n",
            "\u001b[1m72/72\u001b[0m \u001b[32m━━━━━━━━━━━━━━━━━━━━\u001b[0m\u001b[37m\u001b[0m \u001b[1m40s\u001b[0m 314ms/step - accuracy: 0.6613 - loss: 1.3450 - val_accuracy: 0.7001 - val_loss: 1.2940\n",
            "Epoch 8/50\n",
            "\u001b[1m72/72\u001b[0m \u001b[32m━━━━━━━━━━━━━━━━━━━━\u001b[0m\u001b[37m\u001b[0m \u001b[1m22s\u001b[0m 307ms/step - accuracy: 0.6785 - loss: 1.2902 - val_accuracy: 0.7095 - val_loss: 1.2506\n",
            "Epoch 9/50\n",
            "\u001b[1m72/72\u001b[0m \u001b[32m━━━━━━━━━━━━━━━━━━━━\u001b[0m\u001b[37m\u001b[0m \u001b[1m23s\u001b[0m 325ms/step - accuracy: 0.6861 - loss: 1.2440 - val_accuracy: 0.7023 - val_loss: 1.2386\n",
            "Epoch 10/50\n",
            "\u001b[1m72/72\u001b[0m \u001b[32m━━━━━━━━━━━━━━━━━━━━\u001b[0m\u001b[37m\u001b[0m \u001b[1m23s\u001b[0m 316ms/step - accuracy: 0.6937 - loss: 1.2215 - val_accuracy: 0.7173 - val_loss: 1.1887\n",
            "Epoch 11/50\n",
            "\u001b[1m72/72\u001b[0m \u001b[32m━━━━━━━━━━━━━━━━━━━━\u001b[0m\u001b[37m\u001b[0m \u001b[1m40s\u001b[0m 297ms/step - accuracy: 0.7141 - loss: 1.1758 - val_accuracy: 0.7251 - val_loss: 1.1488\n",
            "Epoch 12/50\n",
            "\u001b[1m72/72\u001b[0m \u001b[32m━━━━━━━━━━━━━━━━━━━━\u001b[0m\u001b[37m\u001b[0m \u001b[1m43s\u001b[0m 323ms/step - accuracy: 0.7285 - loss: 1.0925 - val_accuracy: 0.7195 - val_loss: 1.1848\n",
            "Epoch 13/50\n",
            "\u001b[1m72/72\u001b[0m \u001b[32m━━━━━━━━━━━━━━━━━━━━\u001b[0m\u001b[37m\u001b[0m \u001b[1m25s\u001b[0m 354ms/step - accuracy: 0.7250 - loss: 1.1030 - val_accuracy: 0.7318 - val_loss: 1.1233\n",
            "Epoch 14/50\n",
            "\u001b[1m72/72\u001b[0m \u001b[32m━━━━━━━━━━━━━━━━━━━━\u001b[0m\u001b[37m\u001b[0m \u001b[1m22s\u001b[0m 309ms/step - accuracy: 0.7286 - loss: 1.0878 - val_accuracy: 0.7468 - val_loss: 1.0842\n",
            "Epoch 15/50\n",
            "\u001b[1m72/72\u001b[0m \u001b[32m━━━━━━━━━━━━━━━━━━━━\u001b[0m\u001b[37m\u001b[0m \u001b[1m22s\u001b[0m 306ms/step - accuracy: 0.7450 - loss: 1.0017 - val_accuracy: 0.7429 - val_loss: 1.0956\n",
            "Epoch 16/50\n",
            "\u001b[1m72/72\u001b[0m \u001b[32m━━━━━━━━━━━━━━━━━━━━\u001b[0m\u001b[37m\u001b[0m \u001b[1m42s\u001b[0m 318ms/step - accuracy: 0.7455 - loss: 0.9995 - val_accuracy: 0.7513 - val_loss: 1.0570\n",
            "Epoch 17/50\n",
            "\u001b[1m72/72\u001b[0m \u001b[32m━━━━━━━━━━━━━━━━━━━━\u001b[0m\u001b[37m\u001b[0m \u001b[1m22s\u001b[0m 300ms/step - accuracy: 0.7593 - loss: 0.9606 - val_accuracy: 0.7524 - val_loss: 1.0552\n",
            "Epoch 18/50\n",
            "\u001b[1m72/72\u001b[0m \u001b[32m━━━━━━━━━━━━━━━━━━━━\u001b[0m\u001b[37m\u001b[0m \u001b[1m23s\u001b[0m 315ms/step - accuracy: 0.7625 - loss: 0.9405 - val_accuracy: 0.7407 - val_loss: 1.0964\n",
            "Epoch 19/50\n",
            "\u001b[1m72/72\u001b[0m \u001b[32m━━━━━━━━━━━━━━━━━━━━\u001b[0m\u001b[37m\u001b[0m \u001b[1m23s\u001b[0m 324ms/step - accuracy: 0.7609 - loss: 0.9609 - val_accuracy: 0.7563 - val_loss: 1.0520\n",
            "Epoch 20/50\n",
            "\u001b[1m72/72\u001b[0m \u001b[32m━━━━━━━━━━━━━━━━━━━━\u001b[0m\u001b[37m\u001b[0m \u001b[1m23s\u001b[0m 314ms/step - accuracy: 0.7794 - loss: 0.9059 - val_accuracy: 0.7585 - val_loss: 1.0779\n",
            "Epoch 21/50\n",
            "\u001b[1m72/72\u001b[0m \u001b[32m━━━━━━━━━━━━━━━━━━━━\u001b[0m\u001b[37m\u001b[0m \u001b[1m22s\u001b[0m 305ms/step - accuracy: 0.7833 - loss: 0.8787 - val_accuracy: 0.7641 - val_loss: 1.0377\n",
            "Epoch 22/50\n",
            "\u001b[1m72/72\u001b[0m \u001b[32m━━━━━━━━━━━━━━━━━━━━\u001b[0m\u001b[37m\u001b[0m \u001b[1m22s\u001b[0m 305ms/step - accuracy: 0.7941 - loss: 0.8500 - val_accuracy: 0.7741 - val_loss: 1.0177\n",
            "Epoch 23/50\n",
            "\u001b[1m72/72\u001b[0m \u001b[32m━━━━━━━━━━━━━━━━━━━━\u001b[0m\u001b[37m\u001b[0m \u001b[1m23s\u001b[0m 321ms/step - accuracy: 0.7951 - loss: 0.8131 - val_accuracy: 0.7663 - val_loss: 1.0463\n",
            "Epoch 24/50\n",
            "\u001b[1m72/72\u001b[0m \u001b[32m━━━━━━━━━━━━━━━━━━━━\u001b[0m\u001b[37m\u001b[0m \u001b[1m40s\u001b[0m 307ms/step - accuracy: 0.7979 - loss: 0.8254 - val_accuracy: 0.7752 - val_loss: 1.0124\n",
            "Epoch 25/50\n",
            "\u001b[1m72/72\u001b[0m \u001b[32m━━━━━━━━━━━━━━━━━━━━\u001b[0m\u001b[37m\u001b[0m \u001b[1m23s\u001b[0m 315ms/step - accuracy: 0.8097 - loss: 0.7951 - val_accuracy: 0.7596 - val_loss: 1.0493\n",
            "Epoch 26/50\n",
            "\u001b[1m72/72\u001b[0m \u001b[32m━━━━━━━━━━━━━━━━━━━━\u001b[0m\u001b[37m\u001b[0m \u001b[1m23s\u001b[0m 317ms/step - accuracy: 0.8010 - loss: 0.7815 - val_accuracy: 0.7791 - val_loss: 1.0067\n",
            "Epoch 27/50\n",
            "\u001b[1m72/72\u001b[0m \u001b[32m━━━━━━━━━━━━━━━━━━━━\u001b[0m\u001b[37m\u001b[0m \u001b[1m23s\u001b[0m 316ms/step - accuracy: 0.8068 - loss: 0.7726 - val_accuracy: 0.7752 - val_loss: 1.0171\n",
            "Epoch 28/50\n",
            "\u001b[1m72/72\u001b[0m \u001b[32m━━━━━━━━━━━━━━━━━━━━\u001b[0m\u001b[37m\u001b[0m \u001b[1m22s\u001b[0m 306ms/step - accuracy: 0.8190 - loss: 0.7294 - val_accuracy: 0.7702 - val_loss: 0.9909\n",
            "Epoch 29/50\n",
            "\u001b[1m72/72\u001b[0m \u001b[32m━━━━━━━━━━━━━━━━━━━━\u001b[0m\u001b[37m\u001b[0m \u001b[1m22s\u001b[0m 303ms/step - accuracy: 0.8208 - loss: 0.7248 - val_accuracy: 0.7652 - val_loss: 1.0261\n",
            "Epoch 30/50\n",
            "\u001b[1m72/72\u001b[0m \u001b[32m━━━━━━━━━━━━━━━━━━━━\u001b[0m\u001b[37m\u001b[0m \u001b[1m23s\u001b[0m 314ms/step - accuracy: 0.8152 - loss: 0.7320 - val_accuracy: 0.7752 - val_loss: 1.0000\n",
            "Epoch 31/50\n",
            "\u001b[1m72/72\u001b[0m \u001b[32m━━━━━━━━━━━━━━━━━━━━\u001b[0m\u001b[37m\u001b[0m \u001b[1m23s\u001b[0m 316ms/step - accuracy: 0.8397 - loss: 0.6856 - val_accuracy: 0.7813 - val_loss: 0.9959\n",
            "Epoch 32/50\n",
            "\u001b[1m72/72\u001b[0m \u001b[32m━━━━━━━━━━━━━━━━━━━━\u001b[0m\u001b[37m\u001b[0m \u001b[1m41s\u001b[0m 316ms/step - accuracy: 0.8279 - loss: 0.6755 - val_accuracy: 0.7724 - val_loss: 0.9946\n",
            "Epoch 33/50\n",
            "\u001b[1m72/72\u001b[0m \u001b[32m━━━━━━━━━━━━━━━━━━━━\u001b[0m\u001b[37m\u001b[0m \u001b[1m23s\u001b[0m 315ms/step - accuracy: 0.8389 - loss: 0.6424 - val_accuracy: 0.7774 - val_loss: 1.0182\n",
            "Epoch 34/50\n",
            "\u001b[1m72/72\u001b[0m \u001b[32m━━━━━━━━━━━━━━━━━━━━\u001b[0m\u001b[37m\u001b[0m \u001b[1m23s\u001b[0m 314ms/step - accuracy: 0.8397 - loss: 0.6267 - val_accuracy: 0.7802 - val_loss: 1.0054\n",
            "Epoch 35/50\n",
            "\u001b[1m72/72\u001b[0m \u001b[32m━━━━━━━━━━━━━━━━━━━━\u001b[0m\u001b[37m\u001b[0m \u001b[1m21s\u001b[0m 298ms/step - accuracy: 0.8421 - loss: 0.6033 - val_accuracy: 0.7746 - val_loss: 1.0391\n",
            "Epoch 36/50\n",
            "\u001b[1m72/72\u001b[0m \u001b[32m━━━━━━━━━━━━━━━━━━━━\u001b[0m\u001b[37m\u001b[0m \u001b[1m42s\u001b[0m 316ms/step - accuracy: 0.8550 - loss: 0.5812 - val_accuracy: 0.7807 - val_loss: 1.0204\n",
            "Epoch 37/50\n",
            "\u001b[1m72/72\u001b[0m \u001b[32m━━━━━━━━━━━━━━━━━━━━\u001b[0m\u001b[37m\u001b[0m \u001b[1m23s\u001b[0m 315ms/step - accuracy: 0.8584 - loss: 0.5668 - val_accuracy: 0.7858 - val_loss: 1.0459\n",
            "Epoch 38/50\n",
            "\u001b[1m72/72\u001b[0m \u001b[32m━━━━━━━━━━━━━━━━━━━━\u001b[0m\u001b[37m\u001b[0m \u001b[1m21s\u001b[0m 298ms/step - accuracy: 0.8528 - loss: 0.5897 - val_accuracy: 0.7763 - val_loss: 1.0371\n",
            "Epoch 39/50\n",
            "\u001b[1m72/72\u001b[0m \u001b[32m━━━━━━━━━━━━━━━━━━━━\u001b[0m\u001b[37m\u001b[0m \u001b[1m23s\u001b[0m 317ms/step - accuracy: 0.8692 - loss: 0.5193 - val_accuracy: 0.7835 - val_loss: 1.0552\n",
            "Epoch 40/50\n",
            "\u001b[1m72/72\u001b[0m \u001b[32m━━━━━━━━━━━━━━━━━━━━\u001b[0m\u001b[37m\u001b[0m \u001b[1m40s\u001b[0m 309ms/step - accuracy: 0.8569 - loss: 0.5341 - val_accuracy: 0.7691 - val_loss: 1.1216\n",
            "Epoch 41/50\n",
            "\u001b[1m72/72\u001b[0m \u001b[32m━━━━━━━━━━━━━━━━━━━━\u001b[0m\u001b[37m\u001b[0m \u001b[1m23s\u001b[0m 317ms/step - accuracy: 0.8592 - loss: 0.5557 - val_accuracy: 0.7846 - val_loss: 1.0661\n",
            "Epoch 42/50\n",
            "\u001b[1m72/72\u001b[0m \u001b[32m━━━━━━━━━━━━━━━━━━━━\u001b[0m\u001b[37m\u001b[0m \u001b[1m23s\u001b[0m 326ms/step - accuracy: 0.8633 - loss: 0.5377 - val_accuracy: 0.7869 - val_loss: 1.0986\n",
            "Epoch 43/50\n",
            "\u001b[1m72/72\u001b[0m \u001b[32m━━━━━━━━━━━━━━━━━━━━\u001b[0m\u001b[37m\u001b[0m \u001b[1m23s\u001b[0m 316ms/step - accuracy: 0.8688 - loss: 0.5264 - val_accuracy: 0.7813 - val_loss: 1.0854\n",
            "Epoch 44/50\n",
            "\u001b[1m72/72\u001b[0m \u001b[32m━━━━━━━━━━━━━━━━━━━━\u001b[0m\u001b[37m\u001b[0m \u001b[1m23s\u001b[0m 315ms/step - accuracy: 0.8724 - loss: 0.4954 - val_accuracy: 0.7702 - val_loss: 1.0922\n",
            "Epoch 45/50\n",
            "\u001b[1m72/72\u001b[0m \u001b[32m━━━━━━━━━━━━━━━━━━━━\u001b[0m\u001b[37m\u001b[0m \u001b[1m22s\u001b[0m 304ms/step - accuracy: 0.8616 - loss: 0.5179 - val_accuracy: 0.7807 - val_loss: 1.1253\n",
            "Epoch 46/50\n",
            "\u001b[1m72/72\u001b[0m \u001b[32m━━━━━━━━━━━━━━━━━━━━\u001b[0m\u001b[37m\u001b[0m \u001b[1m42s\u001b[0m 324ms/step - accuracy: 0.8619 - loss: 0.5424 - val_accuracy: 0.7724 - val_loss: 1.1181\n",
            "Epoch 47/50\n",
            "\u001b[1m72/72\u001b[0m \u001b[32m━━━━━━━━━━━━━━━━━━━━\u001b[0m\u001b[37m\u001b[0m \u001b[1m41s\u001b[0m 317ms/step - accuracy: 0.8637 - loss: 0.5325 - val_accuracy: 0.7796 - val_loss: 1.1223\n",
            "Epoch 48/50\n",
            "\u001b[1m72/72\u001b[0m \u001b[32m━━━━━━━━━━━━━━━━━━━━\u001b[0m\u001b[37m\u001b[0m \u001b[1m23s\u001b[0m 316ms/step - accuracy: 0.8754 - loss: 0.4834 - val_accuracy: 0.7830 - val_loss: 1.1153\n",
            "Epoch 49/50\n",
            "\u001b[1m72/72\u001b[0m \u001b[32m━━━━━━━━━━━━━━━━━━━━\u001b[0m\u001b[37m\u001b[0m \u001b[1m40s\u001b[0m 308ms/step - accuracy: 0.8861 - loss: 0.4476 - val_accuracy: 0.7813 - val_loss: 1.1097\n",
            "Epoch 50/50\n",
            "\u001b[1m72/72\u001b[0m \u001b[32m━━━━━━━━━━━━━━━━━━━━\u001b[0m\u001b[37m\u001b[0m \u001b[1m42s\u001b[0m 319ms/step - accuracy: 0.8883 - loss: 0.4291 - val_accuracy: 0.7841 - val_loss: 1.1386\n"
          ]
        },
        {
          "output_type": "execute_result",
          "data": {
            "text/plain": [
              "<keras.src.callbacks.history.History at 0x7f60e822cf20>"
            ]
          },
          "metadata": {},
          "execution_count": 20
        }
      ]
    },
    {
      "cell_type": "code",
      "source": [
        "# 46개의 클래스 중 가장 확률이 높은 클래스 선택\n",
        "y_pred_proba = rnn_model.predict(X_test_w2v)\n",
        "y_pred = np.argmax(y_pred_proba, axis=1)\n",
        "\n",
        "print(f'정확도: {accuracy_score(y_test, y_pred):.4f}')\n",
        "print(f'f1-score: {f1_score(y_test, y_pred, average='weighted'):.4f}')"
      ],
      "metadata": {
        "colab": {
          "base_uri": "https://localhost:8080/"
        },
        "id": "3zpIAr3DvKz_",
        "outputId": "361d560c-826a-4309-ad5f-4882bc611f29"
      },
      "execution_count": 21,
      "outputs": [
        {
          "output_type": "stream",
          "name": "stdout",
          "text": [
            "\u001b[1m71/71\u001b[0m \u001b[32m━━━━━━━━━━━━━━━━━━━━\u001b[0m\u001b[37m\u001b[0m \u001b[1m4s\u001b[0m 56ms/step\n",
            "정확도: 0.7756\n",
            "f1-score: 0.7612\n"
          ]
        }
      ]
    },
    {
      "cell_type": "markdown",
      "source": [
        "- 머신러닝 성능이 가장 잘 나왔던 10000개의 단어로 딥러닝 진행\n",
        "- RNN 모델이 Dense Model보다 좋은 성능을 보였는데, 이는 dense model과 rnn모델의 차이인 순서 정보 처리가 모델 성능에 영향을 미친 것으로 생각해볼 수 있음.\n",
        "- Dense Model는 약 0.69의 정확도, RNN은 약 0.77의 정확도를 보였으며, RNN의 epoch를 늘려보았으나 일정 구간 이후부터는 과적합이 발생하고 validation 성능이 정체된 모습을 보임. 두 모델 모두 LinearSVC보다 정확한 예측을 하지 못함.\n",
        "- 데이터 부족으로 인한 딥러닝 모델의 과적합으로 높은 성능이 나오지 못한 것으로 보이며, 이로 인해 딥러닝의 장점을 극대화할 수 없는 상황인 것으로 보임. LinearSVC가 현재 상황까지는 데이터의 특성에 잘 맞고 가장 효율적인 선형 분리 능력을 갖고 있다고 볼 수 있음."
      ],
      "metadata": {
        "id": "7U7gYWaB0c-A"
      }
    },
    {
      "cell_type": "code",
      "source": [],
      "metadata": {
        "id": "jXySOEynr7ro"
      },
      "execution_count": null,
      "outputs": []
    }
  ]
}