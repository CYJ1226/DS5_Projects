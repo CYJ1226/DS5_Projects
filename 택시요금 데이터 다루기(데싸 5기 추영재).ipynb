{
 "cells": [
  {
   "cell_type": "markdown",
   "id": "7734e450",
   "metadata": {},
   "source": [
    "# 데이터 불러오기, 데이터 확인"
   ]
  },
  {
   "cell_type": "code",
   "execution_count": 284,
   "id": "767f6e6e",
   "metadata": {},
   "outputs": [],
   "source": [
    "import numpy as np\n",
    "import pandas as pd\n",
    "import matplotlib.pyplot as plt\n",
    "import seaborn as sns"
   ]
  },
  {
   "cell_type": "code",
   "execution_count": 285,
   "id": "df77459c",
   "metadata": {},
   "outputs": [],
   "source": [
    "data = pd.read_csv('../data/trip.csv')"
   ]
  },
  {
   "cell_type": "code",
   "execution_count": 286,
   "id": "732d02f5",
   "metadata": {},
   "outputs": [
    {
     "data": {
      "text/html": [
       "<div>\n",
       "<style scoped>\n",
       "    .dataframe tbody tr th:only-of-type {\n",
       "        vertical-align: middle;\n",
       "    }\n",
       "\n",
       "    .dataframe tbody tr th {\n",
       "        vertical-align: top;\n",
       "    }\n",
       "\n",
       "    .dataframe thead th {\n",
       "        text-align: right;\n",
       "    }\n",
       "</style>\n",
       "<table border=\"1\" class=\"dataframe\">\n",
       "  <thead>\n",
       "    <tr style=\"text-align: right;\">\n",
       "      <th></th>\n",
       "      <th>passenger_name</th>\n",
       "      <th>tpep_pickup_datetime</th>\n",
       "      <th>tpep_dropoff_datetime</th>\n",
       "      <th>payment_method</th>\n",
       "      <th>passenger_count</th>\n",
       "      <th>trip_distance</th>\n",
       "      <th>fare_amount</th>\n",
       "      <th>tip_amount</th>\n",
       "      <th>tolls_amount</th>\n",
       "    </tr>\n",
       "  </thead>\n",
       "  <tbody>\n",
       "    <tr>\n",
       "      <th>0</th>\n",
       "      <td>Pamela Duffy</td>\n",
       "      <td>03/25/2017 8:55:43 AM</td>\n",
       "      <td>03/25/2017 9:09:47 AM</td>\n",
       "      <td>Debit Card</td>\n",
       "      <td>6</td>\n",
       "      <td>3.34</td>\n",
       "      <td>13.0</td>\n",
       "      <td>2.76</td>\n",
       "      <td>0.0</td>\n",
       "    </tr>\n",
       "    <tr>\n",
       "      <th>1</th>\n",
       "      <td>Michelle Foster</td>\n",
       "      <td>04/11/2017 2:53:28 PM</td>\n",
       "      <td>04/11/2017 3:19:58 PM</td>\n",
       "      <td>Debit Card</td>\n",
       "      <td>1</td>\n",
       "      <td>1.80</td>\n",
       "      <td>16.0</td>\n",
       "      <td>4.00</td>\n",
       "      <td>0.0</td>\n",
       "    </tr>\n",
       "    <tr>\n",
       "      <th>2</th>\n",
       "      <td>Tina Combs</td>\n",
       "      <td>12/15/2017 7:26:56 AM</td>\n",
       "      <td>12/15/2017 7:34:08 AM</td>\n",
       "      <td>Debit Card</td>\n",
       "      <td>1</td>\n",
       "      <td>1.00</td>\n",
       "      <td>6.5</td>\n",
       "      <td>1.45</td>\n",
       "      <td>0.0</td>\n",
       "    </tr>\n",
       "    <tr>\n",
       "      <th>3</th>\n",
       "      <td>Anthony Ray</td>\n",
       "      <td>05/07/2017 1:17:59 PM</td>\n",
       "      <td>05/07/2017 1:48:14 PM</td>\n",
       "      <td>Cash</td>\n",
       "      <td>1</td>\n",
       "      <td>3.70</td>\n",
       "      <td>20.5</td>\n",
       "      <td>6.39</td>\n",
       "      <td>0.0</td>\n",
       "    </tr>\n",
       "    <tr>\n",
       "      <th>4</th>\n",
       "      <td>Brianna Johnson</td>\n",
       "      <td>04/15/2017 11:32:20 PM</td>\n",
       "      <td>04/15/2017 11:49:03 PM</td>\n",
       "      <td>Debit Card</td>\n",
       "      <td>1</td>\n",
       "      <td>4.37</td>\n",
       "      <td>16.5</td>\n",
       "      <td>0.00</td>\n",
       "      <td>0.0</td>\n",
       "    </tr>\n",
       "  </tbody>\n",
       "</table>\n",
       "</div>"
      ],
      "text/plain": [
       "    passenger_name    tpep_pickup_datetime   tpep_dropoff_datetime  \\\n",
       "0     Pamela Duffy   03/25/2017 8:55:43 AM   03/25/2017 9:09:47 AM   \n",
       "1  Michelle Foster   04/11/2017 2:53:28 PM   04/11/2017 3:19:58 PM   \n",
       "2       Tina Combs   12/15/2017 7:26:56 AM   12/15/2017 7:34:08 AM   \n",
       "3      Anthony Ray   05/07/2017 1:17:59 PM   05/07/2017 1:48:14 PM   \n",
       "4  Brianna Johnson  04/15/2017 11:32:20 PM  04/15/2017 11:49:03 PM   \n",
       "\n",
       "  payment_method  passenger_count  trip_distance  fare_amount  tip_amount  \\\n",
       "0     Debit Card                6           3.34         13.0        2.76   \n",
       "1     Debit Card                1           1.80         16.0        4.00   \n",
       "2     Debit Card                1           1.00          6.5        1.45   \n",
       "3           Cash                1           3.70         20.5        6.39   \n",
       "4     Debit Card                1           4.37         16.5        0.00   \n",
       "\n",
       "   tolls_amount  \n",
       "0           0.0  \n",
       "1           0.0  \n",
       "2           0.0  \n",
       "3           0.0  \n",
       "4           0.0  "
      ]
     },
     "execution_count": 286,
     "metadata": {},
     "output_type": "execute_result"
    }
   ],
   "source": [
    "data.head()"
   ]
  },
  {
   "cell_type": "code",
   "execution_count": 287,
   "id": "47ec3d8b",
   "metadata": {},
   "outputs": [
    {
     "name": "stdout",
     "output_type": "stream",
     "text": [
      "<class 'pandas.core.frame.DataFrame'>\n",
      "RangeIndex: 22701 entries, 0 to 22700\n",
      "Data columns (total 9 columns):\n",
      " #   Column                 Non-Null Count  Dtype  \n",
      "---  ------                 --------------  -----  \n",
      " 0   passenger_name         22701 non-null  object \n",
      " 1   tpep_pickup_datetime   22701 non-null  object \n",
      " 2   tpep_dropoff_datetime  22701 non-null  object \n",
      " 3   payment_method         22701 non-null  object \n",
      " 4   passenger_count        22701 non-null  int64  \n",
      " 5   trip_distance          22701 non-null  float64\n",
      " 6   fare_amount            22698 non-null  float64\n",
      " 7   tip_amount             22701 non-null  float64\n",
      " 8   tolls_amount           22701 non-null  float64\n",
      "dtypes: float64(4), int64(1), object(4)\n",
      "memory usage: 1.6+ MB\n"
     ]
    }
   ],
   "source": [
    "data.info()"
   ]
  },
  {
   "cell_type": "code",
   "execution_count": 288,
   "id": "a55b38ea",
   "metadata": {},
   "outputs": [
    {
     "data": {
      "text/html": [
       "<div>\n",
       "<style scoped>\n",
       "    .dataframe tbody tr th:only-of-type {\n",
       "        vertical-align: middle;\n",
       "    }\n",
       "\n",
       "    .dataframe tbody tr th {\n",
       "        vertical-align: top;\n",
       "    }\n",
       "\n",
       "    .dataframe thead th {\n",
       "        text-align: right;\n",
       "    }\n",
       "</style>\n",
       "<table border=\"1\" class=\"dataframe\">\n",
       "  <thead>\n",
       "    <tr style=\"text-align: right;\">\n",
       "      <th></th>\n",
       "      <th>passenger_count</th>\n",
       "      <th>trip_distance</th>\n",
       "      <th>fare_amount</th>\n",
       "      <th>tip_amount</th>\n",
       "      <th>tolls_amount</th>\n",
       "    </tr>\n",
       "  </thead>\n",
       "  <tbody>\n",
       "    <tr>\n",
       "      <th>count</th>\n",
       "      <td>22701.000000</td>\n",
       "      <td>22701.000000</td>\n",
       "      <td>22698.000000</td>\n",
       "      <td>22701.000000</td>\n",
       "      <td>22701.000000</td>\n",
       "    </tr>\n",
       "    <tr>\n",
       "      <th>mean</th>\n",
       "      <td>1.643584</td>\n",
       "      <td>2.913400</td>\n",
       "      <td>13.024009</td>\n",
       "      <td>1.835745</td>\n",
       "      <td>0.312514</td>\n",
       "    </tr>\n",
       "    <tr>\n",
       "      <th>std</th>\n",
       "      <td>1.304942</td>\n",
       "      <td>3.653023</td>\n",
       "      <td>13.240074</td>\n",
       "      <td>2.800537</td>\n",
       "      <td>1.399153</td>\n",
       "    </tr>\n",
       "    <tr>\n",
       "      <th>min</th>\n",
       "      <td>0.000000</td>\n",
       "      <td>0.000000</td>\n",
       "      <td>-120.000000</td>\n",
       "      <td>0.000000</td>\n",
       "      <td>0.000000</td>\n",
       "    </tr>\n",
       "    <tr>\n",
       "      <th>25%</th>\n",
       "      <td>1.000000</td>\n",
       "      <td>0.990000</td>\n",
       "      <td>6.500000</td>\n",
       "      <td>0.000000</td>\n",
       "      <td>0.000000</td>\n",
       "    </tr>\n",
       "    <tr>\n",
       "      <th>50%</th>\n",
       "      <td>1.000000</td>\n",
       "      <td>1.610000</td>\n",
       "      <td>9.500000</td>\n",
       "      <td>1.350000</td>\n",
       "      <td>0.000000</td>\n",
       "    </tr>\n",
       "    <tr>\n",
       "      <th>75%</th>\n",
       "      <td>2.000000</td>\n",
       "      <td>3.060000</td>\n",
       "      <td>14.500000</td>\n",
       "      <td>2.450000</td>\n",
       "      <td>0.000000</td>\n",
       "    </tr>\n",
       "    <tr>\n",
       "      <th>max</th>\n",
       "      <td>36.000000</td>\n",
       "      <td>33.960000</td>\n",
       "      <td>999.990000</td>\n",
       "      <td>200.000000</td>\n",
       "      <td>19.100000</td>\n",
       "    </tr>\n",
       "  </tbody>\n",
       "</table>\n",
       "</div>"
      ],
      "text/plain": [
       "       passenger_count  trip_distance   fare_amount    tip_amount  \\\n",
       "count     22701.000000   22701.000000  22698.000000  22701.000000   \n",
       "mean          1.643584       2.913400     13.024009      1.835745   \n",
       "std           1.304942       3.653023     13.240074      2.800537   \n",
       "min           0.000000       0.000000   -120.000000      0.000000   \n",
       "25%           1.000000       0.990000      6.500000      0.000000   \n",
       "50%           1.000000       1.610000      9.500000      1.350000   \n",
       "75%           2.000000       3.060000     14.500000      2.450000   \n",
       "max          36.000000      33.960000    999.990000    200.000000   \n",
       "\n",
       "       tolls_amount  \n",
       "count  22701.000000  \n",
       "mean       0.312514  \n",
       "std        1.399153  \n",
       "min        0.000000  \n",
       "25%        0.000000  \n",
       "50%        0.000000  \n",
       "75%        0.000000  \n",
       "max       19.100000  "
      ]
     },
     "execution_count": 288,
     "metadata": {},
     "output_type": "execute_result"
    }
   ],
   "source": [
    "data.describe()"
   ]
  },
  {
   "cell_type": "markdown",
   "id": "5dee2374",
   "metadata": {},
   "source": [
    "# 중복 데이터 확인"
   ]
  },
  {
   "cell_type": "code",
   "execution_count": 289,
   "id": "87a28c3c",
   "metadata": {},
   "outputs": [
    {
     "data": {
      "text/html": [
       "<div>\n",
       "<style scoped>\n",
       "    .dataframe tbody tr th:only-of-type {\n",
       "        vertical-align: middle;\n",
       "    }\n",
       "\n",
       "    .dataframe tbody tr th {\n",
       "        vertical-align: top;\n",
       "    }\n",
       "\n",
       "    .dataframe thead th {\n",
       "        text-align: right;\n",
       "    }\n",
       "</style>\n",
       "<table border=\"1\" class=\"dataframe\">\n",
       "  <thead>\n",
       "    <tr style=\"text-align: right;\">\n",
       "      <th></th>\n",
       "      <th>passenger_name</th>\n",
       "      <th>tpep_pickup_datetime</th>\n",
       "      <th>tpep_dropoff_datetime</th>\n",
       "      <th>payment_method</th>\n",
       "      <th>passenger_count</th>\n",
       "      <th>trip_distance</th>\n",
       "      <th>fare_amount</th>\n",
       "      <th>tip_amount</th>\n",
       "      <th>tolls_amount</th>\n",
       "    </tr>\n",
       "  </thead>\n",
       "  <tbody>\n",
       "    <tr>\n",
       "      <th>17</th>\n",
       "      <td>Sarah Gross</td>\n",
       "      <td>08/15/2017 7:48:08 PM</td>\n",
       "      <td>08/15/2017 8:00:37 PM</td>\n",
       "      <td>Cash</td>\n",
       "      <td>1</td>\n",
       "      <td>3.6</td>\n",
       "      <td>12.5</td>\n",
       "      <td>2.85</td>\n",
       "      <td>0.0</td>\n",
       "    </tr>\n",
       "    <tr>\n",
       "      <th>204</th>\n",
       "      <td>Lisa Bullock</td>\n",
       "      <td>02/13/2017 4:25:41 PM</td>\n",
       "      <td>02/13/2017 4:55:35 PM</td>\n",
       "      <td>Cash</td>\n",
       "      <td>1</td>\n",
       "      <td>4.2</td>\n",
       "      <td>21.0</td>\n",
       "      <td>0.00</td>\n",
       "      <td>0.0</td>\n",
       "    </tr>\n",
       "  </tbody>\n",
       "</table>\n",
       "</div>"
      ],
      "text/plain": [
       "    passenger_name   tpep_pickup_datetime  tpep_dropoff_datetime  \\\n",
       "17     Sarah Gross  08/15/2017 7:48:08 PM  08/15/2017 8:00:37 PM   \n",
       "204   Lisa Bullock  02/13/2017 4:25:41 PM  02/13/2017 4:55:35 PM   \n",
       "\n",
       "    payment_method  passenger_count  trip_distance  fare_amount  tip_amount  \\\n",
       "17            Cash                1            3.6         12.5        2.85   \n",
       "204           Cash                1            4.2         21.0        0.00   \n",
       "\n",
       "     tolls_amount  \n",
       "17            0.0  \n",
       "204           0.0  "
      ]
     },
     "execution_count": 289,
     "metadata": {},
     "output_type": "execute_result"
    }
   ],
   "source": [
    "data[data.duplicated()]"
   ]
  },
  {
   "cell_type": "code",
   "execution_count": 290,
   "id": "92d1abd4",
   "metadata": {},
   "outputs": [
    {
     "data": {
      "text/html": [
       "<div>\n",
       "<style scoped>\n",
       "    .dataframe tbody tr th:only-of-type {\n",
       "        vertical-align: middle;\n",
       "    }\n",
       "\n",
       "    .dataframe tbody tr th {\n",
       "        vertical-align: top;\n",
       "    }\n",
       "\n",
       "    .dataframe thead th {\n",
       "        text-align: right;\n",
       "    }\n",
       "</style>\n",
       "<table border=\"1\" class=\"dataframe\">\n",
       "  <thead>\n",
       "    <tr style=\"text-align: right;\">\n",
       "      <th></th>\n",
       "      <th>passenger_name</th>\n",
       "      <th>tpep_pickup_datetime</th>\n",
       "      <th>tpep_dropoff_datetime</th>\n",
       "      <th>payment_method</th>\n",
       "      <th>passenger_count</th>\n",
       "      <th>trip_distance</th>\n",
       "      <th>fare_amount</th>\n",
       "      <th>tip_amount</th>\n",
       "      <th>tolls_amount</th>\n",
       "    </tr>\n",
       "  </thead>\n",
       "  <tbody>\n",
       "    <tr>\n",
       "      <th>203</th>\n",
       "      <td>Lisa Bullock</td>\n",
       "      <td>02/13/2017 4:25:41 PM</td>\n",
       "      <td>02/13/2017 4:55:35 PM</td>\n",
       "      <td>Cash</td>\n",
       "      <td>1</td>\n",
       "      <td>4.2</td>\n",
       "      <td>21.0</td>\n",
       "      <td>0.0</td>\n",
       "      <td>0.0</td>\n",
       "    </tr>\n",
       "    <tr>\n",
       "      <th>204</th>\n",
       "      <td>Lisa Bullock</td>\n",
       "      <td>02/13/2017 4:25:41 PM</td>\n",
       "      <td>02/13/2017 4:55:35 PM</td>\n",
       "      <td>Cash</td>\n",
       "      <td>1</td>\n",
       "      <td>4.2</td>\n",
       "      <td>21.0</td>\n",
       "      <td>0.0</td>\n",
       "      <td>0.0</td>\n",
       "    </tr>\n",
       "  </tbody>\n",
       "</table>\n",
       "</div>"
      ],
      "text/plain": [
       "    passenger_name   tpep_pickup_datetime  tpep_dropoff_datetime  \\\n",
       "203   Lisa Bullock  02/13/2017 4:25:41 PM  02/13/2017 4:55:35 PM   \n",
       "204   Lisa Bullock  02/13/2017 4:25:41 PM  02/13/2017 4:55:35 PM   \n",
       "\n",
       "    payment_method  passenger_count  trip_distance  fare_amount  tip_amount  \\\n",
       "203           Cash                1            4.2         21.0         0.0   \n",
       "204           Cash                1            4.2         21.0         0.0   \n",
       "\n",
       "     tolls_amount  \n",
       "203           0.0  \n",
       "204           0.0  "
      ]
     },
     "execution_count": 290,
     "metadata": {},
     "output_type": "execute_result"
    }
   ],
   "source": [
    "data[data['passenger_name'] == 'Sarah Gross']\n",
    "data[data['passenger_name'] == 'Lisa Bullock']"
   ]
  },
  {
   "cell_type": "code",
   "execution_count": 291,
   "id": "8a976065",
   "metadata": {},
   "outputs": [],
   "source": [
    "data = data.drop_duplicates()"
   ]
  },
  {
   "cell_type": "code",
   "execution_count": 292,
   "id": "c77b0999",
   "metadata": {},
   "outputs": [
    {
     "data": {
      "text/plain": [
       "0"
      ]
     },
     "execution_count": 292,
     "metadata": {},
     "output_type": "execute_result"
    }
   ],
   "source": [
    "data.duplicated().sum()"
   ]
  },
  {
   "cell_type": "markdown",
   "id": "817d49b7",
   "metadata": {},
   "source": [
    "# 결측치 확인"
   ]
  },
  {
   "cell_type": "code",
   "execution_count": 293,
   "id": "e4c81e92",
   "metadata": {},
   "outputs": [
    {
     "data": {
      "text/plain": [
       "3"
      ]
     },
     "execution_count": 293,
     "metadata": {},
     "output_type": "execute_result"
    }
   ],
   "source": [
    "data['fare_amount'].isna().sum()"
   ]
  },
  {
   "cell_type": "code",
   "execution_count": 294,
   "id": "e45cf744",
   "metadata": {},
   "outputs": [
    {
     "data": {
      "text/plain": [
       "0.0001321644125291863"
      ]
     },
     "execution_count": 294,
     "metadata": {},
     "output_type": "execute_result"
    }
   ],
   "source": [
    "data['fare_amount'].isna().mean()"
   ]
  },
  {
   "cell_type": "markdown",
   "id": "654eea46",
   "metadata": {},
   "source": [
    "### 총 데이터 수가 20000개가 넘고, null값이 3개뿐이므로 행 제거"
   ]
  },
  {
   "cell_type": "code",
   "execution_count": 295,
   "id": "7d6b8744",
   "metadata": {},
   "outputs": [],
   "source": [
    "data = data.dropna()"
   ]
  },
  {
   "cell_type": "code",
   "execution_count": 296,
   "id": "ade16b2c",
   "metadata": {},
   "outputs": [
    {
     "data": {
      "text/plain": [
       "passenger_name           0.0\n",
       "tpep_pickup_datetime     0.0\n",
       "tpep_dropoff_datetime    0.0\n",
       "payment_method           0.0\n",
       "passenger_count          0.0\n",
       "trip_distance            0.0\n",
       "fare_amount              0.0\n",
       "tip_amount               0.0\n",
       "tolls_amount             0.0\n",
       "dtype: float64"
      ]
     },
     "execution_count": 296,
     "metadata": {},
     "output_type": "execute_result"
    }
   ],
   "source": [
    "data.isna().mean()"
   ]
  },
  {
   "cell_type": "markdown",
   "id": "00ca70ea",
   "metadata": {},
   "source": [
    "# passenger_count 컬럼의 이상치 제거"
   ]
  },
  {
   "cell_type": "code",
   "execution_count": 297,
   "id": "50e14f3d",
   "metadata": {},
   "outputs": [
    {
     "data": {
      "text/plain": [
       "64       36\n",
       "0         6\n",
       "7189      6\n",
       "21865     6\n",
       "7375      6\n",
       "         ..\n",
       "21640     0\n",
       "21754     0\n",
       "14521     0\n",
       "12804     0\n",
       "12205     0\n",
       "Name: passenger_count, Length: 22696, dtype: int64"
      ]
     },
     "execution_count": 297,
     "metadata": {},
     "output_type": "execute_result"
    }
   ],
   "source": [
    "data['passenger_count'].sort_values(ascending=False)"
   ]
  },
  {
   "cell_type": "code",
   "execution_count": 298,
   "id": "892e7e45",
   "metadata": {},
   "outputs": [
    {
     "data": {
      "text/plain": [
       "<AxesSubplot:ylabel='passenger_count'>"
      ]
     },
     "execution_count": 298,
     "metadata": {},
     "output_type": "execute_result"
    },
    {
     "data": {
      "image/png": "[encoded data removed]",
      "text/plain": [
       "<Figure size 432x288 with 1 Axes>"
      ]
     },
     "metadata": {
      "needs_background": "light"
     },
     "output_type": "display_data"
    }
   ],
   "source": [
    "sns.scatterplot(x=data.index, y=data['passenger_count'])"
   ]
  },
  {
   "cell_type": "markdown",
   "id": "f43dc97a",
   "metadata": {},
   "source": [
    "### passenger_count 값이 6 이후로 확 뛰는 경향이 있으며, 데이터가 1개 밖에 없으므로 제거"
   ]
  },
  {
   "cell_type": "code",
   "execution_count": 299,
   "id": "21b265fd",
   "metadata": {},
   "outputs": [],
   "source": [
    "data = data.loc[data['passenger_count']<=6]"
   ]
  },
  {
   "cell_type": "code",
   "execution_count": 300,
   "id": "758af532",
   "metadata": {},
   "outputs": [
    {
     "data": {
      "text/plain": [
       "20312    0\n",
       "17916    0\n",
       "1876     0\n",
       "10201    0\n",
       "4921     0\n",
       "        ..\n",
       "14747    6\n",
       "14745    6\n",
       "10556    6\n",
       "21945    6\n",
       "0        6\n",
       "Name: passenger_count, Length: 22695, dtype: int64"
      ]
     },
     "execution_count": 300,
     "metadata": {},
     "output_type": "execute_result"
    }
   ],
   "source": [
    "data['passenger_count'].sort_values()"
   ]
  },
  {
   "cell_type": "markdown",
   "id": "079af2fc",
   "metadata": {},
   "source": [
    "### fare_amount, trip_amount, tip_amount 등이 존재하는데 passenger_count가 0일수는 없으므로 제거"
   ]
  },
  {
   "cell_type": "code",
   "execution_count": 301,
   "id": "05e1a8c4",
   "metadata": {},
   "outputs": [
    {
     "data": {
      "text/html": [
       "<div>\n",
       "<style scoped>\n",
       "    .dataframe tbody tr th:only-of-type {\n",
       "        vertical-align: middle;\n",
       "    }\n",
       "\n",
       "    .dataframe tbody tr th {\n",
       "        vertical-align: top;\n",
       "    }\n",
       "\n",
       "    .dataframe thead th {\n",
       "        text-align: right;\n",
       "    }\n",
       "</style>\n",
       "<table border=\"1\" class=\"dataframe\">\n",
       "  <thead>\n",
       "    <tr style=\"text-align: right;\">\n",
       "      <th></th>\n",
       "      <th>passenger_name</th>\n",
       "      <th>tpep_pickup_datetime</th>\n",
       "      <th>tpep_dropoff_datetime</th>\n",
       "      <th>payment_method</th>\n",
       "      <th>passenger_count</th>\n",
       "      <th>trip_distance</th>\n",
       "      <th>fare_amount</th>\n",
       "      <th>tip_amount</th>\n",
       "      <th>tolls_amount</th>\n",
       "    </tr>\n",
       "  </thead>\n",
       "  <tbody>\n",
       "    <tr>\n",
       "      <th>1518</th>\n",
       "      <td>Sophia Hernandez</td>\n",
       "      <td>11/14/2017 3:45:23 PM</td>\n",
       "      <td>11/14/2017 4:26:38 PM</td>\n",
       "      <td>Debit Card</td>\n",
       "      <td>0</td>\n",
       "      <td>8.8</td>\n",
       "      <td>33.0</td>\n",
       "      <td>5.55</td>\n",
       "      <td>5.76</td>\n",
       "    </tr>\n",
       "    <tr>\n",
       "      <th>1876</th>\n",
       "      <td>Tommy Weaver</td>\n",
       "      <td>12/03/2017 12:05:52 PM</td>\n",
       "      <td>12/03/2017 12:13:51 PM</td>\n",
       "      <td>Cash</td>\n",
       "      <td>0</td>\n",
       "      <td>1.1</td>\n",
       "      <td>7.0</td>\n",
       "      <td>0.00</td>\n",
       "      <td>0.00</td>\n",
       "    </tr>\n",
       "    <tr>\n",
       "      <th>1927</th>\n",
       "      <td>Melissa Thompson</td>\n",
       "      <td>09/09/2017 3:44:45 AM</td>\n",
       "      <td>09/09/2017 3:49:19 AM</td>\n",
       "      <td>Cash</td>\n",
       "      <td>0</td>\n",
       "      <td>0.8</td>\n",
       "      <td>5.0</td>\n",
       "      <td>0.00</td>\n",
       "      <td>0.00</td>\n",
       "    </tr>\n",
       "    <tr>\n",
       "      <th>3354</th>\n",
       "      <td>Lisa Wilson</td>\n",
       "      <td>12/18/2017 10:44:57 PM</td>\n",
       "      <td>12/18/2017 11:00:24 PM</td>\n",
       "      <td>Cash</td>\n",
       "      <td>0</td>\n",
       "      <td>2.7</td>\n",
       "      <td>12.5</td>\n",
       "      <td>2.75</td>\n",
       "      <td>0.00</td>\n",
       "    </tr>\n",
       "    <tr>\n",
       "      <th>4062</th>\n",
       "      <td>Benjamin Anderson</td>\n",
       "      <td>11/27/2017 1:08:01 PM</td>\n",
       "      <td>11/27/2017 1:17:55 PM</td>\n",
       "      <td>Debit Card</td>\n",
       "      <td>0</td>\n",
       "      <td>1.7</td>\n",
       "      <td>9.0</td>\n",
       "      <td>1.95</td>\n",
       "      <td>0.00</td>\n",
       "    </tr>\n",
       "    <tr>\n",
       "      <th>4921</th>\n",
       "      <td>Austin Gutierrez</td>\n",
       "      <td>12/16/2017 2:59:17 PM</td>\n",
       "      <td>12/16/2017 3:21:59 PM</td>\n",
       "      <td>Debit Card</td>\n",
       "      <td>0</td>\n",
       "      <td>3.1</td>\n",
       "      <td>15.5</td>\n",
       "      <td>4.05</td>\n",
       "      <td>0.00</td>\n",
       "    </tr>\n",
       "    <tr>\n",
       "      <th>5565</th>\n",
       "      <td>Charles Stewart</td>\n",
       "      <td>09/04/2017 5:40:00 PM</td>\n",
       "      <td>09/04/2017 5:51:52 PM</td>\n",
       "      <td>Cash</td>\n",
       "      <td>0</td>\n",
       "      <td>1.3</td>\n",
       "      <td>9.0</td>\n",
       "      <td>1.95</td>\n",
       "      <td>0.00</td>\n",
       "    </tr>\n",
       "    <tr>\n",
       "      <th>5605</th>\n",
       "      <td>Kristina Smith</td>\n",
       "      <td>12/17/2017 12:18:49 PM</td>\n",
       "      <td>12/17/2017 12:40:45 PM</td>\n",
       "      <td>Cash</td>\n",
       "      <td>0</td>\n",
       "      <td>4.2</td>\n",
       "      <td>18.0</td>\n",
       "      <td>3.75</td>\n",
       "      <td>0.00</td>\n",
       "    </tr>\n",
       "    <tr>\n",
       "      <th>5670</th>\n",
       "      <td>Susan Cook</td>\n",
       "      <td>12/16/2017 7:50:12 PM</td>\n",
       "      <td>12/16/2017 8:00:30 PM</td>\n",
       "      <td>Cash</td>\n",
       "      <td>0</td>\n",
       "      <td>1.0</td>\n",
       "      <td>8.0</td>\n",
       "      <td>1.50</td>\n",
       "      <td>0.00</td>\n",
       "    </tr>\n",
       "    <tr>\n",
       "      <th>5769</th>\n",
       "      <td>Rebecca Curry</td>\n",
       "      <td>10/04/2017 3:17:52 PM</td>\n",
       "      <td>10/04/2017 3:56:26 PM</td>\n",
       "      <td>Cash</td>\n",
       "      <td>0</td>\n",
       "      <td>10.4</td>\n",
       "      <td>34.0</td>\n",
       "      <td>8.10</td>\n",
       "      <td>5.76</td>\n",
       "    </tr>\n",
       "    <tr>\n",
       "      <th>7104</th>\n",
       "      <td>Latasha Campbell</td>\n",
       "      <td>12/29/2017 1:41:17 PM</td>\n",
       "      <td>12/29/2017 1:55:57 PM</td>\n",
       "      <td>Cash</td>\n",
       "      <td>0</td>\n",
       "      <td>2.1</td>\n",
       "      <td>11.5</td>\n",
       "      <td>2.45</td>\n",
       "      <td>0.00</td>\n",
       "    </tr>\n",
       "    <tr>\n",
       "      <th>8597</th>\n",
       "      <td>Jennifer Park</td>\n",
       "      <td>11/14/2017 12:06:01 PM</td>\n",
       "      <td>11/14/2017 12:27:38 PM</td>\n",
       "      <td>Debit Card</td>\n",
       "      <td>0</td>\n",
       "      <td>7.0</td>\n",
       "      <td>23.5</td>\n",
       "      <td>6.05</td>\n",
       "      <td>0.00</td>\n",
       "    </tr>\n",
       "    <tr>\n",
       "      <th>9830</th>\n",
       "      <td>Donna Young</td>\n",
       "      <td>10/07/2017 10:02:35 AM</td>\n",
       "      <td>10/07/2017 10:13:34 AM</td>\n",
       "      <td>Cash</td>\n",
       "      <td>0</td>\n",
       "      <td>6.0</td>\n",
       "      <td>18.0</td>\n",
       "      <td>3.75</td>\n",
       "      <td>0.00</td>\n",
       "    </tr>\n",
       "    <tr>\n",
       "      <th>10147</th>\n",
       "      <td>Lisa Valentine</td>\n",
       "      <td>12/04/2017 10:41:30 AM</td>\n",
       "      <td>12/04/2017 10:58:23 AM</td>\n",
       "      <td>Debit Card</td>\n",
       "      <td>0</td>\n",
       "      <td>2.0</td>\n",
       "      <td>12.5</td>\n",
       "      <td>3.30</td>\n",
       "      <td>0.00</td>\n",
       "    </tr>\n",
       "    <tr>\n",
       "      <th>10201</th>\n",
       "      <td>Mary Lin</td>\n",
       "      <td>09/17/2017 5:05:16 PM</td>\n",
       "      <td>09/17/2017 5:13:51 PM</td>\n",
       "      <td>Credit Card</td>\n",
       "      <td>0</td>\n",
       "      <td>0.9</td>\n",
       "      <td>7.0</td>\n",
       "      <td>1.00</td>\n",
       "      <td>0.00</td>\n",
       "    </tr>\n",
       "    <tr>\n",
       "      <th>12205</th>\n",
       "      <td>Sierra Mcintyre</td>\n",
       "      <td>11/16/2017 9:42:47 AM</td>\n",
       "      <td>11/16/2017 9:50:04 AM</td>\n",
       "      <td>Cash</td>\n",
       "      <td>0</td>\n",
       "      <td>1.1</td>\n",
       "      <td>6.5</td>\n",
       "      <td>0.00</td>\n",
       "      <td>0.00</td>\n",
       "    </tr>\n",
       "    <tr>\n",
       "      <th>12503</th>\n",
       "      <td>Mr. Dean Mccoy</td>\n",
       "      <td>04/18/2017 5:47:58 PM</td>\n",
       "      <td>04/18/2017 5:47:58 PM</td>\n",
       "      <td>Credit Card</td>\n",
       "      <td>0</td>\n",
       "      <td>0.0</td>\n",
       "      <td>77.2</td>\n",
       "      <td>0.00</td>\n",
       "      <td>0.00</td>\n",
       "    </tr>\n",
       "    <tr>\n",
       "      <th>12804</th>\n",
       "      <td>Clayton Adams</td>\n",
       "      <td>09/22/2017 6:49:25 AM</td>\n",
       "      <td>09/22/2017 7:01:57 AM</td>\n",
       "      <td>Credit Card</td>\n",
       "      <td>0</td>\n",
       "      <td>2.9</td>\n",
       "      <td>11.5</td>\n",
       "      <td>2.45</td>\n",
       "      <td>0.00</td>\n",
       "    </tr>\n",
       "    <tr>\n",
       "      <th>13421</th>\n",
       "      <td>Jennifer Green</td>\n",
       "      <td>12/18/2017 7:32:14 PM</td>\n",
       "      <td>12/18/2017 7:39:07 PM</td>\n",
       "      <td>Credit Card</td>\n",
       "      <td>0</td>\n",
       "      <td>2.4</td>\n",
       "      <td>8.5</td>\n",
       "      <td>1.00</td>\n",
       "      <td>0.00</td>\n",
       "    </tr>\n",
       "    <tr>\n",
       "      <th>13479</th>\n",
       "      <td>Susan Rodriguez</td>\n",
       "      <td>12/12/2017 9:45:42 AM</td>\n",
       "      <td>12/12/2017 9:49:37 AM</td>\n",
       "      <td>Debit Card</td>\n",
       "      <td>0</td>\n",
       "      <td>0.6</td>\n",
       "      <td>4.5</td>\n",
       "      <td>1.05</td>\n",
       "      <td>0.00</td>\n",
       "    </tr>\n",
       "    <tr>\n",
       "      <th>13718</th>\n",
       "      <td>Alexis Martinez</td>\n",
       "      <td>10/22/2017 5:55:51 PM</td>\n",
       "      <td>10/22/2017 5:58:34 PM</td>\n",
       "      <td>Cash</td>\n",
       "      <td>0</td>\n",
       "      <td>0.6</td>\n",
       "      <td>4.0</td>\n",
       "      <td>0.72</td>\n",
       "      <td>0.00</td>\n",
       "    </tr>\n",
       "    <tr>\n",
       "      <th>13921</th>\n",
       "      <td>Ashley Peck</td>\n",
       "      <td>11/05/2017 3:10:59 AM</td>\n",
       "      <td>11/05/2017 3:26:38 AM</td>\n",
       "      <td>Debit Card</td>\n",
       "      <td>0</td>\n",
       "      <td>2.3</td>\n",
       "      <td>11.5</td>\n",
       "      <td>2.00</td>\n",
       "      <td>0.00</td>\n",
       "    </tr>\n",
       "    <tr>\n",
       "      <th>13923</th>\n",
       "      <td>Christine Evans</td>\n",
       "      <td>11/17/2017 4:39:02 PM</td>\n",
       "      <td>11/17/2017 4:52:38 PM</td>\n",
       "      <td>Cash</td>\n",
       "      <td>0</td>\n",
       "      <td>0.9</td>\n",
       "      <td>9.5</td>\n",
       "      <td>2.25</td>\n",
       "      <td>0.00</td>\n",
       "    </tr>\n",
       "    <tr>\n",
       "      <th>14521</th>\n",
       "      <td>Kellie Bonilla DVM</td>\n",
       "      <td>12/24/2017 9:02:00 AM</td>\n",
       "      <td>12/24/2017 9:07:56 AM</td>\n",
       "      <td>Credit Card</td>\n",
       "      <td>0</td>\n",
       "      <td>0.9</td>\n",
       "      <td>6.0</td>\n",
       "      <td>1.35</td>\n",
       "      <td>0.00</td>\n",
       "    </tr>\n",
       "    <tr>\n",
       "      <th>14529</th>\n",
       "      <td>Angela Hoffman</td>\n",
       "      <td>11/15/2017 10:00:37 AM</td>\n",
       "      <td>11/15/2017 10:24:43 AM</td>\n",
       "      <td>Credit Card</td>\n",
       "      <td>0</td>\n",
       "      <td>5.5</td>\n",
       "      <td>21.0</td>\n",
       "      <td>1.50</td>\n",
       "      <td>0.00</td>\n",
       "    </tr>\n",
       "    <tr>\n",
       "      <th>17916</th>\n",
       "      <td>Eric Lambert</td>\n",
       "      <td>12/20/2017 9:42:39 AM</td>\n",
       "      <td>12/20/2017 9:57:47 AM</td>\n",
       "      <td>Cash</td>\n",
       "      <td>0</td>\n",
       "      <td>0.8</td>\n",
       "      <td>10.0</td>\n",
       "      <td>2.15</td>\n",
       "      <td>0.00</td>\n",
       "    </tr>\n",
       "    <tr>\n",
       "      <th>18311</th>\n",
       "      <td>Susan Gonzales</td>\n",
       "      <td>11/29/2017 9:57:19 PM</td>\n",
       "      <td>11/29/2017 10:04:13 PM</td>\n",
       "      <td>Debit Card</td>\n",
       "      <td>0</td>\n",
       "      <td>0.7</td>\n",
       "      <td>6.5</td>\n",
       "      <td>0.00</td>\n",
       "      <td>0.00</td>\n",
       "    </tr>\n",
       "    <tr>\n",
       "      <th>19219</th>\n",
       "      <td>Ann Moore</td>\n",
       "      <td>11/02/2017 7:01:54 PM</td>\n",
       "      <td>11/02/2017 7:25:31 PM</td>\n",
       "      <td>Cash</td>\n",
       "      <td>0</td>\n",
       "      <td>2.8</td>\n",
       "      <td>16.0</td>\n",
       "      <td>0.00</td>\n",
       "      <td>0.00</td>\n",
       "    </tr>\n",
       "    <tr>\n",
       "      <th>19458</th>\n",
       "      <td>Julia Bell</td>\n",
       "      <td>10/27/2017 2:11:07 PM</td>\n",
       "      <td>10/27/2017 2:32:17 PM</td>\n",
       "      <td>Debit Card</td>\n",
       "      <td>0</td>\n",
       "      <td>2.7</td>\n",
       "      <td>14.5</td>\n",
       "      <td>2.50</td>\n",
       "      <td>0.00</td>\n",
       "    </tr>\n",
       "    <tr>\n",
       "      <th>20312</th>\n",
       "      <td>John Silva</td>\n",
       "      <td>12/21/2017 8:55:39 AM</td>\n",
       "      <td>12/21/2017 9:04:03 AM</td>\n",
       "      <td>Credit Card</td>\n",
       "      <td>0</td>\n",
       "      <td>1.1</td>\n",
       "      <td>7.0</td>\n",
       "      <td>1.55</td>\n",
       "      <td>0.00</td>\n",
       "    </tr>\n",
       "    <tr>\n",
       "      <th>21218</th>\n",
       "      <td>Linda Perez</td>\n",
       "      <td>12/27/2017 6:21:58 AM</td>\n",
       "      <td>12/27/2017 6:27:32 AM</td>\n",
       "      <td>Cash</td>\n",
       "      <td>0</td>\n",
       "      <td>1.3</td>\n",
       "      <td>6.5</td>\n",
       "      <td>0.00</td>\n",
       "      <td>0.00</td>\n",
       "    </tr>\n",
       "    <tr>\n",
       "      <th>21640</th>\n",
       "      <td>Jason Walters</td>\n",
       "      <td>11/21/2017 5:47:11 AM</td>\n",
       "      <td>11/21/2017 5:58:23 AM</td>\n",
       "      <td>Credit Card</td>\n",
       "      <td>0</td>\n",
       "      <td>2.2</td>\n",
       "      <td>10.5</td>\n",
       "      <td>2.36</td>\n",
       "      <td>0.00</td>\n",
       "    </tr>\n",
       "    <tr>\n",
       "      <th>21754</th>\n",
       "      <td>Elizabeth Barrera</td>\n",
       "      <td>10/28/2017 10:25:02 PM</td>\n",
       "      <td>10/28/2017 10:43:44 PM</td>\n",
       "      <td>Credit Card</td>\n",
       "      <td>0</td>\n",
       "      <td>1.6</td>\n",
       "      <td>12.5</td>\n",
       "      <td>3.45</td>\n",
       "      <td>0.00</td>\n",
       "    </tr>\n",
       "  </tbody>\n",
       "</table>\n",
       "</div>"
      ],
      "text/plain": [
       "           passenger_name    tpep_pickup_datetime   tpep_dropoff_datetime  \\\n",
       "1518     Sophia Hernandez   11/14/2017 3:45:23 PM   11/14/2017 4:26:38 PM   \n",
       "1876         Tommy Weaver  12/03/2017 12:05:52 PM  12/03/2017 12:13:51 PM   \n",
       "1927     Melissa Thompson   09/09/2017 3:44:45 AM   09/09/2017 3:49:19 AM   \n",
       "3354          Lisa Wilson  12/18/2017 10:44:57 PM  12/18/2017 11:00:24 PM   \n",
       "4062    Benjamin Anderson   11/27/2017 1:08:01 PM   11/27/2017 1:17:55 PM   \n",
       "4921     Austin Gutierrez   12/16/2017 2:59:17 PM   12/16/2017 3:21:59 PM   \n",
       "5565      Charles Stewart   09/04/2017 5:40:00 PM   09/04/2017 5:51:52 PM   \n",
       "5605       Kristina Smith  12/17/2017 12:18:49 PM  12/17/2017 12:40:45 PM   \n",
       "5670           Susan Cook   12/16/2017 7:50:12 PM   12/16/2017 8:00:30 PM   \n",
       "5769        Rebecca Curry   10/04/2017 3:17:52 PM   10/04/2017 3:56:26 PM   \n",
       "7104     Latasha Campbell   12/29/2017 1:41:17 PM   12/29/2017 1:55:57 PM   \n",
       "8597        Jennifer Park  11/14/2017 12:06:01 PM  11/14/2017 12:27:38 PM   \n",
       "9830          Donna Young  10/07/2017 10:02:35 AM  10/07/2017 10:13:34 AM   \n",
       "10147      Lisa Valentine  12/04/2017 10:41:30 AM  12/04/2017 10:58:23 AM   \n",
       "10201            Mary Lin   09/17/2017 5:05:16 PM   09/17/2017 5:13:51 PM   \n",
       "12205     Sierra Mcintyre   11/16/2017 9:42:47 AM   11/16/2017 9:50:04 AM   \n",
       "12503      Mr. Dean Mccoy   04/18/2017 5:47:58 PM   04/18/2017 5:47:58 PM   \n",
       "12804       Clayton Adams   09/22/2017 6:49:25 AM   09/22/2017 7:01:57 AM   \n",
       "13421      Jennifer Green   12/18/2017 7:32:14 PM   12/18/2017 7:39:07 PM   \n",
       "13479     Susan Rodriguez   12/12/2017 9:45:42 AM   12/12/2017 9:49:37 AM   \n",
       "13718     Alexis Martinez   10/22/2017 5:55:51 PM   10/22/2017 5:58:34 PM   \n",
       "13921         Ashley Peck   11/05/2017 3:10:59 AM   11/05/2017 3:26:38 AM   \n",
       "13923     Christine Evans   11/17/2017 4:39:02 PM   11/17/2017 4:52:38 PM   \n",
       "14521  Kellie Bonilla DVM   12/24/2017 9:02:00 AM   12/24/2017 9:07:56 AM   \n",
       "14529      Angela Hoffman  11/15/2017 10:00:37 AM  11/15/2017 10:24:43 AM   \n",
       "17916        Eric Lambert   12/20/2017 9:42:39 AM   12/20/2017 9:57:47 AM   \n",
       "18311      Susan Gonzales   11/29/2017 9:57:19 PM  11/29/2017 10:04:13 PM   \n",
       "19219           Ann Moore   11/02/2017 7:01:54 PM   11/02/2017 7:25:31 PM   \n",
       "19458          Julia Bell   10/27/2017 2:11:07 PM   10/27/2017 2:32:17 PM   \n",
       "20312          John Silva   12/21/2017 8:55:39 AM   12/21/2017 9:04:03 AM   \n",
       "21218         Linda Perez   12/27/2017 6:21:58 AM   12/27/2017 6:27:32 AM   \n",
       "21640       Jason Walters   11/21/2017 5:47:11 AM   11/21/2017 5:58:23 AM   \n",
       "21754   Elizabeth Barrera  10/28/2017 10:25:02 PM  10/28/2017 10:43:44 PM   \n",
       "\n",
       "      payment_method  passenger_count  trip_distance  fare_amount  tip_amount  \\\n",
       "1518      Debit Card                0            8.8         33.0        5.55   \n",
       "1876            Cash                0            1.1          7.0        0.00   \n",
       "1927            Cash                0            0.8          5.0        0.00   \n",
       "3354            Cash                0            2.7         12.5        2.75   \n",
       "4062      Debit Card                0            1.7          9.0        1.95   \n",
       "4921      Debit Card                0            3.1         15.5        4.05   \n",
       "5565            Cash                0            1.3          9.0        1.95   \n",
       "5605            Cash                0            4.2         18.0        3.75   \n",
       "5670            Cash                0            1.0          8.0        1.50   \n",
       "5769            Cash                0           10.4         34.0        8.10   \n",
       "7104            Cash                0            2.1         11.5        2.45   \n",
       "8597      Debit Card                0            7.0         23.5        6.05   \n",
       "9830            Cash                0            6.0         18.0        3.75   \n",
       "10147     Debit Card                0            2.0         12.5        3.30   \n",
       "10201    Credit Card                0            0.9          7.0        1.00   \n",
       "12205           Cash                0            1.1          6.5        0.00   \n",
       "12503    Credit Card                0            0.0         77.2        0.00   \n",
       "12804    Credit Card                0            2.9         11.5        2.45   \n",
       "13421    Credit Card                0            2.4          8.5        1.00   \n",
       "13479     Debit Card                0            0.6          4.5        1.05   \n",
       "13718           Cash                0            0.6          4.0        0.72   \n",
       "13921     Debit Card                0            2.3         11.5        2.00   \n",
       "13923           Cash                0            0.9          9.5        2.25   \n",
       "14521    Credit Card                0            0.9          6.0        1.35   \n",
       "14529    Credit Card                0            5.5         21.0        1.50   \n",
       "17916           Cash                0            0.8         10.0        2.15   \n",
       "18311     Debit Card                0            0.7          6.5        0.00   \n",
       "19219           Cash                0            2.8         16.0        0.00   \n",
       "19458     Debit Card                0            2.7         14.5        2.50   \n",
       "20312    Credit Card                0            1.1          7.0        1.55   \n",
       "21218           Cash                0            1.3          6.5        0.00   \n",
       "21640    Credit Card                0            2.2         10.5        2.36   \n",
       "21754    Credit Card                0            1.6         12.5        3.45   \n",
       "\n",
       "       tolls_amount  \n",
       "1518           5.76  \n",
       "1876           0.00  \n",
       "1927           0.00  \n",
       "3354           0.00  \n",
       "4062           0.00  \n",
       "4921           0.00  \n",
       "5565           0.00  \n",
       "5605           0.00  \n",
       "5670           0.00  \n",
       "5769           5.76  \n",
       "7104           0.00  \n",
       "8597           0.00  \n",
       "9830           0.00  \n",
       "10147          0.00  \n",
       "10201          0.00  \n",
       "12205          0.00  \n",
       "12503          0.00  \n",
       "12804          0.00  \n",
       "13421          0.00  \n",
       "13479          0.00  \n",
       "13718          0.00  \n",
       "13921          0.00  \n",
       "13923          0.00  \n",
       "14521          0.00  \n",
       "14529          0.00  \n",
       "17916          0.00  \n",
       "18311          0.00  \n",
       "19219          0.00  \n",
       "19458          0.00  \n",
       "20312          0.00  \n",
       "21218          0.00  \n",
       "21640          0.00  \n",
       "21754          0.00  "
      ]
     },
     "execution_count": 301,
     "metadata": {},
     "output_type": "execute_result"
    }
   ],
   "source": [
    "data[data['passenger_count'] == 0]"
   ]
  },
  {
   "cell_type": "code",
   "execution_count": 302,
   "id": "0877a418",
   "metadata": {},
   "outputs": [
    {
     "data": {
      "text/plain": [
       "33"
      ]
     },
     "execution_count": 302,
     "metadata": {},
     "output_type": "execute_result"
    }
   ],
   "source": [
    "data[data['passenger_count'] == 0].shape[0]"
   ]
  },
  {
   "cell_type": "code",
   "execution_count": 303,
   "id": "ee696530",
   "metadata": {},
   "outputs": [],
   "source": [
    "data = data.loc[data['passenger_count']!=0]"
   ]
  },
  {
   "cell_type": "code",
   "execution_count": 304,
   "id": "f06c4644",
   "metadata": {},
   "outputs": [
    {
     "data": {
      "text/plain": [
       "11351    1\n",
       "13892    1\n",
       "13891    1\n",
       "13889    1\n",
       "13887    1\n",
       "        ..\n",
       "3016     6\n",
       "18483    6\n",
       "18479    6\n",
       "3316     6\n",
       "0        6\n",
       "Name: passenger_count, Length: 22662, dtype: int64"
      ]
     },
     "execution_count": 304,
     "metadata": {},
     "output_type": "execute_result"
    }
   ],
   "source": [
    "data['passenger_count'].sort_values()"
   ]
  },
  {
   "cell_type": "code",
   "execution_count": 305,
   "id": "3d7acbb3",
   "metadata": {},
   "outputs": [
    {
     "data": {
      "text/plain": [
       "<AxesSubplot:ylabel='passenger_count'>"
      ]
     },
     "execution_count": 305,
     "metadata": {},
     "output_type": "execute_result"
    },
    {
     "data": {
      "image/png": "[encoded data removed]",
      "text/plain": [
       "<Figure size 432x288 with 1 Axes>"
      ]
     },
     "metadata": {
      "needs_background": "light"
     },
     "output_type": "display_data"
    }
   ],
   "source": [
    "sns.scatterplot(x=data.index, y=data['passenger_count'])"
   ]
  },
  {
   "cell_type": "markdown",
   "id": "f11c5fd5",
   "metadata": {},
   "source": [
    "# 수치형 컬럼의 이상치 제거"
   ]
  },
  {
   "cell_type": "code",
   "execution_count": 306,
   "id": "4594088d",
   "metadata": {},
   "outputs": [
    {
     "data": {
      "text/plain": [
       "3764      0.00\n",
       "13064     0.00\n",
       "5620      0.00\n",
       "1277      0.00\n",
       "5632      0.00\n",
       "         ...  \n",
       "30       30.83\n",
       "10293    31.95\n",
       "6066     32.72\n",
       "13863    33.92\n",
       "9282     33.96\n",
       "Name: trip_distance, Length: 22662, dtype: float64"
      ]
     },
     "execution_count": 306,
     "metadata": {},
     "output_type": "execute_result"
    }
   ],
   "source": [
    "data['trip_distance'].sort_values()"
   ]
  },
  {
   "cell_type": "code",
   "execution_count": 307,
   "id": "d5ee64c9",
   "metadata": {},
   "outputs": [
    {
     "data": {
      "text/plain": [
       "<AxesSubplot:ylabel='trip_distance'>"
      ]
     },
     "execution_count": 307,
     "metadata": {},
     "output_type": "execute_result"
    },
    {
     "data": {
      "image/png": "[encoded data removed]",
      "text/plain": [
       "<Figure size 432x288 with 1 Axes>"
      ]
     },
     "metadata": {
      "needs_background": "light"
     },
     "output_type": "display_data"
    }
   ],
   "source": [
    "sns.scatterplot(x=data.index, y=data['trip_distance'])"
   ]
  },
  {
   "cell_type": "markdown",
   "id": "daaabdd3",
   "metadata": {},
   "source": [
    "### 손님 수가 1 이상인데 distance가 0일수는 없으므로 제거"
   ]
  },
  {
   "cell_type": "code",
   "execution_count": 308,
   "id": "8683bc24",
   "metadata": {},
   "outputs": [
    {
     "data": {
      "text/html": [
       "<div>\n",
       "<style scoped>\n",
       "    .dataframe tbody tr th:only-of-type {\n",
       "        vertical-align: middle;\n",
       "    }\n",
       "\n",
       "    .dataframe tbody tr th {\n",
       "        vertical-align: top;\n",
       "    }\n",
       "\n",
       "    .dataframe thead th {\n",
       "        text-align: right;\n",
       "    }\n",
       "</style>\n",
       "<table border=\"1\" class=\"dataframe\">\n",
       "  <thead>\n",
       "    <tr style=\"text-align: right;\">\n",
       "      <th></th>\n",
       "      <th>passenger_name</th>\n",
       "      <th>tpep_pickup_datetime</th>\n",
       "      <th>tpep_dropoff_datetime</th>\n",
       "      <th>payment_method</th>\n",
       "      <th>passenger_count</th>\n",
       "      <th>trip_distance</th>\n",
       "      <th>fare_amount</th>\n",
       "      <th>tip_amount</th>\n",
       "      <th>tolls_amount</th>\n",
       "    </tr>\n",
       "  </thead>\n",
       "  <tbody>\n",
       "    <tr>\n",
       "      <th>129</th>\n",
       "      <td>Linda Kaufman</td>\n",
       "      <td>06/22/2017 8:05:33 AM</td>\n",
       "      <td>06/22/2017 8:05:40 AM</td>\n",
       "      <td>Debit Card</td>\n",
       "      <td>1</td>\n",
       "      <td>0.0</td>\n",
       "      <td>20.0</td>\n",
       "      <td>0.00</td>\n",
       "      <td>0.0</td>\n",
       "    </tr>\n",
       "    <tr>\n",
       "      <th>248</th>\n",
       "      <td>Erik Perez</td>\n",
       "      <td>09/18/2017 8:50:53 PM</td>\n",
       "      <td>09/18/2017 8:51:03 PM</td>\n",
       "      <td>Cash</td>\n",
       "      <td>1</td>\n",
       "      <td>0.0</td>\n",
       "      <td>2.5</td>\n",
       "      <td>0.00</td>\n",
       "      <td>0.0</td>\n",
       "    </tr>\n",
       "    <tr>\n",
       "      <th>293</th>\n",
       "      <td>Deborah Sanford</td>\n",
       "      <td>10/04/2017 7:46:24 PM</td>\n",
       "      <td>10/04/2017 7:46:50 PM</td>\n",
       "      <td>Cash</td>\n",
       "      <td>1</td>\n",
       "      <td>0.0</td>\n",
       "      <td>2.5</td>\n",
       "      <td>0.00</td>\n",
       "      <td>0.0</td>\n",
       "    </tr>\n",
       "    <tr>\n",
       "      <th>321</th>\n",
       "      <td>Ryan Hughes</td>\n",
       "      <td>02/22/2017 4:01:44 AM</td>\n",
       "      <td>02/22/2017 4:01:53 AM</td>\n",
       "      <td>Cash</td>\n",
       "      <td>1</td>\n",
       "      <td>0.0</td>\n",
       "      <td>2.5</td>\n",
       "      <td>0.00</td>\n",
       "      <td>0.0</td>\n",
       "    </tr>\n",
       "    <tr>\n",
       "      <th>426</th>\n",
       "      <td>David Parker</td>\n",
       "      <td>01/14/2017 7:00:26 AM</td>\n",
       "      <td>01/14/2017 7:00:53 AM</td>\n",
       "      <td>Cash</td>\n",
       "      <td>1</td>\n",
       "      <td>0.0</td>\n",
       "      <td>2.5</td>\n",
       "      <td>6.70</td>\n",
       "      <td>0.0</td>\n",
       "    </tr>\n",
       "    <tr>\n",
       "      <th>...</th>\n",
       "      <td>...</td>\n",
       "      <td>...</td>\n",
       "      <td>...</td>\n",
       "      <td>...</td>\n",
       "      <td>...</td>\n",
       "      <td>...</td>\n",
       "      <td>...</td>\n",
       "      <td>...</td>\n",
       "      <td>...</td>\n",
       "    </tr>\n",
       "    <tr>\n",
       "      <th>22192</th>\n",
       "      <td>Angela French</td>\n",
       "      <td>10/16/2017 8:34:07 AM</td>\n",
       "      <td>10/16/2017 8:34:10 AM</td>\n",
       "      <td>Credit Card</td>\n",
       "      <td>1</td>\n",
       "      <td>0.0</td>\n",
       "      <td>2.5</td>\n",
       "      <td>0.00</td>\n",
       "      <td>0.0</td>\n",
       "    </tr>\n",
       "    <tr>\n",
       "      <th>22327</th>\n",
       "      <td>Kelsey Rogers</td>\n",
       "      <td>07/21/2017 11:30:29 PM</td>\n",
       "      <td>07/21/2017 11:31:12 PM</td>\n",
       "      <td>Debit Card</td>\n",
       "      <td>1</td>\n",
       "      <td>0.0</td>\n",
       "      <td>16.8</td>\n",
       "      <td>3.42</td>\n",
       "      <td>0.0</td>\n",
       "    </tr>\n",
       "    <tr>\n",
       "      <th>22385</th>\n",
       "      <td>Joseph Castillo</td>\n",
       "      <td>01/07/2017 4:48:42 AM</td>\n",
       "      <td>01/07/2017 4:51:03 AM</td>\n",
       "      <td>Cash</td>\n",
       "      <td>1</td>\n",
       "      <td>0.0</td>\n",
       "      <td>10.0</td>\n",
       "      <td>0.00</td>\n",
       "      <td>0.0</td>\n",
       "    </tr>\n",
       "    <tr>\n",
       "      <th>22568</th>\n",
       "      <td>Christine Edwards</td>\n",
       "      <td>03/07/2017 2:24:47 AM</td>\n",
       "      <td>03/07/2017 2:24:50 AM</td>\n",
       "      <td>Credit Card</td>\n",
       "      <td>1</td>\n",
       "      <td>0.0</td>\n",
       "      <td>0.0</td>\n",
       "      <td>0.00</td>\n",
       "      <td>0.0</td>\n",
       "    </tr>\n",
       "    <tr>\n",
       "      <th>22672</th>\n",
       "      <td>John Erickson</td>\n",
       "      <td>03/03/2017 11:09:16 PM</td>\n",
       "      <td>03/03/2017 11:09:35 PM</td>\n",
       "      <td>Debit Card</td>\n",
       "      <td>1</td>\n",
       "      <td>0.0</td>\n",
       "      <td>2.5</td>\n",
       "      <td>0.00</td>\n",
       "      <td>0.0</td>\n",
       "    </tr>\n",
       "  </tbody>\n",
       "</table>\n",
       "<p>147 rows × 9 columns</p>\n",
       "</div>"
      ],
      "text/plain": [
       "          passenger_name    tpep_pickup_datetime   tpep_dropoff_datetime  \\\n",
       "129        Linda Kaufman   06/22/2017 8:05:33 AM   06/22/2017 8:05:40 AM   \n",
       "248           Erik Perez   09/18/2017 8:50:53 PM   09/18/2017 8:51:03 PM   \n",
       "293      Deborah Sanford   10/04/2017 7:46:24 PM   10/04/2017 7:46:50 PM   \n",
       "321          Ryan Hughes   02/22/2017 4:01:44 AM   02/22/2017 4:01:53 AM   \n",
       "426         David Parker   01/14/2017 7:00:26 AM   01/14/2017 7:00:53 AM   \n",
       "...                  ...                     ...                     ...   \n",
       "22192      Angela French   10/16/2017 8:34:07 AM   10/16/2017 8:34:10 AM   \n",
       "22327      Kelsey Rogers  07/21/2017 11:30:29 PM  07/21/2017 11:31:12 PM   \n",
       "22385    Joseph Castillo   01/07/2017 4:48:42 AM   01/07/2017 4:51:03 AM   \n",
       "22568  Christine Edwards   03/07/2017 2:24:47 AM   03/07/2017 2:24:50 AM   \n",
       "22672      John Erickson  03/03/2017 11:09:16 PM  03/03/2017 11:09:35 PM   \n",
       "\n",
       "      payment_method  passenger_count  trip_distance  fare_amount  tip_amount  \\\n",
       "129       Debit Card                1            0.0         20.0        0.00   \n",
       "248             Cash                1            0.0          2.5        0.00   \n",
       "293             Cash                1            0.0          2.5        0.00   \n",
       "321             Cash                1            0.0          2.5        0.00   \n",
       "426             Cash                1            0.0          2.5        6.70   \n",
       "...              ...              ...            ...          ...         ...   \n",
       "22192    Credit Card                1            0.0          2.5        0.00   \n",
       "22327     Debit Card                1            0.0         16.8        3.42   \n",
       "22385           Cash                1            0.0         10.0        0.00   \n",
       "22568    Credit Card                1            0.0          0.0        0.00   \n",
       "22672     Debit Card                1            0.0          2.5        0.00   \n",
       "\n",
       "       tolls_amount  \n",
       "129             0.0  \n",
       "248             0.0  \n",
       "293             0.0  \n",
       "321             0.0  \n",
       "426             0.0  \n",
       "...             ...  \n",
       "22192           0.0  \n",
       "22327           0.0  \n",
       "22385           0.0  \n",
       "22568           0.0  \n",
       "22672           0.0  \n",
       "\n",
       "[147 rows x 9 columns]"
      ]
     },
     "execution_count": 308,
     "metadata": {},
     "output_type": "execute_result"
    }
   ],
   "source": [
    "data.loc[data['trip_distance']==0]"
   ]
  },
  {
   "cell_type": "code",
   "execution_count": 309,
   "id": "06133db0",
   "metadata": {},
   "outputs": [],
   "source": [
    "data = data.loc[data['trip_distance']>0]"
   ]
  },
  {
   "cell_type": "code",
   "execution_count": 310,
   "id": "f457b5ab",
   "metadata": {},
   "outputs": [
    {
     "data": {
      "text/plain": [
       "2987      0.01\n",
       "19646     0.01\n",
       "8199      0.01\n",
       "5503      0.01\n",
       "3611      0.01\n",
       "         ...  \n",
       "30       30.83\n",
       "10293    31.95\n",
       "6066     32.72\n",
       "13863    33.92\n",
       "9282     33.96\n",
       "Name: trip_distance, Length: 22515, dtype: float64"
      ]
     },
     "execution_count": 310,
     "metadata": {},
     "output_type": "execute_result"
    }
   ],
   "source": [
    "data['trip_distance'].sort_values()"
   ]
  },
  {
   "cell_type": "code",
   "execution_count": 311,
   "id": "4f002ba1",
   "metadata": {},
   "outputs": [
    {
     "data": {
      "text/plain": [
       "<AxesSubplot:xlabel='trip_distance', ylabel='Count'>"
      ]
     },
     "execution_count": 311,
     "metadata": {},
     "output_type": "execute_result"
    },
    {
     "data": {
      "image/png": "[encoded data removed]",
      "text/plain": [
       "<Figure size 432x288 with 1 Axes>"
      ]
     },
     "metadata": {
      "needs_background": "light"
     },
     "output_type": "display_data"
    }
   ],
   "source": [
    "sns.histplot(data['trip_distance'])"
   ]
  },
  {
   "cell_type": "code",
   "execution_count": 312,
   "id": "3fd9b012",
   "metadata": {},
   "outputs": [
    {
     "data": {
      "text/html": [
       "<div>\n",
       "<style scoped>\n",
       "    .dataframe tbody tr th:only-of-type {\n",
       "        vertical-align: middle;\n",
       "    }\n",
       "\n",
       "    .dataframe tbody tr th {\n",
       "        vertical-align: top;\n",
       "    }\n",
       "\n",
       "    .dataframe thead th {\n",
       "        text-align: right;\n",
       "    }\n",
       "</style>\n",
       "<table border=\"1\" class=\"dataframe\">\n",
       "  <thead>\n",
       "    <tr style=\"text-align: right;\">\n",
       "      <th></th>\n",
       "      <th>passenger_count</th>\n",
       "      <th>trip_distance</th>\n",
       "      <th>fare_amount</th>\n",
       "      <th>tip_amount</th>\n",
       "      <th>tolls_amount</th>\n",
       "    </tr>\n",
       "  </thead>\n",
       "  <tbody>\n",
       "    <tr>\n",
       "      <th>count</th>\n",
       "      <td>22515.000000</td>\n",
       "      <td>22515.000000</td>\n",
       "      <td>22515.000000</td>\n",
       "      <td>22515.000000</td>\n",
       "      <td>22515.000000</td>\n",
       "    </tr>\n",
       "    <tr>\n",
       "      <th>mean</th>\n",
       "      <td>1.645969</td>\n",
       "      <td>2.931924</td>\n",
       "      <td>12.958055</td>\n",
       "      <td>1.829513</td>\n",
       "      <td>0.309625</td>\n",
       "    </tr>\n",
       "    <tr>\n",
       "      <th>std</th>\n",
       "      <td>1.285783</td>\n",
       "      <td>3.657290</td>\n",
       "      <td>12.701799</td>\n",
       "      <td>2.767054</td>\n",
       "      <td>1.387300</td>\n",
       "    </tr>\n",
       "    <tr>\n",
       "      <th>min</th>\n",
       "      <td>1.000000</td>\n",
       "      <td>0.010000</td>\n",
       "      <td>-120.000000</td>\n",
       "      <td>0.000000</td>\n",
       "      <td>0.000000</td>\n",
       "    </tr>\n",
       "    <tr>\n",
       "      <th>25%</th>\n",
       "      <td>1.000000</td>\n",
       "      <td>1.000000</td>\n",
       "      <td>6.500000</td>\n",
       "      <td>0.000000</td>\n",
       "      <td>0.000000</td>\n",
       "    </tr>\n",
       "    <tr>\n",
       "      <th>50%</th>\n",
       "      <td>1.000000</td>\n",
       "      <td>1.630000</td>\n",
       "      <td>9.500000</td>\n",
       "      <td>1.360000</td>\n",
       "      <td>0.000000</td>\n",
       "    </tr>\n",
       "    <tr>\n",
       "      <th>75%</th>\n",
       "      <td>2.000000</td>\n",
       "      <td>3.090000</td>\n",
       "      <td>14.500000</td>\n",
       "      <td>2.450000</td>\n",
       "      <td>0.000000</td>\n",
       "    </tr>\n",
       "    <tr>\n",
       "      <th>max</th>\n",
       "      <td>6.000000</td>\n",
       "      <td>33.960000</td>\n",
       "      <td>999.990000</td>\n",
       "      <td>200.000000</td>\n",
       "      <td>19.100000</td>\n",
       "    </tr>\n",
       "  </tbody>\n",
       "</table>\n",
       "</div>"
      ],
      "text/plain": [
       "       passenger_count  trip_distance   fare_amount    tip_amount  \\\n",
       "count     22515.000000   22515.000000  22515.000000  22515.000000   \n",
       "mean          1.645969       2.931924     12.958055      1.829513   \n",
       "std           1.285783       3.657290     12.701799      2.767054   \n",
       "min           1.000000       0.010000   -120.000000      0.000000   \n",
       "25%           1.000000       1.000000      6.500000      0.000000   \n",
       "50%           1.000000       1.630000      9.500000      1.360000   \n",
       "75%           2.000000       3.090000     14.500000      2.450000   \n",
       "max           6.000000      33.960000    999.990000    200.000000   \n",
       "\n",
       "       tolls_amount  \n",
       "count  22515.000000  \n",
       "mean       0.309625  \n",
       "std        1.387300  \n",
       "min        0.000000  \n",
       "25%        0.000000  \n",
       "50%        0.000000  \n",
       "75%        0.000000  \n",
       "max       19.100000  "
      ]
     },
     "execution_count": 312,
     "metadata": {},
     "output_type": "execute_result"
    }
   ],
   "source": [
    "data.describe()"
   ]
  },
  {
   "cell_type": "code",
   "execution_count": 313,
   "id": "9184cebc",
   "metadata": {},
   "outputs": [
    {
     "data": {
      "text/plain": [
       "16"
      ]
     },
     "execution_count": 313,
     "metadata": {},
     "output_type": "execute_result"
    }
   ],
   "source": [
    "data.loc[data['fare_amount']<=0].shape[0]"
   ]
  },
  {
   "cell_type": "markdown",
   "id": "12f7835c",
   "metadata": {},
   "source": [
    "### 요금에 음수는 말이 안되며, 999.99는 튀는 단일값으로 이상치로 판단 후 제거"
   ]
  },
  {
   "cell_type": "code",
   "execution_count": 314,
   "id": "ed6c979e",
   "metadata": {},
   "outputs": [
    {
     "data": {
      "text/plain": [
       "12946   -120.00\n",
       "11206     -4.50\n",
       "20700     -4.50\n",
       "17604     -4.00\n",
       "14716     -4.00\n",
       "          ...  \n",
       "16381    140.00\n",
       "9282     150.00\n",
       "3584     152.00\n",
       "13863    200.01\n",
       "8478     999.99\n",
       "Name: fare_amount, Length: 22515, dtype: float64"
      ]
     },
     "execution_count": 314,
     "metadata": {},
     "output_type": "execute_result"
    }
   ],
   "source": [
    "data['fare_amount'].sort_values()"
   ]
  },
  {
   "cell_type": "code",
   "execution_count": 315,
   "id": "d191f719",
   "metadata": {},
   "outputs": [],
   "source": [
    "data = data.loc[data['fare_amount']>0]"
   ]
  },
  {
   "cell_type": "code",
   "execution_count": 316,
   "id": "1912d2c3",
   "metadata": {},
   "outputs": [
    {
     "data": {
      "text/plain": [
       "999.99"
      ]
     },
     "execution_count": 316,
     "metadata": {},
     "output_type": "execute_result"
    }
   ],
   "source": [
    "data['fare_amount'].max()"
   ]
  },
  {
   "cell_type": "code",
   "execution_count": 317,
   "id": "e45d2e6e",
   "metadata": {},
   "outputs": [],
   "source": [
    "data = data.loc[data['fare_amount']<800]"
   ]
  },
  {
   "cell_type": "markdown",
   "id": "98670db2",
   "metadata": {},
   "source": [
    "### 200은 152의 요금값과 큰 차이가 없으며 충분히 나올 수 있는 요금이라고 판단되어 유지하되, 값의 범위가 커질 수 있으므로 150 이상은 150으로 통일된 값 사용"
   ]
  },
  {
   "cell_type": "code",
   "execution_count": 318,
   "id": "0135c9d6",
   "metadata": {},
   "outputs": [
    {
     "data": {
      "text/plain": [
       "200.01"
      ]
     },
     "execution_count": 318,
     "metadata": {},
     "output_type": "execute_result"
    }
   ],
   "source": [
    "data['fare_amount'].max()"
   ]
  },
  {
   "cell_type": "code",
   "execution_count": 319,
   "id": "bd65ba3e",
   "metadata": {},
   "outputs": [
    {
     "data": {
      "text/plain": [
       "<AxesSubplot:ylabel='fare_amount'>"
      ]
     },
     "execution_count": 319,
     "metadata": {},
     "output_type": "execute_result"
    },
    {
     "data": {
      "image/png": "[encoded data removed]",
      "text/plain": [
       "<Figure size 432x288 with 1 Axes>"
      ]
     },
     "metadata": {
      "needs_background": "light"
     },
     "output_type": "display_data"
    }
   ],
   "source": [
    "sns.scatterplot(x=data.index, y=data['fare_amount'])"
   ]
  },
  {
   "cell_type": "code",
   "execution_count": 320,
   "id": "e486e5d1",
   "metadata": {},
   "outputs": [],
   "source": [
    "data['fare_amount'] = data['fare_amount'].apply(lambda x: 150 if x > 150 else x)"
   ]
  },
  {
   "cell_type": "code",
   "execution_count": 321,
   "id": "bfb9345b",
   "metadata": {},
   "outputs": [
    {
     "data": {
      "text/html": [
       "<div>\n",
       "<style scoped>\n",
       "    .dataframe tbody tr th:only-of-type {\n",
       "        vertical-align: middle;\n",
       "    }\n",
       "\n",
       "    .dataframe tbody tr th {\n",
       "        vertical-align: top;\n",
       "    }\n",
       "\n",
       "    .dataframe thead th {\n",
       "        text-align: right;\n",
       "    }\n",
       "</style>\n",
       "<table border=\"1\" class=\"dataframe\">\n",
       "  <thead>\n",
       "    <tr style=\"text-align: right;\">\n",
       "      <th></th>\n",
       "      <th>passenger_name</th>\n",
       "      <th>tpep_pickup_datetime</th>\n",
       "      <th>tpep_dropoff_datetime</th>\n",
       "      <th>payment_method</th>\n",
       "      <th>passenger_count</th>\n",
       "      <th>trip_distance</th>\n",
       "      <th>fare_amount</th>\n",
       "      <th>tip_amount</th>\n",
       "      <th>tolls_amount</th>\n",
       "    </tr>\n",
       "  </thead>\n",
       "  <tbody>\n",
       "    <tr>\n",
       "      <th>4063</th>\n",
       "      <td>Phillip Gonzalez</td>\n",
       "      <td>08/12/2017 8:49:29 PM</td>\n",
       "      <td>08/12/2017 9:18:50 PM</td>\n",
       "      <td>Cash</td>\n",
       "      <td>4</td>\n",
       "      <td>4.50</td>\n",
       "      <td>0.01</td>\n",
       "      <td>0.00</td>\n",
       "      <td>10.50</td>\n",
       "    </tr>\n",
       "    <tr>\n",
       "      <th>16829</th>\n",
       "      <td>Jeffrey Jackson</td>\n",
       "      <td>05/02/2017 12:18:59 AM</td>\n",
       "      <td>05/02/2017 12:19:02 AM</td>\n",
       "      <td>Credit Card</td>\n",
       "      <td>1</td>\n",
       "      <td>0.02</td>\n",
       "      <td>2.50</td>\n",
       "      <td>0.00</td>\n",
       "      <td>0.00</td>\n",
       "    </tr>\n",
       "    <tr>\n",
       "      <th>19371</th>\n",
       "      <td>Amanda Taylor</td>\n",
       "      <td>03/24/2017 8:59:58 PM</td>\n",
       "      <td>03/24/2017 9:00:06 PM</td>\n",
       "      <td>Cash</td>\n",
       "      <td>1</td>\n",
       "      <td>0.02</td>\n",
       "      <td>2.50</td>\n",
       "      <td>7.00</td>\n",
       "      <td>0.00</td>\n",
       "    </tr>\n",
       "    <tr>\n",
       "      <th>15501</th>\n",
       "      <td>Julie Ferguson</td>\n",
       "      <td>12/29/2017 9:06:34 PM</td>\n",
       "      <td>12/29/2017 9:07:19 PM</td>\n",
       "      <td>Cash</td>\n",
       "      <td>1</td>\n",
       "      <td>4.20</td>\n",
       "      <td>2.50</td>\n",
       "      <td>0.00</td>\n",
       "      <td>0.00</td>\n",
       "    </tr>\n",
       "    <tr>\n",
       "      <th>1077</th>\n",
       "      <td>Kyle Johnson</td>\n",
       "      <td>04/12/2017 8:51:58 PM</td>\n",
       "      <td>04/12/2017 8:52:07 PM</td>\n",
       "      <td>Cash</td>\n",
       "      <td>1</td>\n",
       "      <td>2.30</td>\n",
       "      <td>2.50</td>\n",
       "      <td>0.00</td>\n",
       "      <td>0.00</td>\n",
       "    </tr>\n",
       "    <tr>\n",
       "      <th>...</th>\n",
       "      <td>...</td>\n",
       "      <td>...</td>\n",
       "      <td>...</td>\n",
       "      <td>...</td>\n",
       "      <td>...</td>\n",
       "      <td>...</td>\n",
       "      <td>...</td>\n",
       "      <td>...</td>\n",
       "      <td>...</td>\n",
       "    </tr>\n",
       "    <tr>\n",
       "      <th>10293</th>\n",
       "      <td>Emily Stevens</td>\n",
       "      <td>09/11/2017 11:41:04 AM</td>\n",
       "      <td>09/11/2017 12:18:58 PM</td>\n",
       "      <td>Cash</td>\n",
       "      <td>1</td>\n",
       "      <td>31.95</td>\n",
       "      <td>131.00</td>\n",
       "      <td>0.00</td>\n",
       "      <td>0.00</td>\n",
       "    </tr>\n",
       "    <tr>\n",
       "      <th>16381</th>\n",
       "      <td>Erica Hernandez</td>\n",
       "      <td>11/30/2017 10:41:11 AM</td>\n",
       "      <td>11/30/2017 11:31:45 AM</td>\n",
       "      <td>Cash</td>\n",
       "      <td>1</td>\n",
       "      <td>25.50</td>\n",
       "      <td>140.00</td>\n",
       "      <td>0.00</td>\n",
       "      <td>16.26</td>\n",
       "    </tr>\n",
       "    <tr>\n",
       "      <th>13863</th>\n",
       "      <td>William Yates</td>\n",
       "      <td>05/19/2017 8:20:21 AM</td>\n",
       "      <td>05/19/2017 9:20:30 AM</td>\n",
       "      <td>Credit Card</td>\n",
       "      <td>1</td>\n",
       "      <td>33.92</td>\n",
       "      <td>150.00</td>\n",
       "      <td>51.64</td>\n",
       "      <td>5.76</td>\n",
       "    </tr>\n",
       "    <tr>\n",
       "      <th>3584</th>\n",
       "      <td>Matthew Chavez</td>\n",
       "      <td>01/01/2017 11:53:01 PM</td>\n",
       "      <td>01/01/2017 11:53:42 PM</td>\n",
       "      <td>Credit Card</td>\n",
       "      <td>1</td>\n",
       "      <td>7.30</td>\n",
       "      <td>150.00</td>\n",
       "      <td>0.00</td>\n",
       "      <td>0.00</td>\n",
       "    </tr>\n",
       "    <tr>\n",
       "      <th>9282</th>\n",
       "      <td>Samantha Frederick</td>\n",
       "      <td>06/18/2017 11:33:25 PM</td>\n",
       "      <td>06/19/2017 12:12:38 AM</td>\n",
       "      <td>Cash</td>\n",
       "      <td>2</td>\n",
       "      <td>33.96</td>\n",
       "      <td>150.00</td>\n",
       "      <td>0.00</td>\n",
       "      <td>0.00</td>\n",
       "    </tr>\n",
       "  </tbody>\n",
       "</table>\n",
       "<p>22498 rows × 9 columns</p>\n",
       "</div>"
      ],
      "text/plain": [
       "           passenger_name    tpep_pickup_datetime   tpep_dropoff_datetime  \\\n",
       "4063     Phillip Gonzalez   08/12/2017 8:49:29 PM   08/12/2017 9:18:50 PM   \n",
       "16829     Jeffrey Jackson  05/02/2017 12:18:59 AM  05/02/2017 12:19:02 AM   \n",
       "19371       Amanda Taylor   03/24/2017 8:59:58 PM   03/24/2017 9:00:06 PM   \n",
       "15501      Julie Ferguson   12/29/2017 9:06:34 PM   12/29/2017 9:07:19 PM   \n",
       "1077         Kyle Johnson   04/12/2017 8:51:58 PM   04/12/2017 8:52:07 PM   \n",
       "...                   ...                     ...                     ...   \n",
       "10293       Emily Stevens  09/11/2017 11:41:04 AM  09/11/2017 12:18:58 PM   \n",
       "16381     Erica Hernandez  11/30/2017 10:41:11 AM  11/30/2017 11:31:45 AM   \n",
       "13863       William Yates   05/19/2017 8:20:21 AM   05/19/2017 9:20:30 AM   \n",
       "3584       Matthew Chavez  01/01/2017 11:53:01 PM  01/01/2017 11:53:42 PM   \n",
       "9282   Samantha Frederick  06/18/2017 11:33:25 PM  06/19/2017 12:12:38 AM   \n",
       "\n",
       "      payment_method  passenger_count  trip_distance  fare_amount  tip_amount  \\\n",
       "4063            Cash                4           4.50         0.01        0.00   \n",
       "16829    Credit Card                1           0.02         2.50        0.00   \n",
       "19371           Cash                1           0.02         2.50        7.00   \n",
       "15501           Cash                1           4.20         2.50        0.00   \n",
       "1077            Cash                1           2.30         2.50        0.00   \n",
       "...              ...              ...            ...          ...         ...   \n",
       "10293           Cash                1          31.95       131.00        0.00   \n",
       "16381           Cash                1          25.50       140.00        0.00   \n",
       "13863    Credit Card                1          33.92       150.00       51.64   \n",
       "3584     Credit Card                1           7.30       150.00        0.00   \n",
       "9282            Cash                2          33.96       150.00        0.00   \n",
       "\n",
       "       tolls_amount  \n",
       "4063          10.50  \n",
       "16829          0.00  \n",
       "19371          0.00  \n",
       "15501          0.00  \n",
       "1077           0.00  \n",
       "...             ...  \n",
       "10293          0.00  \n",
       "16381         16.26  \n",
       "13863          5.76  \n",
       "3584           0.00  \n",
       "9282           0.00  \n",
       "\n",
       "[22498 rows x 9 columns]"
      ]
     },
     "execution_count": 321,
     "metadata": {},
     "output_type": "execute_result"
    }
   ],
   "source": [
    "data.sort_values('fare_amount')"
   ]
  },
  {
   "cell_type": "code",
   "execution_count": 322,
   "id": "46b14e49",
   "metadata": {},
   "outputs": [
    {
     "data": {
      "text/plain": [
       "<AxesSubplot:ylabel='tip_amount'>"
      ]
     },
     "execution_count": 322,
     "metadata": {},
     "output_type": "execute_result"
    },
    {
     "data": {
      "image/png": "[encoded data removed]",
      "text/plain": [
       "<Figure size 432x288 with 1 Axes>"
      ]
     },
     "metadata": {
      "needs_background": "light"
     },
     "output_type": "display_data"
    }
   ],
   "source": [
    "sns.scatterplot(x=data.index, y=data['tip_amount'])"
   ]
  },
  {
   "cell_type": "markdown",
   "id": "5a29040b",
   "metadata": {},
   "source": [
    "### IQR을 적용하면 약 7이상부터는 모두 이상치이나, 비슷한 값들이 존재하므로 1~2개 선에서 튀는 40을 기준으로 이상치를 결정"
   ]
  },
  {
   "cell_type": "code",
   "execution_count": 323,
   "id": "178b7984",
   "metadata": {},
   "outputs": [
    {
     "data": {
      "text/html": [
       "<div>\n",
       "<style scoped>\n",
       "    .dataframe tbody tr th:only-of-type {\n",
       "        vertical-align: middle;\n",
       "    }\n",
       "\n",
       "    .dataframe tbody tr th {\n",
       "        vertical-align: top;\n",
       "    }\n",
       "\n",
       "    .dataframe thead th {\n",
       "        text-align: right;\n",
       "    }\n",
       "</style>\n",
       "<table border=\"1\" class=\"dataframe\">\n",
       "  <thead>\n",
       "    <tr style=\"text-align: right;\">\n",
       "      <th></th>\n",
       "      <th>passenger_count</th>\n",
       "      <th>trip_distance</th>\n",
       "      <th>fare_amount</th>\n",
       "      <th>tip_amount</th>\n",
       "      <th>tolls_amount</th>\n",
       "    </tr>\n",
       "  </thead>\n",
       "  <tbody>\n",
       "    <tr>\n",
       "      <th>count</th>\n",
       "      <td>22498.000000</td>\n",
       "      <td>22498.000000</td>\n",
       "      <td>22498.000000</td>\n",
       "      <td>22498.000000</td>\n",
       "      <td>22498.000000</td>\n",
       "    </tr>\n",
       "    <tr>\n",
       "      <th>mean</th>\n",
       "      <td>1.645969</td>\n",
       "      <td>2.932639</td>\n",
       "      <td>12.928243</td>\n",
       "      <td>1.822006</td>\n",
       "      <td>0.309303</td>\n",
       "    </tr>\n",
       "    <tr>\n",
       "      <th>std</th>\n",
       "      <td>1.285649</td>\n",
       "      <td>3.656104</td>\n",
       "      <td>10.791445</td>\n",
       "      <td>2.431934</td>\n",
       "      <td>1.385418</td>\n",
       "    </tr>\n",
       "    <tr>\n",
       "      <th>min</th>\n",
       "      <td>1.000000</td>\n",
       "      <td>0.010000</td>\n",
       "      <td>0.010000</td>\n",
       "      <td>0.000000</td>\n",
       "      <td>0.000000</td>\n",
       "    </tr>\n",
       "    <tr>\n",
       "      <th>25%</th>\n",
       "      <td>1.000000</td>\n",
       "      <td>1.000000</td>\n",
       "      <td>6.500000</td>\n",
       "      <td>0.000000</td>\n",
       "      <td>0.000000</td>\n",
       "    </tr>\n",
       "    <tr>\n",
       "      <th>50%</th>\n",
       "      <td>1.000000</td>\n",
       "      <td>1.630000</td>\n",
       "      <td>9.500000</td>\n",
       "      <td>1.360000</td>\n",
       "      <td>0.000000</td>\n",
       "    </tr>\n",
       "    <tr>\n",
       "      <th>75%</th>\n",
       "      <td>2.000000</td>\n",
       "      <td>3.090000</td>\n",
       "      <td>14.500000</td>\n",
       "      <td>2.450000</td>\n",
       "      <td>0.000000</td>\n",
       "    </tr>\n",
       "    <tr>\n",
       "      <th>max</th>\n",
       "      <td>6.000000</td>\n",
       "      <td>33.960000</td>\n",
       "      <td>150.000000</td>\n",
       "      <td>55.500000</td>\n",
       "      <td>19.100000</td>\n",
       "    </tr>\n",
       "  </tbody>\n",
       "</table>\n",
       "</div>"
      ],
      "text/plain": [
       "       passenger_count  trip_distance   fare_amount    tip_amount  \\\n",
       "count     22498.000000   22498.000000  22498.000000  22498.000000   \n",
       "mean          1.645969       2.932639     12.928243      1.822006   \n",
       "std           1.285649       3.656104     10.791445      2.431934   \n",
       "min           1.000000       0.010000      0.010000      0.000000   \n",
       "25%           1.000000       1.000000      6.500000      0.000000   \n",
       "50%           1.000000       1.630000      9.500000      1.360000   \n",
       "75%           2.000000       3.090000     14.500000      2.450000   \n",
       "max           6.000000      33.960000    150.000000     55.500000   \n",
       "\n",
       "       tolls_amount  \n",
       "count  22498.000000  \n",
       "mean       0.309303  \n",
       "std        1.385418  \n",
       "min        0.000000  \n",
       "25%        0.000000  \n",
       "50%        0.000000  \n",
       "75%        0.000000  \n",
       "max       19.100000  "
      ]
     },
     "execution_count": 323,
     "metadata": {},
     "output_type": "execute_result"
    }
   ],
   "source": [
    "data.describe()"
   ]
  },
  {
   "cell_type": "code",
   "execution_count": 324,
   "id": "0a119247",
   "metadata": {},
   "outputs": [
    {
     "data": {
      "text/plain": [
       "11357     0.00\n",
       "11763     0.00\n",
       "11765     0.00\n",
       "11768     0.00\n",
       "11777     0.00\n",
       "         ...  \n",
       "6710     25.20\n",
       "14827    28.00\n",
       "986      42.29\n",
       "13863    51.64\n",
       "6066     55.50\n",
       "Name: tip_amount, Length: 22498, dtype: float64"
      ]
     },
     "execution_count": 324,
     "metadata": {},
     "output_type": "execute_result"
    }
   ],
   "source": [
    "data['tip_amount'].sort_values()"
   ]
  },
  {
   "cell_type": "code",
   "execution_count": 325,
   "id": "54d4b83c",
   "metadata": {},
   "outputs": [],
   "source": [
    "data = data.loc[data['tip_amount']<40]"
   ]
  },
  {
   "cell_type": "markdown",
   "id": "d5ce97fd",
   "metadata": {},
   "source": [
    "### tolls_amount는 특이사항 식별되지 않으므로 유지"
   ]
  },
  {
   "cell_type": "code",
   "execution_count": 326,
   "id": "40a6a729",
   "metadata": {},
   "outputs": [
    {
     "data": {
      "text/plain": [
       "<AxesSubplot:ylabel='tolls_amount'>"
      ]
     },
     "execution_count": 326,
     "metadata": {},
     "output_type": "execute_result"
    },
    {
     "data": {
      "image/png": "[encoded data removed]",
      "text/plain": [
       "<Figure size 432x288 with 1 Axes>"
      ]
     },
     "metadata": {
      "needs_background": "light"
     },
     "output_type": "display_data"
    }
   ],
   "source": [
    "sns.scatterplot(x=data.index, y=data['tolls_amount'])"
   ]
  },
  {
   "cell_type": "markdown",
   "id": "89a18f65",
   "metadata": {},
   "source": [
    "# 범주형 데이터 전처리"
   ]
  },
  {
   "cell_type": "markdown",
   "id": "5ae94ff4",
   "metadata": {},
   "source": [
    "### debit, credit 모두 카드이며, 현금과 구분하기 위해 card는 서로 결합"
   ]
  },
  {
   "cell_type": "code",
   "execution_count": 327,
   "id": "9783cf89",
   "metadata": {},
   "outputs": [
    {
     "data": {
      "text/plain": [
       "array(['Debit Card', 'Cash', 'Credit Card'], dtype=object)"
      ]
     },
     "execution_count": 327,
     "metadata": {},
     "output_type": "execute_result"
    }
   ],
   "source": [
    "data['payment_method'].unique()"
   ]
  },
  {
   "cell_type": "code",
   "execution_count": 328,
   "id": "4ca95fa2",
   "metadata": {},
   "outputs": [
    {
     "data": {
      "text/plain": [
       "3"
      ]
     },
     "execution_count": 328,
     "metadata": {},
     "output_type": "execute_result"
    }
   ],
   "source": [
    "data['payment_method'].nunique()"
   ]
  },
  {
   "cell_type": "code",
   "execution_count": 329,
   "id": "13ee0544",
   "metadata": {},
   "outputs": [
    {
     "data": {
      "text/plain": [
       "Cash           11094\n",
       "Debit Card      5729\n",
       "Credit Card     5672\n",
       "Name: payment_method, dtype: int64"
      ]
     },
     "execution_count": 329,
     "metadata": {},
     "output_type": "execute_result"
    }
   ],
   "source": [
    "data['payment_method'].value_counts()"
   ]
  },
  {
   "cell_type": "code",
   "execution_count": 330,
   "id": "dd8608aa",
   "metadata": {},
   "outputs": [],
   "source": [
    "data['payment_method'].replace(['Debit Card', 'Credit Card'], 'Card', inplace=True)"
   ]
  },
  {
   "cell_type": "markdown",
   "id": "8da91b1b",
   "metadata": {},
   "source": [
    "# 승객명 성과 이름 분리"
   ]
  },
  {
   "cell_type": "markdown",
   "id": "ce2b7f3e",
   "metadata": {},
   "source": [
    "### 원래 영어 이름의 성은 뒷부분이나, 문제에서 firstname을 생성하라고 했으므로 앞부분 저장..."
   ]
  },
  {
   "cell_type": "code",
   "execution_count": 331,
   "id": "5c667d98",
   "metadata": {},
   "outputs": [],
   "source": [
    "data['passenger_first_name'] = data['passenger_name'].map(lambda x: x.split()[0])"
   ]
  },
  {
   "cell_type": "code",
   "execution_count": 332,
   "id": "f87043fd",
   "metadata": {},
   "outputs": [
    {
     "data": {
      "text/plain": [
       "0          Pamela\n",
       "1        Michelle\n",
       "2            Tina\n",
       "3         Anthony\n",
       "4         Brianna\n",
       "           ...   \n",
       "22696      Austin\n",
       "22697     Monique\n",
       "22698        Drew\n",
       "22699    Jonathan\n",
       "22700    Benjamin\n",
       "Name: passenger_first_name, Length: 22495, dtype: object"
      ]
     },
     "execution_count": 332,
     "metadata": {},
     "output_type": "execute_result"
    }
   ],
   "source": [
    "data['passenger_first_name']"
   ]
  },
  {
   "cell_type": "markdown",
   "id": "b56d9fc7",
   "metadata": {},
   "source": [
    "# 택시 탑승, 하차 시간 활용"
   ]
  },
  {
   "cell_type": "code",
   "execution_count": 333,
   "id": "69362ee0",
   "metadata": {},
   "outputs": [
    {
     "name": "stdout",
     "output_type": "stream",
     "text": [
      "<class 'pandas.core.frame.DataFrame'>\n",
      "Int64Index: 22495 entries, 0 to 22700\n",
      "Data columns (total 10 columns):\n",
      " #   Column                 Non-Null Count  Dtype  \n",
      "---  ------                 --------------  -----  \n",
      " 0   passenger_name         22495 non-null  object \n",
      " 1   tpep_pickup_datetime   22495 non-null  object \n",
      " 2   tpep_dropoff_datetime  22495 non-null  object \n",
      " 3   payment_method         22495 non-null  object \n",
      " 4   passenger_count        22495 non-null  int64  \n",
      " 5   trip_distance          22495 non-null  float64\n",
      " 6   fare_amount            22495 non-null  float64\n",
      " 7   tip_amount             22495 non-null  float64\n",
      " 8   tolls_amount           22495 non-null  float64\n",
      " 9   passenger_first_name   22495 non-null  object \n",
      "dtypes: float64(4), int64(1), object(5)\n",
      "memory usage: 1.9+ MB\n"
     ]
    }
   ],
   "source": [
    "data.info()"
   ]
  },
  {
   "cell_type": "code",
   "execution_count": 334,
   "id": "0e7bb56e",
   "metadata": {},
   "outputs": [],
   "source": [
    "data['tpep_pickup_datetime'] = pd.to_datetime(data['tpep_pickup_datetime'])"
   ]
  },
  {
   "cell_type": "code",
   "execution_count": 335,
   "id": "198a3515",
   "metadata": {},
   "outputs": [],
   "source": [
    "data['tpep_dropoff_datetime'] = pd.to_datetime(data['tpep_dropoff_datetime'])"
   ]
  },
  {
   "cell_type": "code",
   "execution_count": 336,
   "id": "66cc9092",
   "metadata": {},
   "outputs": [
    {
     "name": "stdout",
     "output_type": "stream",
     "text": [
      "<class 'pandas.core.frame.DataFrame'>\n",
      "Int64Index: 22495 entries, 0 to 22700\n",
      "Data columns (total 10 columns):\n",
      " #   Column                 Non-Null Count  Dtype         \n",
      "---  ------                 --------------  -----         \n",
      " 0   passenger_name         22495 non-null  object        \n",
      " 1   tpep_pickup_datetime   22495 non-null  datetime64[ns]\n",
      " 2   tpep_dropoff_datetime  22495 non-null  datetime64[ns]\n",
      " 3   payment_method         22495 non-null  object        \n",
      " 4   passenger_count        22495 non-null  int64         \n",
      " 5   trip_distance          22495 non-null  float64       \n",
      " 6   fare_amount            22495 non-null  float64       \n",
      " 7   tip_amount             22495 non-null  float64       \n",
      " 8   tolls_amount           22495 non-null  float64       \n",
      " 9   passenger_first_name   22495 non-null  object        \n",
      "dtypes: datetime64[ns](2), float64(4), int64(1), object(3)\n",
      "memory usage: 1.9+ MB\n"
     ]
    }
   ],
   "source": [
    "data.info()"
   ]
  },
  {
   "cell_type": "code",
   "execution_count": 337,
   "id": "1b6a30e5",
   "metadata": {},
   "outputs": [],
   "source": [
    "data['travel_time'] = data['tpep_dropoff_datetime'] - data['tpep_pickup_datetime']"
   ]
  },
  {
   "cell_type": "code",
   "execution_count": 338,
   "id": "30eb2fb1",
   "metadata": {},
   "outputs": [
    {
     "data": {
      "text/html": [
       "<div>\n",
       "<style scoped>\n",
       "    .dataframe tbody tr th:only-of-type {\n",
       "        vertical-align: middle;\n",
       "    }\n",
       "\n",
       "    .dataframe tbody tr th {\n",
       "        vertical-align: top;\n",
       "    }\n",
       "\n",
       "    .dataframe thead th {\n",
       "        text-align: right;\n",
       "    }\n",
       "</style>\n",
       "<table border=\"1\" class=\"dataframe\">\n",
       "  <thead>\n",
       "    <tr style=\"text-align: right;\">\n",
       "      <th></th>\n",
       "      <th>passenger_name</th>\n",
       "      <th>tpep_pickup_datetime</th>\n",
       "      <th>tpep_dropoff_datetime</th>\n",
       "      <th>payment_method</th>\n",
       "      <th>passenger_count</th>\n",
       "      <th>trip_distance</th>\n",
       "      <th>fare_amount</th>\n",
       "      <th>tip_amount</th>\n",
       "      <th>tolls_amount</th>\n",
       "      <th>passenger_first_name</th>\n",
       "      <th>travel_time</th>\n",
       "    </tr>\n",
       "  </thead>\n",
       "  <tbody>\n",
       "    <tr>\n",
       "      <th>0</th>\n",
       "      <td>Pamela Duffy</td>\n",
       "      <td>2017-03-25 08:55:43</td>\n",
       "      <td>2017-03-25 09:09:47</td>\n",
       "      <td>Card</td>\n",
       "      <td>6</td>\n",
       "      <td>3.34</td>\n",
       "      <td>13.0</td>\n",
       "      <td>2.76</td>\n",
       "      <td>0.0</td>\n",
       "      <td>Pamela</td>\n",
       "      <td>0 days 00:14:04</td>\n",
       "    </tr>\n",
       "    <tr>\n",
       "      <th>1</th>\n",
       "      <td>Michelle Foster</td>\n",
       "      <td>2017-04-11 14:53:28</td>\n",
       "      <td>2017-04-11 15:19:58</td>\n",
       "      <td>Card</td>\n",
       "      <td>1</td>\n",
       "      <td>1.80</td>\n",
       "      <td>16.0</td>\n",
       "      <td>4.00</td>\n",
       "      <td>0.0</td>\n",
       "      <td>Michelle</td>\n",
       "      <td>0 days 00:26:30</td>\n",
       "    </tr>\n",
       "    <tr>\n",
       "      <th>2</th>\n",
       "      <td>Tina Combs</td>\n",
       "      <td>2017-12-15 07:26:56</td>\n",
       "      <td>2017-12-15 07:34:08</td>\n",
       "      <td>Card</td>\n",
       "      <td>1</td>\n",
       "      <td>1.00</td>\n",
       "      <td>6.5</td>\n",
       "      <td>1.45</td>\n",
       "      <td>0.0</td>\n",
       "      <td>Tina</td>\n",
       "      <td>0 days 00:07:12</td>\n",
       "    </tr>\n",
       "    <tr>\n",
       "      <th>3</th>\n",
       "      <td>Anthony Ray</td>\n",
       "      <td>2017-05-07 13:17:59</td>\n",
       "      <td>2017-05-07 13:48:14</td>\n",
       "      <td>Cash</td>\n",
       "      <td>1</td>\n",
       "      <td>3.70</td>\n",
       "      <td>20.5</td>\n",
       "      <td>6.39</td>\n",
       "      <td>0.0</td>\n",
       "      <td>Anthony</td>\n",
       "      <td>0 days 00:30:15</td>\n",
       "    </tr>\n",
       "    <tr>\n",
       "      <th>4</th>\n",
       "      <td>Brianna Johnson</td>\n",
       "      <td>2017-04-15 23:32:20</td>\n",
       "      <td>2017-04-15 23:49:03</td>\n",
       "      <td>Card</td>\n",
       "      <td>1</td>\n",
       "      <td>4.37</td>\n",
       "      <td>16.5</td>\n",
       "      <td>0.00</td>\n",
       "      <td>0.0</td>\n",
       "      <td>Brianna</td>\n",
       "      <td>0 days 00:16:43</td>\n",
       "    </tr>\n",
       "  </tbody>\n",
       "</table>\n",
       "</div>"
      ],
      "text/plain": [
       "    passenger_name tpep_pickup_datetime tpep_dropoff_datetime payment_method  \\\n",
       "0     Pamela Duffy  2017-03-25 08:55:43   2017-03-25 09:09:47           Card   \n",
       "1  Michelle Foster  2017-04-11 14:53:28   2017-04-11 15:19:58           Card   \n",
       "2       Tina Combs  2017-12-15 07:26:56   2017-12-15 07:34:08           Card   \n",
       "3      Anthony Ray  2017-05-07 13:17:59   2017-05-07 13:48:14           Cash   \n",
       "4  Brianna Johnson  2017-04-15 23:32:20   2017-04-15 23:49:03           Card   \n",
       "\n",
       "   passenger_count  trip_distance  fare_amount  tip_amount  tolls_amount  \\\n",
       "0                6           3.34         13.0        2.76           0.0   \n",
       "1                1           1.80         16.0        4.00           0.0   \n",
       "2                1           1.00          6.5        1.45           0.0   \n",
       "3                1           3.70         20.5        6.39           0.0   \n",
       "4                1           4.37         16.5        0.00           0.0   \n",
       "\n",
       "  passenger_first_name     travel_time  \n",
       "0               Pamela 0 days 00:14:04  \n",
       "1             Michelle 0 days 00:26:30  \n",
       "2                 Tina 0 days 00:07:12  \n",
       "3              Anthony 0 days 00:30:15  \n",
       "4              Brianna 0 days 00:16:43  "
      ]
     },
     "execution_count": 338,
     "metadata": {},
     "output_type": "execute_result"
    }
   ],
   "source": [
    "data.head()"
   ]
  },
  {
   "cell_type": "code",
   "execution_count": 339,
   "id": "2f43a9c3",
   "metadata": {},
   "outputs": [
    {
     "name": "stdout",
     "output_type": "stream",
     "text": [
      "<class 'pandas.core.frame.DataFrame'>\n",
      "Int64Index: 22495 entries, 0 to 22700\n",
      "Data columns (total 11 columns):\n",
      " #   Column                 Non-Null Count  Dtype          \n",
      "---  ------                 --------------  -----          \n",
      " 0   passenger_name         22495 non-null  object         \n",
      " 1   tpep_pickup_datetime   22495 non-null  datetime64[ns] \n",
      " 2   tpep_dropoff_datetime  22495 non-null  datetime64[ns] \n",
      " 3   payment_method         22495 non-null  object         \n",
      " 4   passenger_count        22495 non-null  int64          \n",
      " 5   trip_distance          22495 non-null  float64        \n",
      " 6   fare_amount            22495 non-null  float64        \n",
      " 7   tip_amount             22495 non-null  float64        \n",
      " 8   tolls_amount           22495 non-null  float64        \n",
      " 9   passenger_first_name   22495 non-null  object         \n",
      " 10  travel_time            22495 non-null  timedelta64[ns]\n",
      "dtypes: datetime64[ns](2), float64(4), int64(1), object(3), timedelta64[ns](1)\n",
      "memory usage: 2.1+ MB\n"
     ]
    }
   ],
   "source": [
    "data.info()"
   ]
  },
  {
   "cell_type": "code",
   "execution_count": 340,
   "id": "b7af0446",
   "metadata": {},
   "outputs": [],
   "source": [
    "data['travel_time'] = data['travel_time'].map(lambda x: x.seconds)"
   ]
  },
  {
   "cell_type": "code",
   "execution_count": 341,
   "id": "94398f5d",
   "metadata": {},
   "outputs": [
    {
     "data": {
      "text/plain": [
       "0         844\n",
       "1        1590\n",
       "2         432\n",
       "3        1815\n",
       "4        1003\n",
       "         ... \n",
       "22696     196\n",
       "22697    2448\n",
       "22698     248\n",
       "22699     716\n",
       "22700     800\n",
       "Name: travel_time, Length: 22495, dtype: int64"
      ]
     },
     "execution_count": 341,
     "metadata": {},
     "output_type": "execute_result"
    }
   ],
   "source": [
    "data['travel_time']"
   ]
  },
  {
   "cell_type": "markdown",
   "id": "3b67fa16",
   "metadata": {},
   "source": [
    "# 보너스"
   ]
  },
  {
   "cell_type": "code",
   "execution_count": 342,
   "id": "fe98d13e",
   "metadata": {},
   "outputs": [],
   "source": [
    "data['total_amount'] = data['fare_amount'] + data['tip_amount']"
   ]
  },
  {
   "cell_type": "markdown",
   "id": "cfd48aec",
   "metadata": {},
   "source": [
    "### 튀는 값이 있으나 대체로 양의 상관관계를 보임"
   ]
  },
  {
   "cell_type": "code",
   "execution_count": 343,
   "id": "5cce971c",
   "metadata": {},
   "outputs": [
    {
     "data": {
      "text/plain": [
       "<AxesSubplot:xlabel='trip_distance', ylabel='fare_amount'>"
      ]
     },
     "execution_count": 343,
     "metadata": {},
     "output_type": "execute_result"
    },
    {
     "data": {
      "image/png": "[encoded data removed]",
      "text/plain": [
       "<Figure size 432x288 with 1 Axes>"
      ]
     },
     "metadata": {
      "needs_background": "light"
     },
     "output_type": "display_data"
    }
   ],
   "source": [
    "sns.scatterplot(x=data['trip_distance'], y=data['fare_amount'])"
   ]
  },
  {
   "cell_type": "markdown",
   "id": "1e81354d",
   "metadata": {},
   "source": [
    "### travel_time에 비해 fare_amount가 적은 특이사항 식별"
   ]
  },
  {
   "cell_type": "code",
   "execution_count": 344,
   "id": "0d02c513",
   "metadata": {},
   "outputs": [
    {
     "data": {
      "text/plain": [
       "<AxesSubplot:xlabel='travel_time', ylabel='fare_amount'>"
      ]
     },
     "execution_count": 344,
     "metadata": {},
     "output_type": "execute_result"
    },
    {
     "data": {
      "image/png": "[encoded data removed]",
      "text/plain": [
       "<Figure size 432x288 with 1 Axes>"
      ]
     },
     "metadata": {
      "needs_background": "light"
     },
     "output_type": "display_data"
    }
   ],
   "source": [
    "sns.scatterplot(x=data['travel_time'], y=data['fare_amount'])"
   ]
  },
  {
   "cell_type": "markdown",
   "id": "73c9110f",
   "metadata": {},
   "source": [
    "### 위와 동일하게 travel_time에 비해 trip_distance가 짧은 특이사항 식별"
   ]
  },
  {
   "cell_type": "code",
   "execution_count": 345,
   "id": "d2456abc",
   "metadata": {},
   "outputs": [
    {
     "data": {
      "text/plain": [
       "<AxesSubplot:xlabel='travel_time', ylabel='trip_distance'>"
      ]
     },
     "execution_count": 345,
     "metadata": {},
     "output_type": "execute_result"
    },
    {
     "data": {
      "image/png": "[encoded data removed]",
      "text/plain": [
       "<Figure size 432x288 with 1 Axes>"
      ]
     },
     "metadata": {
      "needs_background": "light"
     },
     "output_type": "display_data"
    }
   ],
   "source": [
    "sns.scatterplot(x=data['travel_time'], y=data['trip_distance'])"
   ]
  },
  {
   "cell_type": "markdown",
   "id": "122db886",
   "metadata": {},
   "source": [
    "### travel_time이 60000 이상인 경우, 높은 travel_time에 비해 trip_distance와 fare_amount가 낮으며, 19000이상인 경우도 근처에 비슷한 간격의 다른 값이 없으며 비슷한 값도 없으므로 이상치로 판단 후 제거"
   ]
  },
  {
   "cell_type": "code",
   "execution_count": 346,
   "id": "ef9816dd",
   "metadata": {},
   "outputs": [
    {
     "data": {
      "text/html": [
       "<div>\n",
       "<style scoped>\n",
       "    .dataframe tbody tr th:only-of-type {\n",
       "        vertical-align: middle;\n",
       "    }\n",
       "\n",
       "    .dataframe tbody tr th {\n",
       "        vertical-align: top;\n",
       "    }\n",
       "\n",
       "    .dataframe thead th {\n",
       "        text-align: right;\n",
       "    }\n",
       "</style>\n",
       "<table border=\"1\" class=\"dataframe\">\n",
       "  <thead>\n",
       "    <tr style=\"text-align: right;\">\n",
       "      <th></th>\n",
       "      <th>passenger_count</th>\n",
       "      <th>trip_distance</th>\n",
       "      <th>fare_amount</th>\n",
       "      <th>tip_amount</th>\n",
       "      <th>tolls_amount</th>\n",
       "      <th>travel_time</th>\n",
       "      <th>total_amount</th>\n",
       "    </tr>\n",
       "  </thead>\n",
       "  <tbody>\n",
       "    <tr>\n",
       "      <th>count</th>\n",
       "      <td>22495.000000</td>\n",
       "      <td>22495.000000</td>\n",
       "      <td>22495.000000</td>\n",
       "      <td>22495.000000</td>\n",
       "      <td>22495.000000</td>\n",
       "      <td>22495.000000</td>\n",
       "      <td>22495.000000</td>\n",
       "    </tr>\n",
       "    <tr>\n",
       "      <th>mean</th>\n",
       "      <td>1.646055</td>\n",
       "      <td>2.929325</td>\n",
       "      <td>12.916231</td>\n",
       "      <td>1.815606</td>\n",
       "      <td>0.308365</td>\n",
       "      <td>1027.334519</td>\n",
       "      <td>14.731836</td>\n",
       "    </tr>\n",
       "    <tr>\n",
       "      <th>std</th>\n",
       "      <td>1.285713</td>\n",
       "      <td>3.643941</td>\n",
       "      <td>10.731921</td>\n",
       "      <td>2.367239</td>\n",
       "      <td>1.380942</td>\n",
       "      <td>3736.927933</td>\n",
       "      <td>12.287204</td>\n",
       "    </tr>\n",
       "    <tr>\n",
       "      <th>min</th>\n",
       "      <td>1.000000</td>\n",
       "      <td>0.010000</td>\n",
       "      <td>0.010000</td>\n",
       "      <td>0.000000</td>\n",
       "      <td>0.000000</td>\n",
       "      <td>1.000000</td>\n",
       "      <td>0.010000</td>\n",
       "    </tr>\n",
       "    <tr>\n",
       "      <th>25%</th>\n",
       "      <td>1.000000</td>\n",
       "      <td>1.000000</td>\n",
       "      <td>6.500000</td>\n",
       "      <td>0.000000</td>\n",
       "      <td>0.000000</td>\n",
       "      <td>404.000000</td>\n",
       "      <td>7.500000</td>\n",
       "    </tr>\n",
       "    <tr>\n",
       "      <th>50%</th>\n",
       "      <td>1.000000</td>\n",
       "      <td>1.630000</td>\n",
       "      <td>9.500000</td>\n",
       "      <td>1.360000</td>\n",
       "      <td>0.000000</td>\n",
       "      <td>674.000000</td>\n",
       "      <td>10.950000</td>\n",
       "    </tr>\n",
       "    <tr>\n",
       "      <th>75%</th>\n",
       "      <td>2.000000</td>\n",
       "      <td>3.090000</td>\n",
       "      <td>14.500000</td>\n",
       "      <td>2.450000</td>\n",
       "      <td>0.000000</td>\n",
       "      <td>1107.000000</td>\n",
       "      <td>16.500000</td>\n",
       "    </tr>\n",
       "    <tr>\n",
       "      <th>max</th>\n",
       "      <td>6.000000</td>\n",
       "      <td>33.960000</td>\n",
       "      <td>150.000000</td>\n",
       "      <td>28.000000</td>\n",
       "      <td>19.100000</td>\n",
       "      <td>86373.000000</td>\n",
       "      <td>150.000000</td>\n",
       "    </tr>\n",
       "  </tbody>\n",
       "</table>\n",
       "</div>"
      ],
      "text/plain": [
       "       passenger_count  trip_distance   fare_amount    tip_amount  \\\n",
       "count     22495.000000   22495.000000  22495.000000  22495.000000   \n",
       "mean          1.646055       2.929325     12.916231      1.815606   \n",
       "std           1.285713       3.643941     10.731921      2.367239   \n",
       "min           1.000000       0.010000      0.010000      0.000000   \n",
       "25%           1.000000       1.000000      6.500000      0.000000   \n",
       "50%           1.000000       1.630000      9.500000      1.360000   \n",
       "75%           2.000000       3.090000     14.500000      2.450000   \n",
       "max           6.000000      33.960000    150.000000     28.000000   \n",
       "\n",
       "       tolls_amount   travel_time  total_amount  \n",
       "count  22495.000000  22495.000000  22495.000000  \n",
       "mean       0.308365   1027.334519     14.731836  \n",
       "std        1.380942   3736.927933     12.287204  \n",
       "min        0.000000      1.000000      0.010000  \n",
       "25%        0.000000    404.000000      7.500000  \n",
       "50%        0.000000    674.000000     10.950000  \n",
       "75%        0.000000   1107.000000     16.500000  \n",
       "max       19.100000  86373.000000    150.000000  "
      ]
     },
     "execution_count": 346,
     "metadata": {},
     "output_type": "execute_result"
    }
   ],
   "source": [
    "data.describe()"
   ]
  },
  {
   "cell_type": "code",
   "execution_count": 347,
   "id": "e3a20c08",
   "metadata": {},
   "outputs": [
    {
     "data": {
      "text/plain": [
       "2690      5886\n",
       "12894     5904\n",
       "11610     6060\n",
       "2476      6084\n",
       "2515      6100\n",
       "1254      6120\n",
       "175       6323\n",
       "18539     6554\n",
       "16407     6571\n",
       "1929      6694\n",
       "3543      7010\n",
       "11544     7132\n",
       "820       7759\n",
       "19485     9559\n",
       "30       12550\n",
       "5053     19927\n",
       "13221    41393\n",
       "11887    44163\n",
       "8197     77933\n",
       "7171     83208\n",
       "17396    83504\n",
       "13149    83523\n",
       "4602     83693\n",
       "1357     83964\n",
       "5480     83999\n",
       "11674    84784\n",
       "14411    84880\n",
       "8714     85118\n",
       "1760     85221\n",
       "12564    85255\n",
       "9358     85381\n",
       "9210     85389\n",
       "14324    85445\n",
       "19166    85451\n",
       "1201     85491\n",
       "21650    85724\n",
       "22280    85759\n",
       "1012     85802\n",
       "699      85850\n",
       "13798    85851\n",
       "5372     85864\n",
       "20689    85876\n",
       "18425    85924\n",
       "18545    85975\n",
       "10212    86039\n",
       "10931    86107\n",
       "8871     86148\n",
       "21513    86187\n",
       "21420    86190\n",
       "7014     86200\n",
       "18652    86218\n",
       "6495     86270\n",
       "6753     86282\n",
       "21368    86296\n",
       "7941     86308\n",
       "15165    86313\n",
       "22640    86319\n",
       "15000    86331\n",
       "15581    86349\n",
       "926      86373\n",
       "Name: travel_time, dtype: int64"
      ]
     },
     "execution_count": 347,
     "metadata": {},
     "output_type": "execute_result"
    }
   ],
   "source": [
    "data['travel_time'].sort_values().tail(60)"
   ]
  },
  {
   "cell_type": "code",
   "execution_count": 349,
   "id": "a5df6f4d",
   "metadata": {},
   "outputs": [],
   "source": [
    "data = data.loc[data['travel_time']<19000]"
   ]
  },
  {
   "cell_type": "code",
   "execution_count": 350,
   "id": "3db21385",
   "metadata": {},
   "outputs": [
    {
     "data": {
      "text/html": [
       "<div>\n",
       "<style scoped>\n",
       "    .dataframe tbody tr th:only-of-type {\n",
       "        vertical-align: middle;\n",
       "    }\n",
       "\n",
       "    .dataframe tbody tr th {\n",
       "        vertical-align: top;\n",
       "    }\n",
       "\n",
       "    .dataframe thead th {\n",
       "        text-align: right;\n",
       "    }\n",
       "</style>\n",
       "<table border=\"1\" class=\"dataframe\">\n",
       "  <thead>\n",
       "    <tr style=\"text-align: right;\">\n",
       "      <th></th>\n",
       "      <th>passenger_name</th>\n",
       "      <th>tpep_pickup_datetime</th>\n",
       "      <th>tpep_dropoff_datetime</th>\n",
       "      <th>payment_method</th>\n",
       "      <th>passenger_count</th>\n",
       "      <th>trip_distance</th>\n",
       "      <th>fare_amount</th>\n",
       "      <th>tip_amount</th>\n",
       "      <th>tolls_amount</th>\n",
       "      <th>passenger_first_name</th>\n",
       "      <th>travel_time</th>\n",
       "      <th>total_amount</th>\n",
       "    </tr>\n",
       "  </thead>\n",
       "  <tbody>\n",
       "    <tr>\n",
       "      <th>0</th>\n",
       "      <td>Pamela Duffy</td>\n",
       "      <td>2017-03-25 08:55:43</td>\n",
       "      <td>2017-03-25 09:09:47</td>\n",
       "      <td>Card</td>\n",
       "      <td>6</td>\n",
       "      <td>3.34</td>\n",
       "      <td>13.0</td>\n",
       "      <td>2.76</td>\n",
       "      <td>0.00</td>\n",
       "      <td>Pamela</td>\n",
       "      <td>844</td>\n",
       "      <td>15.76</td>\n",
       "    </tr>\n",
       "    <tr>\n",
       "      <th>1</th>\n",
       "      <td>Michelle Foster</td>\n",
       "      <td>2017-04-11 14:53:28</td>\n",
       "      <td>2017-04-11 15:19:58</td>\n",
       "      <td>Card</td>\n",
       "      <td>1</td>\n",
       "      <td>1.80</td>\n",
       "      <td>16.0</td>\n",
       "      <td>4.00</td>\n",
       "      <td>0.00</td>\n",
       "      <td>Michelle</td>\n",
       "      <td>1590</td>\n",
       "      <td>20.00</td>\n",
       "    </tr>\n",
       "    <tr>\n",
       "      <th>2</th>\n",
       "      <td>Tina Combs</td>\n",
       "      <td>2017-12-15 07:26:56</td>\n",
       "      <td>2017-12-15 07:34:08</td>\n",
       "      <td>Card</td>\n",
       "      <td>1</td>\n",
       "      <td>1.00</td>\n",
       "      <td>6.5</td>\n",
       "      <td>1.45</td>\n",
       "      <td>0.00</td>\n",
       "      <td>Tina</td>\n",
       "      <td>432</td>\n",
       "      <td>7.95</td>\n",
       "    </tr>\n",
       "    <tr>\n",
       "      <th>3</th>\n",
       "      <td>Anthony Ray</td>\n",
       "      <td>2017-05-07 13:17:59</td>\n",
       "      <td>2017-05-07 13:48:14</td>\n",
       "      <td>Cash</td>\n",
       "      <td>1</td>\n",
       "      <td>3.70</td>\n",
       "      <td>20.5</td>\n",
       "      <td>6.39</td>\n",
       "      <td>0.00</td>\n",
       "      <td>Anthony</td>\n",
       "      <td>1815</td>\n",
       "      <td>26.89</td>\n",
       "    </tr>\n",
       "    <tr>\n",
       "      <th>4</th>\n",
       "      <td>Brianna Johnson</td>\n",
       "      <td>2017-04-15 23:32:20</td>\n",
       "      <td>2017-04-15 23:49:03</td>\n",
       "      <td>Card</td>\n",
       "      <td>1</td>\n",
       "      <td>4.37</td>\n",
       "      <td>16.5</td>\n",
       "      <td>0.00</td>\n",
       "      <td>0.00</td>\n",
       "      <td>Brianna</td>\n",
       "      <td>1003</td>\n",
       "      <td>16.50</td>\n",
       "    </tr>\n",
       "    <tr>\n",
       "      <th>...</th>\n",
       "      <td>...</td>\n",
       "      <td>...</td>\n",
       "      <td>...</td>\n",
       "      <td>...</td>\n",
       "      <td>...</td>\n",
       "      <td>...</td>\n",
       "      <td>...</td>\n",
       "      <td>...</td>\n",
       "      <td>...</td>\n",
       "      <td>...</td>\n",
       "      <td>...</td>\n",
       "      <td>...</td>\n",
       "    </tr>\n",
       "    <tr>\n",
       "      <th>22696</th>\n",
       "      <td>Austin Johnson</td>\n",
       "      <td>2017-02-24 17:37:23</td>\n",
       "      <td>2017-02-24 17:40:39</td>\n",
       "      <td>Cash</td>\n",
       "      <td>3</td>\n",
       "      <td>0.61</td>\n",
       "      <td>4.0</td>\n",
       "      <td>0.00</td>\n",
       "      <td>0.00</td>\n",
       "      <td>Austin</td>\n",
       "      <td>196</td>\n",
       "      <td>4.00</td>\n",
       "    </tr>\n",
       "    <tr>\n",
       "      <th>22697</th>\n",
       "      <td>Monique Williams</td>\n",
       "      <td>2017-08-06 16:43:59</td>\n",
       "      <td>2017-08-06 17:24:47</td>\n",
       "      <td>Cash</td>\n",
       "      <td>1</td>\n",
       "      <td>16.71</td>\n",
       "      <td>52.0</td>\n",
       "      <td>14.64</td>\n",
       "      <td>5.76</td>\n",
       "      <td>Monique</td>\n",
       "      <td>2448</td>\n",
       "      <td>66.64</td>\n",
       "    </tr>\n",
       "    <tr>\n",
       "      <th>22698</th>\n",
       "      <td>Drew Graves</td>\n",
       "      <td>2017-09-04 14:54:14</td>\n",
       "      <td>2017-09-04 14:58:22</td>\n",
       "      <td>Card</td>\n",
       "      <td>1</td>\n",
       "      <td>0.42</td>\n",
       "      <td>4.5</td>\n",
       "      <td>0.00</td>\n",
       "      <td>0.00</td>\n",
       "      <td>Drew</td>\n",
       "      <td>248</td>\n",
       "      <td>4.50</td>\n",
       "    </tr>\n",
       "    <tr>\n",
       "      <th>22699</th>\n",
       "      <td>Jonathan Copeland</td>\n",
       "      <td>2017-07-15 12:56:30</td>\n",
       "      <td>2017-07-15 13:08:26</td>\n",
       "      <td>Card</td>\n",
       "      <td>1</td>\n",
       "      <td>2.36</td>\n",
       "      <td>10.5</td>\n",
       "      <td>1.70</td>\n",
       "      <td>0.00</td>\n",
       "      <td>Jonathan</td>\n",
       "      <td>716</td>\n",
       "      <td>12.20</td>\n",
       "    </tr>\n",
       "    <tr>\n",
       "      <th>22700</th>\n",
       "      <td>Benjamin Miller</td>\n",
       "      <td>2017-03-02 13:02:49</td>\n",
       "      <td>2017-03-02 13:16:09</td>\n",
       "      <td>Cash</td>\n",
       "      <td>1</td>\n",
       "      <td>2.10</td>\n",
       "      <td>11.0</td>\n",
       "      <td>2.35</td>\n",
       "      <td>0.00</td>\n",
       "      <td>Benjamin</td>\n",
       "      <td>800</td>\n",
       "      <td>13.35</td>\n",
       "    </tr>\n",
       "  </tbody>\n",
       "</table>\n",
       "<p>22450 rows × 12 columns</p>\n",
       "</div>"
      ],
      "text/plain": [
       "          passenger_name tpep_pickup_datetime tpep_dropoff_datetime  \\\n",
       "0           Pamela Duffy  2017-03-25 08:55:43   2017-03-25 09:09:47   \n",
       "1        Michelle Foster  2017-04-11 14:53:28   2017-04-11 15:19:58   \n",
       "2             Tina Combs  2017-12-15 07:26:56   2017-12-15 07:34:08   \n",
       "3            Anthony Ray  2017-05-07 13:17:59   2017-05-07 13:48:14   \n",
       "4        Brianna Johnson  2017-04-15 23:32:20   2017-04-15 23:49:03   \n",
       "...                  ...                  ...                   ...   \n",
       "22696     Austin Johnson  2017-02-24 17:37:23   2017-02-24 17:40:39   \n",
       "22697   Monique Williams  2017-08-06 16:43:59   2017-08-06 17:24:47   \n",
       "22698        Drew Graves  2017-09-04 14:54:14   2017-09-04 14:58:22   \n",
       "22699  Jonathan Copeland  2017-07-15 12:56:30   2017-07-15 13:08:26   \n",
       "22700    Benjamin Miller  2017-03-02 13:02:49   2017-03-02 13:16:09   \n",
       "\n",
       "      payment_method  passenger_count  trip_distance  fare_amount  tip_amount  \\\n",
       "0               Card                6           3.34         13.0        2.76   \n",
       "1               Card                1           1.80         16.0        4.00   \n",
       "2               Card                1           1.00          6.5        1.45   \n",
       "3               Cash                1           3.70         20.5        6.39   \n",
       "4               Card                1           4.37         16.5        0.00   \n",
       "...              ...              ...            ...          ...         ...   \n",
       "22696           Cash                3           0.61          4.0        0.00   \n",
       "22697           Cash                1          16.71         52.0       14.64   \n",
       "22698           Card                1           0.42          4.5        0.00   \n",
       "22699           Card                1           2.36         10.5        1.70   \n",
       "22700           Cash                1           2.10         11.0        2.35   \n",
       "\n",
       "       tolls_amount passenger_first_name  travel_time  total_amount  \n",
       "0              0.00               Pamela          844         15.76  \n",
       "1              0.00             Michelle         1590         20.00  \n",
       "2              0.00                 Tina          432          7.95  \n",
       "3              0.00              Anthony         1815         26.89  \n",
       "4              0.00              Brianna         1003         16.50  \n",
       "...             ...                  ...          ...           ...  \n",
       "22696          0.00               Austin          196          4.00  \n",
       "22697          5.76              Monique         2448         66.64  \n",
       "22698          0.00                 Drew          248          4.50  \n",
       "22699          0.00             Jonathan          716         12.20  \n",
       "22700          0.00             Benjamin          800         13.35  \n",
       "\n",
       "[22450 rows x 12 columns]"
      ]
     },
     "execution_count": 350,
     "metadata": {},
     "output_type": "execute_result"
    }
   ],
   "source": [
    "data"
   ]
  },
  {
   "cell_type": "code",
   "execution_count": null,
   "id": "f50acff3",
   "metadata": {},
   "outputs": [],
   "source": []
  }
 ],
 "metadata": {
  "kernelspec": {
   "display_name": "Python 3 (ipykernel)",
   "language": "python",
   "name": "python3"
  },
  "language_info": {
   "codemirror_mode": {
    "name": "ipython",
    "version": 3
   },
   "file_extension": ".py",
   "mimetype": "text/x-python",
   "name": "python",
   "nbconvert_exporter": "python",
   "pygments_lexer": "ipython3",
   "version": "3.9.7"
  }
 },
 "nbformat": 4,
 "nbformat_minor": 5
}
